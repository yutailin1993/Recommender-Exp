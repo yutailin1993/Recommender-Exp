{
 "cells": [
  {
   "cell_type": "code",
   "execution_count": 1,
   "metadata": {
    "scrolled": false
   },
   "outputs": [
    {
     "name": "stderr",
     "output_type": "stream",
     "text": [
      "/Users/larry/Py3/lib/python3.6/importlib/_bootstrap.py:205: RuntimeWarning: compiletime version 3.5 of module 'tensorflow.python.framework.fast_tensor_util' does not match runtime version 3.6\n",
      "  return f(*args, **kwds)\n"
     ]
    }
   ],
   "source": [
    "import numpy as np\n",
    "import pandas as pd\n",
    "import matplotlib.pyplot as plt\n",
    "from preprocess import Preprocess\n",
    "import tensorflow as tf\n",
    "import rrn\n",
    "\n",
    "from sklearn.cluster import KMeans, spectral_clustering\n",
    "from sklearn.decomposition import PCA"
   ]
  },
  {
   "cell_type": "markdown",
   "metadata": {},
   "source": [
    "# Load Data and user/item vectors"
   ]
  },
  {
   "cell_type": "code",
   "execution_count": 2,
   "metadata": {
    "collapsed": true,
    "scrolled": true
   },
   "outputs": [],
   "source": [
    "df = pd.read_csv('../data/class/rating_data.csv')\n",
    "df['freq'] = df.groupby('uid')['uid'].transform('count')  # count frequncy by column's values\n",
    "df = df[df['freq'] > 5]  # remove row which corresponding frequence < 5\n",
    "df_array = df.as_matrix()\n",
    "\n",
    "user_vectors = np.load('../data/class/user_vectors.npy')\n",
    "item_vectors = np.load('../data/class/item_vectors.npy')\n",
    "\n",
    "user_time_interval = 3 * 30\n",
    "item_time_interval = 3 * 30"
   ]
  },
  {
   "cell_type": "markdown",
   "metadata": {},
   "source": [
    "# Top List preprocess"
   ]
  },
  {
   "cell_type": "code",
   "execution_count": 3,
   "metadata": {
    "collapsed": true
   },
   "outputs": [],
   "source": [
    "df_item = pd.DataFrame(df['iid'])\n",
    "df_item.column = ['iid']\n",
    "df_item['freq'] = df_item.groupby('iid')['iid'].transform('count')\n",
    "df_item = df_item.drop_duplicates()\n",
    "df_item = df_item.sort_values(by=['freq'], ascending=False)\n",
    "top_list = df_item['iid'].as_matrix()\n",
    "\n",
    "top_ranks = []\n",
    "for i in range(1, 10):\n",
    "    top_ranks.append(top_list[:i*10])"
   ]
  },
  {
   "cell_type": "markdown",
   "metadata": {},
   "source": [
    "# Data preprocessing"
   ]
  },
  {
   "cell_type": "code",
   "execution_count": 4,
   "metadata": {
    "collapsed": true
   },
   "outputs": [],
   "source": [
    "import math\n",
    "def get_map(list_):\n",
    "    map_ = {}\n",
    "    for idx, ident in enumerate(list_):\n",
    "        map_[ident] = idx\n",
    "        \n",
    "    return map_\n",
    "\n",
    "def train_test_split(df, time_interval, split_rate= 0.125):\n",
    "    start_time = min(df['timestamp'])\n",
    "    end_time = max(df['timestamp'])\n",
    "    time_elapse = (end_time-start_time) // time_interval\n",
    "    split_time = start_time + math.floor(time_elapse * (1-split_rate)) * time_interval\n",
    "    \n",
    "    df_train = df[df['timestamp'] < split_time]\n",
    "    df_test = df[df['timestamp'] >= split_time]\n",
    "    \n",
    "    return df_train, df_test"
   ]
  },
  {
   "cell_type": "code",
   "execution_count": 15,
   "metadata": {
    "collapsed": true
   },
   "outputs": [],
   "source": [
    "total_userList = np.unique(df['uid'])\n",
    "total_itemList = np.unique(df['iid'])\n",
    "user_map = get_map(userList)\n",
    "item_map = get_map(itemList)\n",
    "initial_time = min(df['timestamp'])"
   ]
  },
  {
   "cell_type": "markdown",
   "metadata": {},
   "source": [
    "# Clustering"
   ]
  },
  {
   "cell_type": "code",
   "execution_count": 6,
   "metadata": {},
   "outputs": [],
   "source": [
    "total_usr = len(userList)\n",
    "total_item = len(itemList)\n",
    "\n",
    "rating = np.zeros((total_usr, total_item), dtype=np.float32)\n",
    "for line in df_array:\n",
    "    uid = user_map[line[0]]\n",
    "    iid = item_map[line[1]]\n",
    "    rating[uid, iid] = 1"
   ]
  },
  {
   "cell_type": "code",
   "execution_count": 7,
   "metadata": {},
   "outputs": [
    {
     "data": {
      "text/plain": [
       "KMeans(algorithm='full', copy_x=True, init='k-means++', max_iter=300,\n",
       "    n_clusters=10, n_init=20, n_jobs=1, precompute_distances='auto',\n",
       "    random_state=None, tol=0.0001, verbose=0)"
      ]
     },
     "execution_count": 7,
     "metadata": {},
     "output_type": "execute_result"
    }
   ],
   "source": [
    "pca = PCA(n_components=50, svd_solver='full')\n",
    "pca_out = pca.fit_transform(rating)\n",
    "NUM_CLUSTER = 10\n",
    "kmeans = KMeans(n_clusters=NUM_CLUSTER, n_init=20, algorithm='full')\n",
    "\n",
    "\n",
    "kmeans.fit(pca_out)"
   ]
  },
  {
   "cell_type": "code",
   "execution_count": 8,
   "metadata": {},
   "outputs": [
    {
     "name": "stdout",
     "output_type": "stream",
     "text": [
      "{1: 121, 4: 144, 0: 27, 6: 123, 8: 49, 3: 7, 7: 126, 2: 79, 5: 64, 9: 99}\n"
     ]
    }
   ],
   "source": [
    "label_map = {}\n",
    "for i in kmeans.labels_:\n",
    "    if i not in label_map:\n",
    "        label_map[i] = 1\n",
    "    else:\n",
    "        label_map[i] += 1\n",
    "\n",
    "print (label_map)"
   ]
  },
  {
   "cell_type": "code",
   "execution_count": 9,
   "metadata": {
    "collapsed": true
   },
   "outputs": [],
   "source": [
    "label_index = {}\n",
    "for i in range(12):\n",
    "    label_index[i] = []\n",
    "    \n",
    "label_list = list(kmeans.labels_)\n",
    "\n",
    "for idx, i in enumerate(label_list):\n",
    "    label_index[i].append(idx)"
   ]
  },
  {
   "cell_type": "markdown",
   "metadata": {},
   "source": [
    "### Add cluster label to dataframe"
   ]
  },
  {
   "cell_type": "code",
   "execution_count": 10,
   "metadata": {
    "scrolled": true
   },
   "outputs": [],
   "source": [
    "df_new = df\n",
    "df_new['label'] = -1\n",
    "\n",
    "for i in range(NUM_CLUSTER):\n",
    "    for j in label_index[i]:\n",
    "        df_new.loc[df_new['uid'] == j+1, 'label'] = i"
   ]
  },
  {
   "cell_type": "markdown",
   "metadata": {},
   "source": [
    "## rrn"
   ]
  },
  {
   "cell_type": "code",
   "execution_count": 11,
   "metadata": {
    "collapsed": true
   },
   "outputs": [],
   "source": [
    "def get_hparas(batch_size, vector_length, time_interval, name):\n",
    "    hparas={\n",
    "        'NAME': name,\n",
    "        'EMBED_UNITS': 40,\n",
    "        'BATCH_SIZE': batch_size,\n",
    "        'LSTM_UNITS': 40,\n",
    "        'LATENT_UNITS': 20,\n",
    "        'VECTOR_LENGTH': vector_length+3,\n",
    "        'TRAIN_TIME_ELAPSE': 21,\n",
    "        'TEST_TIME_ELAPSE': 3,\n",
    "        'STATIONARY_LENGTH': 20,\n",
    "        'TIME_INTERVAL': time_interval,\n",
    "    }\n",
    "    \n",
    "    return hparas"
   ]
  },
  {
   "cell_type": "code",
   "execution_count": 12,
   "metadata": {
    "scrolled": true
   },
   "outputs": [
    {
     "name": "stderr",
     "output_type": "stream",
     "text": [
      "100%|██████████| 200/200 [00:06<00:00, 30.24it/s]\n"
     ]
    },
    {
     "name": "stdout",
     "output_type": "stream",
     "text": [
      "INFO:tensorflow:Restoring parameters from model/rrn_class_rmse_0.ckpt\n"
     ]
    },
    {
     "name": "stderr",
     "output_type": "stream",
     "text": [
      "100%|██████████| 200/200 [00:22<00:00,  8.97it/s]\n"
     ]
    },
    {
     "name": "stdout",
     "output_type": "stream",
     "text": [
      "INFO:tensorflow:Restoring parameters from model/rrn_class_rmse_1.ckpt\n"
     ]
    },
    {
     "name": "stderr",
     "output_type": "stream",
     "text": [
      "100%|██████████| 200/200 [00:21<00:00,  9.09it/s]\n"
     ]
    },
    {
     "name": "stdout",
     "output_type": "stream",
     "text": [
      "INFO:tensorflow:Restoring parameters from model/rrn_class_rmse_2.ckpt\n"
     ]
    },
    {
     "name": "stderr",
     "output_type": "stream",
     "text": [
      "100%|██████████| 200/200 [00:05<00:00, 33.35it/s]\n"
     ]
    },
    {
     "name": "stdout",
     "output_type": "stream",
     "text": [
      "INFO:tensorflow:Restoring parameters from model/rrn_class_rmse_3.ckpt\n"
     ]
    },
    {
     "name": "stderr",
     "output_type": "stream",
     "text": [
      "100%|██████████| 200/200 [00:27<00:00,  7.32it/s]\n"
     ]
    },
    {
     "name": "stdout",
     "output_type": "stream",
     "text": [
      "INFO:tensorflow:Restoring parameters from model/rrn_class_rmse_4.ckpt\n"
     ]
    },
    {
     "name": "stderr",
     "output_type": "stream",
     "text": [
      "100%|██████████| 200/200 [00:17<00:00, 11.26it/s]\n"
     ]
    },
    {
     "name": "stdout",
     "output_type": "stream",
     "text": [
      "INFO:tensorflow:Restoring parameters from model/rrn_class_rmse_5.ckpt\n"
     ]
    },
    {
     "name": "stderr",
     "output_type": "stream",
     "text": [
      "100%|██████████| 200/200 [00:11<00:00, 17.05it/s]\n"
     ]
    },
    {
     "name": "stdout",
     "output_type": "stream",
     "text": [
      "INFO:tensorflow:Restoring parameters from model/rrn_class_rmse_6.ckpt\n"
     ]
    },
    {
     "name": "stderr",
     "output_type": "stream",
     "text": [
      "100%|██████████| 200/200 [00:15<00:00, 12.67it/s]\n"
     ]
    },
    {
     "name": "stdout",
     "output_type": "stream",
     "text": [
      "INFO:tensorflow:Restoring parameters from model/rrn_class_rmse_7.ckpt\n"
     ]
    },
    {
     "name": "stderr",
     "output_type": "stream",
     "text": [
      "100%|██████████| 200/200 [00:11<00:00, 16.71it/s]\n"
     ]
    },
    {
     "name": "stdout",
     "output_type": "stream",
     "text": [
      "INFO:tensorflow:Restoring parameters from model/rrn_class_rmse_8.ckpt\n"
     ]
    },
    {
     "name": "stderr",
     "output_type": "stream",
     "text": [
      "100%|██████████| 200/200 [00:22<00:00,  8.78it/s]\n"
     ]
    },
    {
     "name": "stdout",
     "output_type": "stream",
     "text": [
      "INFO:tensorflow:Restoring parameters from model/rrn_class_rmse_9.ckpt\n"
     ]
    }
   ],
   "source": [
    "cluster_rmse = []\n",
    "\n",
    "for i in range(NUM_CLUSTER):\n",
    "    df_I = df_new[df_new['label'] == i]\n",
    "    userList_I = np.unique(df_I['uid'])\n",
    "    itemList_I = np.unique(df_I['iid'])\n",
    "    \n",
    "    user_cluster_map = get_map(userList_I)\n",
    "    item_cluster_map = get_map(itemList_I)\n",
    "    \n",
    "    all_user_item_num = (len(userList_I), len(itemList_I))\n",
    "    \n",
    "    df_train_I, df_test_I = train_test_split(df_I, user_time_interval * 24 *3600)\n",
    "    item_train_list = np.unique(df_train_I['iid'])\n",
    "    user_train_list = np.unique(df_train_I['uid'])\n",
    "    item_test_list = np.unique(df_test_I['iid'])\n",
    "    user_test_list = np.unique(df_test_I['uid'])\n",
    "    \n",
    "    user_train_hparas = get_hparas(min(64, len(user_train_list)), len(itemList_I), user_time_interval, 'USER')\n",
    "    item_train_hparas = get_hparas(len(item_train_list), len(userList_I), item_time_interval, 'ITEM')\n",
    "    user_test_hparas = get_hparas(min(64, len(user_test_list)), len(itemList_I), user_time_interval, 'USER')\n",
    "    item_test_hparas = get_hparas(len(item_test_list), len(userList_I), item_time_interval, 'ITEM')\n",
    "    \n",
    "    tf.reset_default_graph()\n",
    "    \n",
    "    model = rrn.RRN(user_hparas=user_train_hparas, item_hparas=item_train_hparas, \n",
    "                    user_vectors=user_vectors, item_vectors=item_vectors,\n",
    "                    is_train=True, lr=0.01, epochs=200, loss_function='rmse', weighted=None)\n",
    "    \n",
    "    model.train(df_train_I, user_map, item_map, initial_time, all_user_item_num, \n",
    "                user_cluster_map, item_cluster_map, top_rank=None)\n",
    "    model.model_save('class_rmse_%d' % (i))\n",
    "    \n",
    "    tf.reset_default_graph()\n",
    "    \n",
    "    model = rrn.RRN(user_hparas=user_test_hparas, item_hparas=item_test_hparas, \n",
    "                    user_vectors=user_vectors, item_vectors=item_vectors,\n",
    "                    is_train=False, lr=0.01, epochs=200, loss_function='rmse', weighted=None)\n",
    "    \n",
    "    model.model_load('class_rmse_%d' % (i))\n",
    "    test_I = model.test(df_test_I, user_map, item_map, initial_time, all_user_item_num,\n",
    "                        user_cluster_map, item_cluster_map)\n",
    "    \n",
    "    cluster_rmse.append(sum(test_I)/len(test_I))"
   ]
  },
  {
   "cell_type": "code",
   "execution_count": 16,
   "metadata": {},
   "outputs": [
    {
     "name": "stdout",
     "output_type": "stream",
     "text": [
      "Cluster 0, aps: 0.165623, num: 27, weighted ap: 4.471809\n",
      "Cluster 1, aps: 0.130490, num: 121, weighted ap: 15.789327\n",
      "Cluster 2, aps: 0.159661, num: 79, weighted ap: 12.613226\n",
      "Cluster 3, aps: 0.705125, num: 7, weighted ap: 4.935872\n",
      "Cluster 4, aps: 0.122650, num: 144, weighted ap: 17.661597\n",
      "Cluster 5, aps: 0.182470, num: 64, weighted ap: 11.678076\n",
      "Cluster 6, aps: 0.194125, num: 123, weighted ap: 23.877320\n",
      "Cluster 7, aps: 0.144162, num: 126, weighted ap: 18.164434\n",
      "Cluster 8, aps: 0.286667, num: 49, weighted ap: 14.046669\n",
      "Cluster 9, aps: 0.154978, num: 99, weighted ap: 15.342843\n",
      "0.165174222905\n"
     ]
    }
   ],
   "source": [
    "rmse = 0\n",
    "\n",
    "for i in range(NUM_CLUSTER):\n",
    "    num = label_map[i]\n",
    "    \n",
    "    rmse += cluster_rmse[i] * num\n",
    "    print (\"Cluster %d, aps: %f, num: %d, weighted ap: %f\" % (i, cluster_rmse[i], num, cluster_rmse[i]*num))\n",
    "    \n",
    "rmse = rmse / len(total_userList)\n",
    "\n",
    "print (rmse)"
   ]
  },
  {
   "cell_type": "markdown",
   "metadata": {},
   "source": [
    "# Old"
   ]
  },
  {
   "cell_type": "code",
   "execution_count": 17,
   "metadata": {
    "collapsed": true
   },
   "outputs": [],
   "source": [
    "userList = np.unique(df['uid'])\n",
    "itemList = np.unique(df['iid'])\n",
    "user_map = get_map(userList)\n",
    "item_map = get_map(itemList)\n",
    "initial_time = min(df['timestamp'])\n",
    "\n",
    "df_train, df_test = train_test_split(df, user_time_interval * 24 * 3600, split_rate=0.5)"
   ]
  },
  {
   "cell_type": "markdown",
   "metadata": {},
   "source": [
    "## Set Hyperparameter"
   ]
  },
  {
   "cell_type": "code",
   "execution_count": 18,
   "metadata": {
    "collapsed": true
   },
   "outputs": [],
   "source": [
    "def get_hparas(batch_size, vector_length, time_interval, name):\n",
    "    hparas={\n",
    "        'NAME': name,\n",
    "        'EMBED_UNITS': 40,\n",
    "        'BATCH_SIZE': batch_size,\n",
    "        'LSTM_UNITS': 40,\n",
    "        'LATENT_UNITS': 20,\n",
    "        'VECTOR_LENGTH': vector_length+3,\n",
    "        'TRAIN_TIME_ELAPSE': 21,\n",
    "        'TEST_TIME_ELAPSE': 3,\n",
    "        'STATIONARY_LENGTH': 20,\n",
    "        'TIME_INTERVAL': time_interval,\n",
    "    }\n",
    "    \n",
    "    return hparas\n",
    "\n",
    "item_train_list = np.unique(df_train['iid'])\n",
    "item_test_list = np.unique(df_test['iid'])\n",
    "\n",
    "user_train_hparas = get_hparas(64, len(itemList), user_time_interval, 'USER')\n",
    "item_train_hparas = get_hparas(len(item_train_list), len(userList), item_time_interval, 'ITEM')\n",
    "user_test_hparas = get_hparas(64, len(itemList), user_time_interval, 'USER')\n",
    "item_test_hparas = get_hparas(len(item_test_list), len(userList), item_time_interval, 'ITEM')"
   ]
  },
  {
   "cell_type": "markdown",
   "metadata": {},
   "source": [
    "# Train"
   ]
  },
  {
   "cell_type": "code",
   "execution_count": 20,
   "metadata": {
    "scrolled": true
   },
   "outputs": [
    {
     "name": "stderr",
     "output_type": "stream",
     "text": [
      "100%|██████████| 200/200 [00:28<00:00,  7.02it/s]\n"
     ]
    },
    {
     "data": {
      "image/png": "[encoded data removed]",
      "text/plain": [
       "<matplotlib.figure.Figure at 0x1170bc5f8>"
      ]
     },
     "metadata": {},
     "output_type": "display_data"
    }
   ],
   "source": [
    "tf.reset_default_graph()\n",
    "\n",
    "model = rrn.RRN(user_hparas=user_train_hparas, item_hparas=item_train_hparas, \n",
    "                user_vectors=user_vectors, item_vectors=item_vectors,\n",
    "                is_train=True, lr=0.01, epochs=200, loss_function='rmse', weighted=None)\n",
    "\n",
    "all_user_item_num = (len(total_userList), len(total_itemList))\n",
    "model.train(df_train, user_map, item_map, initial_time, all_user_item_num, top_rank=None)\n",
    "model.model_save('class_rmse')\n",
    "\n",
    "train_loss = model.log['train_loss']\n",
    "plt.plot(range(len(train_loss)), train_loss, color='blue', label='Train loss')\n",
    "plt.title(\"ITRI Train Loss no Weight\")\n",
    "plt.legend(loc=\"upper right\")\n",
    "plt.xlabel('#Epoch')\n",
    "plt.ylabel('RMSE Loss')\n",
    "# plt.savefig(\"Train_Loss_with_weight_50.jpg\")\n",
    "plt.show()"
   ]
  },
  {
   "cell_type": "markdown",
   "metadata": {},
   "source": [
    "# Test"
   ]
  },
  {
   "cell_type": "code",
   "execution_count": 21,
   "metadata": {},
   "outputs": [
    {
     "name": "stdout",
     "output_type": "stream",
     "text": [
      "INFO:tensorflow:Restoring parameters from model/rrn_class_rmse.ckpt\n",
      "0.0491035955825\n"
     ]
    }
   ],
   "source": [
    "tf.reset_default_graph()\n",
    "\n",
    "model = rrn.RRN(user_hparas=user_test_hparas, item_hparas=item_test_hparas, \n",
    "                user_vectors=user_vectors, item_vectors=item_vectors,\n",
    "                is_train=False, loss_function='rmse')\n",
    "\n",
    "model.model_load('class_rmse')\n",
    "\n",
    "test_rmse = model.test(df_test, user_map, item_map, initial_time, all_user_item_num)\n",
    "\n",
    "print (sum(test_rmse)/len(test_rmse))"
   ]
  },
  {
   "cell_type": "markdown",
   "metadata": {},
   "source": [
    "## ITRI dataset\n",
    "**LOG_LOSS** (no weighted)"
   ]
  },
  {
   "cell_type": "code",
   "execution_count": null,
   "metadata": {},
   "outputs": [],
   "source": [
    "tf.reset_default_graph()\n",
    "\n",
    "model = rrn.RRN(user_hparas=user_test_hparas, item_hparas=item_test_hparas, \n",
    "                user_vectors=user_vectors, item_vectors=item_vectors,\n",
    "                is_train=False, loss_function='log_loss')\n",
    "\n",
    "model.model_load('class_log_loss_weight_80')\n",
    "\n",
    "for i in top_ranks:\n",
    "    losses = model.test(df_test, user_map, item_map, initial_time, individually=True, top_rank=i)\n",
    "    print (\"top%d %s loss: %f\" % (len(i), model.loss_function, sum(losses)/len(losses)))\n",
    "    \n",
    "print ()\n",
    "losses = model.test(df_test, user_map, item_map, initial_time, individually=False, top_rank=None)\n",
    "print (\"All items %s loss: %f\" % (model.loss_function, sum(losses)/len(losses)))"
   ]
  },
  {
   "cell_type": "markdown",
   "metadata": {},
   "source": [
    "## Class dataset\n",
    "**RMSE** (with weighted)"
   ]
  },
  {
   "cell_type": "code",
   "execution_count": null,
   "metadata": {},
   "outputs": [],
   "source": [
    "tf.reset_default_graph()\n",
    "\n",
    "model = rrn.RRN(user_hparas=user_test_hparas, item_hparas=item_test_hparas, \n",
    "                user_vectors=user_vectors, item_vectors=item_vectors,\n",
    "                is_train=False, loss_function='log_loss')\n",
    "\n",
    "model.model_load('class_log_loss')\n",
    "\n",
    "for i in top_ranks:\n",
    "    losses = model.test(df_test, user_map, item_map, initial_time, individually=True, top_rank=i)\n",
    "    print (\"top%d %s loss: %f\" % (len(i), model.loss_function, sum(losses)/len(losses)))\n",
    "    \n",
    "print ()\n",
    "losses = model.test(df_test, user_map, item_map, initial_time, individually=False, top_rank=None)\n",
    "print (\"All items %s loss: %f\" % (model.loss_function, sum(losses)/len(losses)))"
   ]
  },
  {
   "cell_type": "markdown",
   "metadata": {},
   "source": [
    "## Itri dataset \n",
    "**LOG_LOSS** (without weighted)"
   ]
  },
  {
   "cell_type": "code",
   "execution_count": null,
   "metadata": {
    "collapsed": true,
    "scrolled": true
   },
   "outputs": [],
   "source": [
    "tf.reset_default_graph()\n",
    "\n",
    "model = rrn.RRN(user_hparas=user_test_hparas, item_hparas=item_test_hparas, \n",
    "                user_vectors=user_vectors, item_vectors=item_vectors,\n",
    "                is_train=False, loss_function='log_loss')\n",
    "\n",
    "model.model_load('itri_log_loss')\n",
    "\n",
    "# for i in top_ranks:\n",
    "#     losses = model.test(df_test, user_map, item_map, initial_time, individually=True, top_rank=i)\n",
    "#     print (\"top%d %s loss: %f\" % (len(i), model.loss_function, sum(losses)/len(losses)))\n",
    "    \n",
    "# print ()\n",
    "losses = model.test(df_test, user_map, item_map, initial_time, individually=False, top_rank=None)\n",
    "print (\"All items %s loss: %f\" % (model.loss_function, sum(losses)/len(losses)))"
   ]
  },
  {
   "cell_type": "markdown",
   "metadata": {},
   "source": [
    "## Itri dataset \n",
    "**LOG_LOSS** (with weighted)"
   ]
  },
  {
   "cell_type": "code",
   "execution_count": null,
   "metadata": {
    "collapsed": true
   },
   "outputs": [],
   "source": [
    "tf.reset_default_graph()\n",
    "\n",
    "model = rrn.RRN(user_hparas=user_test_hparas, item_hparas=item_test_hparas, \n",
    "                user_vectors=user_vectors, item_vectors=item_vectors,\n",
    "                is_train=False, loss_function='log_loss')\n",
    "\n",
    "model.model_load('class_log_loss_weighted')\n",
    "\n",
    "for i in top_ranks:\n",
    "    losses = model.test(df_test, user_map, item_map, initial_time, individually=True, top_rank=i)\n",
    "    print (\"top%d %s loss: %f\" % (len(i), model.loss_function, sum(losses)/len(losses)))\n",
    "    \n",
    "print ()\n",
    "losses = model.test(df_test, user_map, item_map, initial_time, individually=False, top_rank=None)\n",
    "print (\"All items %s loss: %f\" % (model.loss_function, sum(losses)/len(losses)))"
   ]
  },
  {
   "cell_type": "markdown",
   "metadata": {},
   "source": [
    "# Debug Section"
   ]
  },
  {
   "cell_type": "code",
   "execution_count": null,
   "metadata": {
    "collapsed": true
   },
   "outputs": [],
   "source": [
    "tf.reset_default_graph()\n",
    "\n",
    "model = rrn.RRN(user_hparas=user_test_hparas, item_hparas=item_test_hparas, \n",
    "                user_vectors=user_vectors, item_vectors=item_vectors,\n",
    "                is_train=False, lr=0.01, epochs=100, loss_function='log_loss')\n",
    "model.model_load('itri_log_loss')"
   ]
  },
  {
   "cell_type": "code",
   "execution_count": null,
   "metadata": {
    "collapsed": true
   },
   "outputs": [],
   "source": [
    "sequential_loss = []\n",
    "prep = Preprocess(\n",
    "    df_test, user_map, item_map, initial_time, 'rating', \n",
    "    user_time_interval=model.user_hparas['TIME_INTERVAL'], \n",
    "    item_time_interval=model.item_hparas['TIME_INTERVAL'])\n",
    "\n",
    "user_input, item_input, ground_truth, batch_user, batch_item = prep.gen_batch(0)\n",
    "u_static_vector = prep.get_latent_vector(batch_user, user_vectors, 'user')\n",
    "i_static_vector = prep.get_latent_vector(batch_item, item_vectors, 'item')\n",
    "weight_list = prep.get_list_weight(top_ranks[2], model.weighted)"
   ]
  },
  {
   "cell_type": "code",
   "execution_count": null,
   "metadata": {
    "collapsed": true
   },
   "outputs": [],
   "source": []
  }
 ],
 "metadata": {
  "kernelspec": {
   "display_name": "Python 3",
   "language": "python",
   "name": "python3"
  },
  "language_info": {
   "codemirror_mode": {
    "name": "ipython",
    "version": 3
   },
   "file_extension": ".py",
   "mimetype": "text/x-python",
   "name": "python",
   "nbconvert_exporter": "python",
   "pygments_lexer": "ipython3",
   "version": "3.6.2"
  }
 },
 "nbformat": 4,
 "nbformat_minor": 2
}
