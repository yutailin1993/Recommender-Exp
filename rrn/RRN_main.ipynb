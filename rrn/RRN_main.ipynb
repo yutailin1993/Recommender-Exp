{
 "cells": [
  {
   "cell_type": "code",
   "execution_count": 2,
   "metadata": {
    "scrolled": true
   },
   "outputs": [
    {
     "name": "stderr",
     "output_type": "stream",
     "text": [
      "/Users/larry/Py3/lib/python3.6/importlib/_bootstrap.py:205: RuntimeWarning: compiletime version 3.5 of module 'tensorflow.python.framework.fast_tensor_util' does not match runtime version 3.6\n",
      "  return f(*args, **kwds)\n"
     ]
    }
   ],
   "source": [
    "import numpy as np\n",
    "import pandas as pd\n",
    "import matplotlib.pyplot as plt\n",
    "from preprocess import Preprocess\n",
    "from ProbabilisticMatrixFactorization import PMF\n",
    "import tensorflow as tf\n",
    "import rrn\n",
    "\n",
    "import matplotlib.pyplot as plt"
   ]
  },
  {
   "cell_type": "code",
   "execution_count": 3,
   "metadata": {
    "collapsed": true,
    "scrolled": true
   },
   "outputs": [],
   "source": [
    "df = pd.read_csv('rating_data.csv')\n",
    "df['freq'] = df.groupby('uid')['uid'].transform('count')  # count frequncy by column's values\n",
    "df = df[df['freq'] > 5]  # remove row which corresponding frequence < 5"
   ]
  },
  {
   "cell_type": "code",
   "execution_count": 4,
   "metadata": {
    "collapsed": true
   },
   "outputs": [],
   "source": [
    "import math\n",
    "def get_map(list_):\n",
    "    map_ = {}\n",
    "    for idx, ident in enumerate(list_):\n",
    "        map_[ident] = idx\n",
    "        \n",
    "    return map_\n",
    "\n",
    "def train_test_split(df, time_interval, split_rate= 0.125):\n",
    "    start_time = min(df['timestamp'])\n",
    "    end_time = max(df['timestamp'])\n",
    "    time_elapse = (end_time-start_time) // time_interval\n",
    "    split_time = start_time + math.floor(time_elapse * (1-split_rate)) * time_interval\n",
    "    \n",
    "    df_train = df[df['timestamp'] < split_time]\n",
    "    df_test = df[df['timestamp'] >= split_time]\n",
    "    \n",
    "    return df_train, df_test"
   ]
  },
  {
   "cell_type": "code",
   "execution_count": 5,
   "metadata": {
    "collapsed": true
   },
   "outputs": [],
   "source": [
    "userList = np.unique(df['uid'])\n",
    "itemList = np.unique(df['iid'])\n",
    "user_map = get_map(userList)\n",
    "item_map = get_map(itemList)\n",
    "initial_time = min(df['timestamp'])\n",
    "\n",
    "df_train, df_test = train_test_split(df, 3 * 30 * 24 * 3600)"
   ]
  },
  {
   "cell_type": "markdown",
   "metadata": {
    "collapsed": true
   },
   "source": [
    "for season_idx in range(ground_truth.shape[0]):\n",
    "    for usr_idx in range(ground_truth.shape[1]):\n",
    "        for item_idx in range(ground_truth.shape[2]):\n",
    "            usr = preprocess.user_map[batch_user[usr_idx]]\n",
    "            item = batch_item[item_idx] - 1\n",
    "            try:\n",
    "                assert ground_truth[season_idx][usr_idx][item_idx] == usr_matrix[usr_idx][season_idx][item]\n",
    "            except AssertionError:\n",
    "                print (\"season_idx, usr_idx, item_idx: %d, %d, %d\" % (season_idx, usr_idx, item))\n",
    "            try:\n",
    "                assert ground_truth[season_idx][usr_idx][item_idx] == item_matrix[item_idx][season_idx][usr]\n",
    "            except AssertionError:\n",
    "                print (\"season_idx, usr, item_idx: %d, %d, %d\" % (season_idx, usr, item_idx))"
   ]
  },
  {
   "cell_type": "code",
   "execution_count": 6,
   "metadata": {
    "collapsed": true
   },
   "outputs": [],
   "source": [
    "def get_hparas(hparas):\n",
    "    \"\"\"if name == 'USER':\n",
    "        hparas = {\n",
    "            'NAME': name,\n",
    "            'EMBED_UNITS': 40,\n",
    "            'BATCH_SIZE': 64,\n",
    "            'LSTM_UNITS': 40,\n",
    "            'LATENT_UNITS': 20,\n",
    "            'ITEM_NUM': len(itemList)+3,\n",
    "            'TRAIN_TIME_ELAPSE': 21,\n",
    "            'TEST_TIME_ELAPSE': 3,\n",
    "            'STATIONARY_LENGTH': 20,\n",
    "        }\n",
    "    elif name == 'ITEM':\n",
    "        hparas = {\n",
    "            'NAME': name,\n",
    "            'EMBED_UNITS': 40,\n",
    "            'BATCH_SIZE': len(itemList),\n",
    "            'LATENT_UNITS': 20,\n",
    "            'LSTM_UNITS': 40,\n",
    "            'TRAIN_TIME_ELAPSE': 21,\n",
    "            'TEST_TIME_ELAPSE': 3,\n",
    "            'USER_NUM': len(userList)+3,\n",
    "            'STATIONARY_LENGTH': 20\n",
    "        }\"\"\"\n",
    "    \n",
    "    return hparas"
   ]
  },
  {
   "cell_type": "markdown",
   "metadata": {},
   "source": [
    "## Use PMF prtrain User_vector, Item_vector"
   ]
  },
  {
   "cell_type": "code",
   "execution_count": null,
   "metadata": {
    "collapsed": true
   },
   "outputs": [],
   "source": [
    "def get_rating(df, user_map, item_map):\n",
    "    df_ = df.as_matrix()\n",
    "    prefer = []\n",
    "    for line in df_:\n",
    "        uid = user_map[line[0]]\n",
    "        iid = item_map[line[1]]\n",
    "        rat = float(line[2])\n",
    "        prefer.append([uid, iid, rat])\n",
    "    data = np.asarray(prefer)\n",
    "    return data"
   ]
  },
  {
   "cell_type": "code",
   "execution_count": null,
   "metadata": {
    "collapsed": true
   },
   "outputs": [],
   "source": [
    "from sklearn.model_selection import train_test_split\n",
    "\n",
    "rating = get_rating(df, user_map, item_map)\n",
    "train_data, test_data = train_test_split(rating, test_size=0.2)"
   ]
  },
  {
   "cell_type": "code",
   "execution_count": null,
   "metadata": {
    "collapsed": true
   },
   "outputs": [],
   "source": [
    "pmf = PMF()\n",
    "pmf.set_params({\n",
    "    \"num_feat\": 20,\n",
    "    \"epsilon\": 0.1,\n",
    "    \"_lambda\": 0.01,\n",
    "    \"momentum\": 0.8,\n",
    "    \"maxepoch\": 200,\n",
    "    \"num_batches\": 100,\n",
    "    \"batch_size\": 1000\n",
    "})"
   ]
  },
  {
   "cell_type": "code",
   "execution_count": null,
   "metadata": {
    "collapsed": true,
    "scrolled": false
   },
   "outputs": [],
   "source": [
    "pmf.fit(train_data, test_data)"
   ]
  },
  {
   "cell_type": "code",
   "execution_count": null,
   "metadata": {
    "collapsed": true,
    "scrolled": true
   },
   "outputs": [],
   "source": [
    "train_loss = pmf.rmse_train\n",
    "test_loss = pmf.rmse_test\n",
    "\n",
    "plt.plot(range(len(train_loss)), train_loss, color='blue', label='train loss')\n",
    "plt.plot(range(len(test_loss)), test_loss, color='red', label='test loss')\n",
    "plt.legend(loc=\"upper right\")\n",
    "plt.xlabel('#Epoch')\n",
    "plt.ylabel('Loss')\n",
    "plt.show()"
   ]
  },
  {
   "cell_type": "code",
   "execution_count": null,
   "metadata": {
    "collapsed": true
   },
   "outputs": [],
   "source": [
    "print (min(test_loss))"
   ]
  },
  {
   "cell_type": "markdown",
   "metadata": {},
   "source": [
    "## LOG_LOSS with AdaGrad"
   ]
  },
  {
   "cell_type": "markdown",
   "metadata": {},
   "source": [
    "user_hparas = get_hparas('USER')\n",
    "item_hparas = get_hparas('ITEM')\n",
    "\n",
    "tf.reset_default_graph()\n",
    "\n",
    "model = rrn.RRN(user_hparas=user_hparas, item_hparas=item_hparas, lr=0.01, epochs=200, loss_function='log_loss')"
   ]
  },
  {
   "cell_type": "markdown",
   "metadata": {
    "scrolled": true
   },
   "source": [
    "model.train(df, user_vectors, item_vectors)"
   ]
  },
  {
   "cell_type": "markdown",
   "metadata": {},
   "source": [
    "\n",
    "train_loss = model.log['train_loss']\n",
    "\n",
    "plt.plot(range(len(train_loss)), train_loss, color='blue', label='Train loss')\n",
    "# plt.plot(range(len(test_loss)), test_loss, color='red', label='Test loss')\n",
    "plt.legend(loc=\"upper right\")\n",
    "plt.xlabel('#Epoch')\n",
    "plt.ylabel('Loss')\n",
    "plt.show()"
   ]
  },
  {
   "cell_type": "markdown",
   "metadata": {},
   "source": [
    "## RMSE with Adam"
   ]
  },
  {
   "cell_type": "code",
   "execution_count": 7,
   "metadata": {
    "collapsed": true
   },
   "outputs": [],
   "source": [
    "user_vectors = np.load('user_vectors.npy')\n",
    "item_vectors = np.load('item_vectors.npy')\n",
    "\n",
    "item_train_list = np.unique(df_train['iid'])\n",
    "item_test_list = np.unique(df_test['iid'])\n",
    "\n",
    "user_train_hparas = get_hparas({\n",
    "            'NAME': 'USER',\n",
    "            'EMBED_UNITS': 40,\n",
    "            'BATCH_SIZE': 64,\n",
    "            'LSTM_UNITS': 40,\n",
    "            'LATENT_UNITS': 20,\n",
    "            'ITEM_NUM': len(itemList)+3,\n",
    "            'TRAIN_TIME_ELAPSE': 21,\n",
    "            'TEST_TIME_ELAPSE': 3,\n",
    "            'STATIONARY_LENGTH': 20,\n",
    "        })\n",
    "\n",
    "item_train_hparas = get_hparas({\n",
    "            'NAME': 'ITEM',\n",
    "            'EMBED_UNITS': 40,\n",
    "            'BATCH_SIZE': len(item_train_list),\n",
    "            'LATENT_UNITS': 20,\n",
    "            'LSTM_UNITS': 40,\n",
    "            'TRAIN_TIME_ELAPSE': 21,\n",
    "            'TEST_TIME_ELAPSE': 3,\n",
    "            'USER_NUM': len(userList)+3,\n",
    "            'STATIONARY_LENGTH': 20\n",
    "        })\n",
    "\n",
    "user_test_hparas = get_hparas({\n",
    "            'NAME': 'USER',\n",
    "            'EMBED_UNITS': 40,\n",
    "            'BATCH_SIZE': 64,\n",
    "            'LSTM_UNITS': 40,\n",
    "            'LATENT_UNITS': 20,\n",
    "            'ITEM_NUM': len(itemList)+3,\n",
    "            'TRAIN_TIME_ELAPSE': 21,\n",
    "            'TEST_TIME_ELAPSE': 3,\n",
    "            'STATIONARY_LENGTH': 20,\n",
    "        })\n",
    "\n",
    "item_test_hparas = get_hparas({\n",
    "            'NAME': 'ITEM',\n",
    "            'EMBED_UNITS': 40,\n",
    "            'BATCH_SIZE': len(item_test_list),\n",
    "            'LATENT_UNITS': 20,\n",
    "            'LSTM_UNITS': 40,\n",
    "            'TRAIN_TIME_ELAPSE': 21,\n",
    "            'TEST_TIME_ELAPSE': 3,\n",
    "            'USER_NUM': len(userList)+3,\n",
    "            'STATIONARY_LENGTH': 20\n",
    "        })"
   ]
  },
  {
   "cell_type": "code",
   "execution_count": 7,
   "metadata": {
    "collapsed": true
   },
   "outputs": [],
   "source": [
    "tf.reset_default_graph()\n",
    "\n",
    "model = rrn.RRN(user_hparas=user_train_hparas, item_hparas=item_train_hparas, \n",
    "                user_vectors=user_vectors, item_vectors=item_vectors,\n",
    "                is_train=True, lr=0.01, epochs=200, loss_function='rmse')"
   ]
  },
  {
   "cell_type": "code",
   "execution_count": 8,
   "metadata": {
    "scrolled": false
   },
   "outputs": [
    {
     "name": "stderr",
     "output_type": "stream",
     "text": [
      "100%|██████████| 200/200 [00:41<00:00,  4.77it/s]\n"
     ]
    }
   ],
   "source": [
    "model.train(df_train, user_map, item_map, initial_time)"
   ]
  },
  {
   "cell_type": "code",
   "execution_count": 9,
   "metadata": {},
   "outputs": [
    {
     "data": {
      "image/png": "[encoded data removed]",
      "text/plain": [
       "<matplotlib.figure.Figure at 0x1192274e0>"
      ]
     },
     "metadata": {},
     "output_type": "display_data"
    }
   ],
   "source": [
    "import matplotlib.pyplot as plt\n",
    "train_loss = model.log['train_loss']\n",
    "\n",
    "plt.plot(range(len(train_loss)), train_loss, color='blue', label='Train loss')\n",
    "# plt.plot(range(len(test_loss)), test_loss, color='red', label='Test loss')\n",
    "plt.legend(loc=\"upper right\")\n",
    "plt.xlabel('#Epoch')\n",
    "plt.ylabel('Loss')\n",
    "plt.show()"
   ]
  },
  {
   "cell_type": "code",
   "execution_count": 11,
   "metadata": {
    "collapsed": true
   },
   "outputs": [],
   "source": [
    "model.model_save(1)"
   ]
  },
  {
   "cell_type": "code",
   "execution_count": 8,
   "metadata": {},
   "outputs": [
    {
     "name": "stdout",
     "output_type": "stream",
     "text": [
      "INFO:tensorflow:Restoring parameters from model/rrn_1.ckpt\n"
     ]
    }
   ],
   "source": [
    "tf.reset_default_graph()\n",
    "\n",
    "model = rrn.RRN(user_hparas=user_test_hparas, item_hparas=item_test_hparas, \n",
    "                user_vectors=user_vectors, item_vectors=item_vectors,\n",
    "                is_train=False, loss_function='rmse')\n",
    "\n",
    "model.model_loader(1)"
   ]
  },
  {
   "cell_type": "code",
   "execution_count": 9,
   "metadata": {
    "collapsed": true
   },
   "outputs": [],
   "source": [
    "losses = model.test(df_test, user_map, item_map, initial_time)"
   ]
  },
  {
   "cell_type": "code",
   "execution_count": 10,
   "metadata": {},
   "outputs": [
    {
     "name": "stdout",
     "output_type": "stream",
     "text": [
      "0.608419179916\n"
     ]
    }
   ],
   "source": [
    "print (sum(losses)/len(losses))"
   ]
  },
  {
   "cell_type": "code",
   "execution_count": 11,
   "metadata": {
    "collapsed": true
   },
   "outputs": [],
   "source": [
    "prep = Preprocess(df_test, user_map, item_map, initial_time)\n",
    "\n",
    "user_input, item_input, ground_truth, batch_user, batch_item = prep.gen_batch(0)\n",
    "u_static_vector = prep.get_latent_vector(batch_user, user_vectors, 'user')\n",
    "i_static_vector = prep.get_latent_vector(batch_item, item_vectors, 'item')"
   ]
  },
  {
   "cell_type": "code",
   "execution_count": 12,
   "metadata": {
    "collapsed": true
   },
   "outputs": [],
   "source": [
    "output = model.sess.run(\n",
    "    model.logits,\n",
    "    feed_dict={\n",
    "        model.user_input: user_input,\n",
    "        model.item_input: item_input,\n",
    "        model.user_stationary_factor: u_static_vector,\n",
    "        model.item_stationary_factor: i_static_vector\n",
    "    })"
   ]
  },
  {
   "cell_type": "code",
   "execution_count": null,
   "metadata": {
    "collapsed": true
   },
   "outputs": [],
   "source": []
  }
 ],
 "metadata": {
  "kernelspec": {
   "display_name": "Python 3",
   "language": "python",
   "name": "python3"
  },
  "language_info": {
   "codemirror_mode": {
    "name": "ipython",
    "version": 3
   },
   "file_extension": ".py",
   "mimetype": "text/x-python",
   "name": "python",
   "nbconvert_exporter": "python",
   "pygments_lexer": "ipython3",
   "version": "3.6.2"
  }
 },
 "nbformat": 4,
 "nbformat_minor": 2
}
