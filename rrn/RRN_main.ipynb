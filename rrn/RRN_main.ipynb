{
 "cells": [
  {
   "cell_type": "code",
   "execution_count": 1,
   "metadata": {
    "scrolled": false
   },
   "outputs": [
    {
     "name": "stderr",
     "output_type": "stream",
     "text": [
      "/Users/larry/Py3/lib/python3.6/importlib/_bootstrap.py:205: RuntimeWarning: compiletime version 3.5 of module 'tensorflow.python.framework.fast_tensor_util' does not match runtime version 3.6\n",
      "  return f(*args, **kwds)\n"
     ]
    }
   ],
   "source": [
    "import numpy as np\n",
    "import pandas as pd\n",
    "import matplotlib.pyplot as plt\n",
    "from preprocess import Preprocess\n",
    "import tensorflow as tf\n",
    "import rrn"
   ]
  },
  {
   "cell_type": "markdown",
   "metadata": {},
   "source": [
    "# Load Data and user/item vectors"
   ]
  },
  {
   "cell_type": "code",
   "execution_count": 8,
   "metadata": {
    "collapsed": true,
    "scrolled": true
   },
   "outputs": [],
   "source": [
    "df = pd.read_csv('../data/class/rating_data.csv')\n",
    "df['freq'] = df.groupby('uid')['uid'].transform('count')  # count frequncy by column's values\n",
    "df = df[df['freq'] > 5]  # remove row which corresponding frequence < 5\n",
    "\n",
    "user_vectors = np.load('../data/class/user_vectors.npy')\n",
    "item_vectors = np.load('../data/class/item_vectors.npy')\n",
    "\n",
    "user_time_interval = 3 * 30\n",
    "item_time_interval = 3 * 30"
   ]
  },
  {
   "cell_type": "markdown",
   "metadata": {},
   "source": [
    "# Top List preprocess"
   ]
  },
  {
   "cell_type": "code",
   "execution_count": 9,
   "metadata": {
    "collapsed": true
   },
   "outputs": [],
   "source": [
    "df_item = pd.DataFrame(df['iid'])\n",
    "df_item.column = ['iid']\n",
    "df_item['freq'] = df_item.groupby('iid')['iid'].transform('count')\n",
    "df_item = df_item.drop_duplicates()\n",
    "df_item = df_item.sort_values(by=['freq'], ascending=False)\n",
    "top_list = df_item['iid'].as_matrix()\n",
    "\n",
    "top_ranks = []\n",
    "for i in range(1, 10):\n",
    "    top_ranks.append(top_list[:i*10])"
   ]
  },
  {
   "cell_type": "markdown",
   "metadata": {},
   "source": [
    "# Data preprocessing"
   ]
  },
  {
   "cell_type": "code",
   "execution_count": 10,
   "metadata": {
    "collapsed": true
   },
   "outputs": [],
   "source": [
    "import math\n",
    "def get_map(list_):\n",
    "    map_ = {}\n",
    "    for idx, ident in enumerate(list_):\n",
    "        map_[ident] = idx\n",
    "        \n",
    "    return map_\n",
    "\n",
    "def train_test_split(df, time_interval, split_rate= 0.125):\n",
    "    start_time = min(df['timestamp'])\n",
    "    end_time = max(df['timestamp'])\n",
    "    time_elapse = (end_time-start_time) // time_interval\n",
    "    split_time = start_time + math.floor(time_elapse * (1-split_rate)) * time_interval\n",
    "    \n",
    "    df_train = df[df['timestamp'] < split_time]\n",
    "    df_test = df[df['timestamp'] >= split_time]\n",
    "    \n",
    "    return df_train, df_test"
   ]
  },
  {
   "cell_type": "code",
   "execution_count": 11,
   "metadata": {
    "collapsed": true
   },
   "outputs": [],
   "source": [
    "userList = np.unique(df['uid'])\n",
    "itemList = np.unique(df['iid'])\n",
    "user_map = get_map(userList)\n",
    "item_map = get_map(itemList)\n",
    "initial_time = min(df['timestamp'])\n",
    "\n",
    "df_train, df_test = train_test_split(df, user_time_interval * 24 * 3600, split_rate=0.5)"
   ]
  },
  {
   "cell_type": "markdown",
   "metadata": {},
   "source": [
    "## Set Hyperparameter"
   ]
  },
  {
   "cell_type": "code",
   "execution_count": 12,
   "metadata": {
    "collapsed": true
   },
   "outputs": [],
   "source": [
    "def get_hparas(batch_size, vector_length, time_interval, name):\n",
    "    hparas={\n",
    "        'NAME': name,\n",
    "        'EMBED_UNITS': 40,\n",
    "        'BATCH_SIZE': batch_size,\n",
    "        'LSTM_UNITS': 40,\n",
    "        'LATENT_UNITS': 20,\n",
    "        'VECTOR_LENGTH': vector_length+3,\n",
    "        'TRAIN_TIME_ELAPSE': 21,\n",
    "        'TEST_TIME_ELAPSE': 3,\n",
    "        'STATIONARY_LENGTH': 20,\n",
    "        'TIME_INTERVAL': time_interval,\n",
    "    }\n",
    "    \n",
    "    return hparas\n",
    "\n",
    "item_train_list = np.unique(df_train['iid'])\n",
    "item_test_list = np.unique(df_test['iid'])\n",
    "\n",
    "user_train_hparas = get_hparas(64, len(itemList), user_time_interval, 'USER')\n",
    "item_train_hparas = get_hparas(len(item_train_list), len(userList), item_time_interval, 'ITEM')\n",
    "user_test_hparas = get_hparas(64, len(itemList), user_time_interval, 'USER')\n",
    "item_test_hparas = get_hparas(len(item_test_list), len(userList), item_time_interval, 'ITEM')"
   ]
  },
  {
   "cell_type": "markdown",
   "metadata": {},
   "source": [
    "# Train"
   ]
  },
  {
   "cell_type": "code",
   "execution_count": 29,
   "metadata": {
    "scrolled": true
   },
   "outputs": [
    {
     "name": "stderr",
     "output_type": "stream",
     "text": [
      "100%|██████████| 200/200 [00:26<00:00,  7.47it/s]\n"
     ]
    },
    {
     "data": {
      "image/png": "[encoded data removed]",
      "text/plain": [
       "<matplotlib.figure.Figure at 0x11f0ed780>"
      ]
     },
     "metadata": {},
     "output_type": "display_data"
    }
   ],
   "source": [
    "tf.reset_default_graph()\n",
    "\n",
    "model = rrn.RRN(user_hparas=user_train_hparas, item_hparas=item_train_hparas, \n",
    "                user_vectors=user_vectors, item_vectors=item_vectors,\n",
    "                is_train=True, lr=0.01, epochs=200, loss_function='log_loss', weighted=None)\n",
    "\n",
    "model.train(df_train, user_map, item_map, initial_time, top_rank=None)\n",
    "model.model_save('class_log_loss')\n",
    "\n",
    "train_loss = model.log['train_loss']\n",
    "plt.plot(range(len(train_loss)), train_loss, color='blue', label='Train loss')\n",
    "plt.title(\"ITRI Train Loss no Weight\")\n",
    "plt.legend(loc=\"upper right\")\n",
    "plt.xlabel('#Epoch')\n",
    "plt.ylabel('RMSE Loss')\n",
    "# plt.savefig(\"Train_Loss_with_weight_50.jpg\")\n",
    "plt.show()"
   ]
  },
  {
   "cell_type": "code",
   "execution_count": 26,
   "metadata": {},
   "outputs": [
    {
     "name": "stderr",
     "output_type": "stream",
     "text": [
      "100%|██████████| 200/200 [00:26<00:00,  7.58it/s]\n"
     ]
    },
    {
     "data": {
      "image/png": "[encoded data removed]",
      "text/plain": [
       "<matplotlib.figure.Figure at 0x11b982518>"
      ]
     },
     "metadata": {},
     "output_type": "display_data"
    }
   ],
   "source": [
    "tf.reset_default_graph()\n",
    "\n",
    "model = rrn.RRN(user_hparas=user_train_hparas, item_hparas=item_train_hparas, \n",
    "                user_vectors=user_vectors, item_vectors=item_vectors,\n",
    "                is_train=True, lr=0.01, epochs=200, loss_function='log_loss', weighted=100)\n",
    "\n",
    "model.train(df_train, user_map, item_map, initial_time, top_rank=top_ranks[2])\n",
    "model.model_save('class_log_loss_weight_80')\n",
    "\n",
    "train_loss = model.log['train_loss']\n",
    "plt.plot(range(len(train_loss)), train_loss, color='blue', label='Train loss')\n",
    "plt.title(\"ITRI Train loss with weight 20\")\n",
    "plt.legend(loc=\"upper right\")\n",
    "plt.xlabel('#Epoch')\n",
    "plt.ylabel('log_loss')\n",
    "# plt.savefig(\"Train_Loss_with_weight_20.jpg\")\n",
    "plt.show()"
   ]
  },
  {
   "cell_type": "markdown",
   "metadata": {},
   "source": [
    "# Test"
   ]
  },
  {
   "cell_type": "markdown",
   "metadata": {},
   "source": [
    "## ITRI dataset\n",
    "**LOG_LOSS** (no weighted)"
   ]
  },
  {
   "cell_type": "code",
   "execution_count": 28,
   "metadata": {},
   "outputs": [
    {
     "name": "stdout",
     "output_type": "stream",
     "text": [
      "INFO:tensorflow:Restoring parameters from model/rrn_class_log_loss_weight_80.ckpt\n",
      "top10 log_loss loss: 0.075731\n",
      "top20 log_loss loss: 0.151130\n",
      "top30 log_loss loss: 0.222365\n",
      "top40 log_loss loss: 0.296027\n",
      "top50 log_loss loss: 0.368923\n",
      "top60 log_loss loss: 0.441197\n",
      "top70 log_loss loss: 0.512466\n",
      "top80 log_loss loss: 0.582219\n",
      "top90 log_loss loss: 0.652304\n",
      "\n",
      "All items log_loss loss: 0.716483\n"
     ]
    }
   ],
   "source": [
    "tf.reset_default_graph()\n",
    "\n",
    "model = rrn.RRN(user_hparas=user_test_hparas, item_hparas=item_test_hparas, \n",
    "                user_vectors=user_vectors, item_vectors=item_vectors,\n",
    "                is_train=False, loss_function='log_loss')\n",
    "\n",
    "model.model_load('class_log_loss_weight_80')\n",
    "\n",
    "for i in top_ranks:\n",
    "    losses = model.test(df_test, user_map, item_map, initial_time, individually=True, top_rank=i)\n",
    "    print (\"top%d %s loss: %f\" % (len(i), model.loss_function, sum(losses)/len(losses)))\n",
    "    \n",
    "print ()\n",
    "losses = model.test(df_test, user_map, item_map, initial_time, individually=False, top_rank=None)\n",
    "print (\"All items %s loss: %f\" % (model.loss_function, sum(losses)/len(losses)))"
   ]
  },
  {
   "cell_type": "markdown",
   "metadata": {},
   "source": [
    "## Class dataset\n",
    "**RMSE** (with weighted)"
   ]
  },
  {
   "cell_type": "code",
   "execution_count": 30,
   "metadata": {},
   "outputs": [
    {
     "name": "stdout",
     "output_type": "stream",
     "text": [
      "INFO:tensorflow:Restoring parameters from model/rrn_class_log_loss.ckpt\n",
      "top10 log_loss loss: 0.075732\n",
      "top20 log_loss loss: 0.151130\n",
      "top30 log_loss loss: 0.222365\n",
      "top40 log_loss loss: 0.296028\n",
      "top50 log_loss loss: 0.368923\n",
      "top60 log_loss loss: 0.441198\n",
      "top70 log_loss loss: 0.512466\n",
      "top80 log_loss loss: 0.582219\n",
      "top90 log_loss loss: 0.652304\n",
      "\n",
      "All items log_loss loss: 0.716483\n"
     ]
    }
   ],
   "source": [
    "tf.reset_default_graph()\n",
    "\n",
    "model = rrn.RRN(user_hparas=user_test_hparas, item_hparas=item_test_hparas, \n",
    "                user_vectors=user_vectors, item_vectors=item_vectors,\n",
    "                is_train=False, loss_function='log_loss')\n",
    "\n",
    "model.model_load('class_log_loss')\n",
    "\n",
    "for i in top_ranks:\n",
    "    losses = model.test(df_test, user_map, item_map, initial_time, individually=True, top_rank=i)\n",
    "    print (\"top%d %s loss: %f\" % (len(i), model.loss_function, sum(losses)/len(losses)))\n",
    "    \n",
    "print ()\n",
    "losses = model.test(df_test, user_map, item_map, initial_time, individually=False, top_rank=None)\n",
    "print (\"All items %s loss: %f\" % (model.loss_function, sum(losses)/len(losses)))"
   ]
  },
  {
   "cell_type": "markdown",
   "metadata": {},
   "source": [
    "## Itri dataset \n",
    "**LOG_LOSS** (without weighted)"
   ]
  },
  {
   "cell_type": "code",
   "execution_count": null,
   "metadata": {
    "scrolled": true
   },
   "outputs": [],
   "source": [
    "tf.reset_default_graph()\n",
    "\n",
    "model = rrn.RRN(user_hparas=user_test_hparas, item_hparas=item_test_hparas, \n",
    "                user_vectors=user_vectors, item_vectors=item_vectors,\n",
    "                is_train=False, loss_function='log_loss')\n",
    "\n",
    "model.model_load('itri_log_loss')\n",
    "\n",
    "# for i in top_ranks:\n",
    "#     losses = model.test(df_test, user_map, item_map, initial_time, individually=True, top_rank=i)\n",
    "#     print (\"top%d %s loss: %f\" % (len(i), model.loss_function, sum(losses)/len(losses)))\n",
    "    \n",
    "# print ()\n",
    "losses = model.test(df_test, user_map, item_map, initial_time, individually=False, top_rank=None)\n",
    "print (\"All items %s loss: %f\" % (model.loss_function, sum(losses)/len(losses)))"
   ]
  },
  {
   "cell_type": "markdown",
   "metadata": {},
   "source": [
    "## Itri dataset \n",
    "**LOG_LOSS** (with weighted)"
   ]
  },
  {
   "cell_type": "code",
   "execution_count": null,
   "metadata": {},
   "outputs": [],
   "source": [
    "tf.reset_default_graph()\n",
    "\n",
    "model = rrn.RRN(user_hparas=user_test_hparas, item_hparas=item_test_hparas, \n",
    "                user_vectors=user_vectors, item_vectors=item_vectors,\n",
    "                is_train=False, loss_function='log_loss')\n",
    "\n",
    "model.model_load('class_log_loss_weighted')\n",
    "\n",
    "for i in top_ranks:\n",
    "    losses = model.test(df_test, user_map, item_map, initial_time, individually=True, top_rank=i)\n",
    "    print (\"top%d %s loss: %f\" % (len(i), model.loss_function, sum(losses)/len(losses)))\n",
    "    \n",
    "print ()\n",
    "losses = model.test(df_test, user_map, item_map, initial_time, individually=False, top_rank=None)\n",
    "print (\"All items %s loss: %f\" % (model.loss_function, sum(losses)/len(losses)))"
   ]
  },
  {
   "cell_type": "markdown",
   "metadata": {},
   "source": [
    "# Debug Section"
   ]
  },
  {
   "cell_type": "code",
   "execution_count": null,
   "metadata": {},
   "outputs": [],
   "source": [
    "tf.reset_default_graph()\n",
    "\n",
    "model = rrn.RRN(user_hparas=user_test_hparas, item_hparas=item_test_hparas, \n",
    "                user_vectors=user_vectors, item_vectors=item_vectors,\n",
    "                is_train=False, lr=0.01, epochs=100, loss_function='log_loss')\n",
    "model.model_load('itri_log_loss')"
   ]
  },
  {
   "cell_type": "code",
   "execution_count": null,
   "metadata": {
    "collapsed": true
   },
   "outputs": [],
   "source": [
    "sequential_loss = []\n",
    "prep = Preprocess(\n",
    "    df_test, user_map, item_map, initial_time, 'rating', \n",
    "    user_time_interval=model.user_hparas['TIME_INTERVAL'], \n",
    "    item_time_interval=model.item_hparas['TIME_INTERVAL'])\n",
    "\n",
    "user_input, item_input, ground_truth, batch_user, batch_item = prep.gen_batch(0)\n",
    "u_static_vector = prep.get_latent_vector(batch_user, user_vectors, 'user')\n",
    "i_static_vector = prep.get_latent_vector(batch_item, item_vectors, 'item')\n",
    "weight_list = prep.get_list_weight(top_ranks[2], model.weighted)"
   ]
  },
  {
   "cell_type": "code",
   "execution_count": null,
   "metadata": {
    "collapsed": true
   },
   "outputs": [],
   "source": []
  }
 ],
 "metadata": {
  "kernelspec": {
   "display_name": "Python 3",
   "language": "python",
   "name": "python3"
  },
  "language_info": {
   "codemirror_mode": {
    "name": "ipython",
    "version": 3
   },
   "file_extension": ".py",
   "mimetype": "text/x-python",
   "name": "python",
   "nbconvert_exporter": "python",
   "pygments_lexer": "ipython3",
   "version": "3.6.2"
  }
 },
 "nbformat": 4,
 "nbformat_minor": 2
}
