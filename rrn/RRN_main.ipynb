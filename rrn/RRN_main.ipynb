{
 "cells": [
  {
   "cell_type": "code",
   "execution_count": 1,
   "metadata": {
    "scrolled": false
   },
   "outputs": [
    {
     "name": "stderr",
     "output_type": "stream",
     "text": [
      "/Users/larry/Py3/lib/python3.6/importlib/_bootstrap.py:205: RuntimeWarning: compiletime version 3.5 of module 'tensorflow.python.framework.fast_tensor_util' does not match runtime version 3.6\n",
      "  return f(*args, **kwds)\n"
     ]
    }
   ],
   "source": [
    "import numpy as np\n",
    "import pandas as pd\n",
    "import matplotlib.pyplot as plt\n",
    "from preprocess import Preprocess\n",
    "import tensorflow as tf\n",
    "import rrn\n",
    "\n",
    "from sklearn.cluster import KMeans, spectral_clustering\n",
    "from sklearn.decomposition import PCA"
   ]
  },
  {
   "cell_type": "markdown",
   "metadata": {},
   "source": [
    "# Load Data and user/item vectors"
   ]
  },
  {
   "cell_type": "code",
   "execution_count": 2,
   "metadata": {
    "collapsed": true,
    "scrolled": true
   },
   "outputs": [],
   "source": [
    "df = pd.read_csv('../data/class/rating_data.csv')\n",
    "df['freq'] = df.groupby('uid')['uid'].transform('count')  # count frequncy by column's values\n",
    "df = df[df['freq'] > 5]  # remove row which corresponding frequence < 5\n",
    "df_array = df.as_matrix()\n",
    "\n",
    "user_vectors = np.load('../data/class/user_vectors.npy')\n",
    "item_vectors = np.load('../data/class/item_vectors.npy')\n",
    "\n",
    "user_time_interval = 3 * 30\n",
    "item_time_interval = 3 * 30"
   ]
  },
  {
   "cell_type": "markdown",
   "metadata": {},
   "source": [
    "# Top List preprocess"
   ]
  },
  {
   "cell_type": "code",
   "execution_count": 3,
   "metadata": {},
   "outputs": [],
   "source": [
    "df_item = pd.DataFrame(df['iid'])\n",
    "df_item.column = ['iid']\n",
    "df_item['freq'] = df_item.groupby('iid')['iid'].transform('count')\n",
    "df_item = df_item.drop_duplicates()\n",
    "df_item = df_item.sort_values(by=['freq'], ascending=False)\n",
    "top_list = df_item['iid'].as_matrix()\n",
    "\n",
    "top_ranks = []\n",
    "for i in range(1, 10):\n",
    "    top_ranks.append(top_list[:i*10])"
   ]
  },
  {
   "cell_type": "markdown",
   "metadata": {},
   "source": [
    "# Data preprocessing"
   ]
  },
  {
   "cell_type": "code",
   "execution_count": 4,
   "metadata": {
    "collapsed": true
   },
   "outputs": [],
   "source": [
    "import math\n",
    "def get_map(list_):\n",
    "    map_ = {}\n",
    "    for idx, ident in enumerate(list_):\n",
    "        map_[ident] = idx\n",
    "        \n",
    "    return map_\n",
    "\n",
    "def train_test_split(df, time_interval, start_time, end_time, split_rate= 0.125):\n",
    "    # start_time = min(df['timestamp'])\n",
    "    # end_time = max(df['timestamp'])\n",
    "    time_elapse = (end_time-start_time) // time_interval\n",
    "    split_time = start_time + math.floor(time_elapse * (1-split_rate)) * time_interval\n",
    "    train_time_elapse = math.floor(time_elapse * (1-split_rate))\n",
    "    test_time_elapse = time_elapse - train_time_elapse + 1\n",
    "    \n",
    "    df_train = df[df['timestamp'] < split_time]\n",
    "    df_test = df[df['timestamp'] >= split_time]\n",
    "    \n",
    "    return df_train, df_test, train_time_elapse, test_time_elapse, split_time"
   ]
  },
  {
   "cell_type": "code",
   "execution_count": 5,
   "metadata": {
    "collapsed": true
   },
   "outputs": [],
   "source": [
    "total_userList = np.unique(df['uid'])\n",
    "total_itemList = np.unique(df['iid'])\n",
    "user_map = get_map(total_userList)\n",
    "item_map = get_map(total_itemList)\n",
    "initial_time = min(df['timestamp'])"
   ]
  },
  {
   "cell_type": "markdown",
   "metadata": {},
   "source": [
    "# Clustering"
   ]
  },
  {
   "cell_type": "code",
   "execution_count": 10,
   "metadata": {
    "collapsed": true
   },
   "outputs": [],
   "source": [
    "total_usr = len(total_userList)\n",
    "total_item = len(total_itemList)\n",
    "\n",
    "rating = np.zeros((total_usr, total_item), dtype=np.float32)\n",
    "for line in df_array:\n",
    "    uid = user_map[line[0]]\n",
    "    iid = item_map[line[1]]\n",
    "    rating[uid, iid] = 1"
   ]
  },
  {
   "cell_type": "code",
   "execution_count": 11,
   "metadata": {},
   "outputs": [
    {
     "data": {
      "text/plain": [
       "KMeans(algorithm='full', copy_x=True, init='k-means++', max_iter=300,\n",
       "    n_clusters=10, n_init=20, n_jobs=1, precompute_distances='auto',\n",
       "    random_state=None, tol=0.0001, verbose=0)"
      ]
     },
     "execution_count": 11,
     "metadata": {},
     "output_type": "execute_result"
    }
   ],
   "source": [
    "pca = PCA(n_components=10, svd_solver='full')\n",
    "pca_out = pca.fit_transform(user_vectors)\n",
    "NUM_CLUSTER = 10\n",
    "kmeans = KMeans(n_clusters=NUM_CLUSTER, n_init=20, algorithm='full')\n",
    "\n",
    "\n",
    "kmeans.fit(pca_out)"
   ]
  },
  {
   "cell_type": "code",
   "execution_count": 12,
   "metadata": {},
   "outputs": [
    {
     "name": "stdout",
     "output_type": "stream",
     "text": [
      "{3: 106, 6: 146, 0: 74, 5: 139, 2: 103, 4: 38, 7: 80, 9: 35, 1: 80, 8: 38}\n"
     ]
    }
   ],
   "source": [
    "label_map = {}\n",
    "for i in kmeans.labels_:\n",
    "    if i not in label_map:\n",
    "        label_map[i] = 1\n",
    "    else:\n",
    "        label_map[i] += 1\n",
    "\n",
    "print (label_map)"
   ]
  },
  {
   "cell_type": "code",
   "execution_count": 13,
   "metadata": {
    "collapsed": true
   },
   "outputs": [],
   "source": [
    "label_index = {}\n",
    "for i in range(12):\n",
    "    label_index[i] = []\n",
    "    \n",
    "label_list = list(kmeans.labels_)\n",
    "\n",
    "for idx, i in enumerate(label_list):\n",
    "    label_index[i].append(idx)"
   ]
  },
  {
   "cell_type": "markdown",
   "metadata": {},
   "source": [
    "### Add cluster label to dataframe"
   ]
  },
  {
   "cell_type": "code",
   "execution_count": 14,
   "metadata": {
    "collapsed": true,
    "scrolled": true
   },
   "outputs": [],
   "source": [
    "df_new = df\n",
    "df_new['label'] = -1\n",
    "\n",
    "for i in range(NUM_CLUSTER):\n",
    "    for j in label_index[i]:\n",
    "        df_new.loc[df_new['uid'] == j+1, 'label'] = i"
   ]
  },
  {
   "cell_type": "markdown",
   "metadata": {},
   "source": [
    "## rrn"
   ]
  },
  {
   "cell_type": "code",
   "execution_count": 15,
   "metadata": {
    "collapsed": true
   },
   "outputs": [],
   "source": [
    "def get_hparas(batch_size, vector_length, time_interval, train_time_elapse, test_time_elapse, name):\n",
    "    hparas={\n",
    "        'NAME': name,\n",
    "        'EMBED_UNITS': 40,\n",
    "        'BATCH_SIZE': batch_size,\n",
    "        'LSTM_UNITS': 40,\n",
    "        'LATENT_UNITS': 20,\n",
    "        'VECTOR_LENGTH': vector_length+3,\n",
    "        'TRAIN_TIME_ELAPSE': train_time_elapse,\n",
    "        'TEST_TIME_ELAPSE': test_time_elapse,\n",
    "        'STATIONARY_LENGTH': 20,\n",
    "        'TIME_INTERVAL': time_interval,\n",
    "    }\n",
    "    \n",
    "    return hparas"
   ]
  },
  {
   "cell_type": "code",
   "execution_count": 21,
   "metadata": {
    "scrolled": true
   },
   "outputs": [
    {
     "name": "stdout",
     "output_type": "stream",
     "text": [
      "INFO:tensorflow:Restoring parameters from model/rrn_class_rmse.ckpt\n"
     ]
    },
    {
     "name": "stderr",
     "output_type": "stream",
     "text": [
      "100%|██████████| 1000/1000 [02:04<00:00,  8.04it/s]\n"
     ]
    },
    {
     "name": "stdout",
     "output_type": "stream",
     "text": [
      "INFO:tensorflow:Restoring parameters from model/rrn_class_rmse_0.ckpt\n",
      "INFO:tensorflow:Restoring parameters from model/rrn_class_rmse.ckpt\n"
     ]
    },
    {
     "name": "stderr",
     "output_type": "stream",
     "text": [
      "100%|██████████| 1000/1000 [01:20<00:00, 12.35it/s]\n"
     ]
    },
    {
     "name": "stdout",
     "output_type": "stream",
     "text": [
      "INFO:tensorflow:Restoring parameters from model/rrn_class_rmse_1.ckpt\n",
      "INFO:tensorflow:Restoring parameters from model/rrn_class_rmse.ckpt\n"
     ]
    },
    {
     "name": "stderr",
     "output_type": "stream",
     "text": [
      "100%|██████████| 1000/1000 [01:50<00:00,  9.09it/s]\n"
     ]
    },
    {
     "name": "stdout",
     "output_type": "stream",
     "text": [
      "INFO:tensorflow:Restoring parameters from model/rrn_class_rmse_2.ckpt\n",
      "INFO:tensorflow:Restoring parameters from model/rrn_class_rmse.ckpt\n"
     ]
    },
    {
     "name": "stderr",
     "output_type": "stream",
     "text": [
      "100%|██████████| 1000/1000 [01:46<00:00,  9.41it/s]\n"
     ]
    },
    {
     "name": "stdout",
     "output_type": "stream",
     "text": [
      "INFO:tensorflow:Restoring parameters from model/rrn_class_rmse_3.ckpt\n",
      "INFO:tensorflow:Restoring parameters from model/rrn_class_rmse.ckpt\n"
     ]
    },
    {
     "name": "stderr",
     "output_type": "stream",
     "text": [
      "100%|██████████| 1000/1000 [00:59<00:00, 16.71it/s]\n"
     ]
    },
    {
     "name": "stdout",
     "output_type": "stream",
     "text": [
      "INFO:tensorflow:Restoring parameters from model/rrn_class_rmse_4.ckpt\n",
      "INFO:tensorflow:Restoring parameters from model/rrn_class_rmse.ckpt\n"
     ]
    },
    {
     "name": "stderr",
     "output_type": "stream",
     "text": [
      "100%|██████████| 1000/1000 [02:04<00:00,  8.02it/s]\n"
     ]
    },
    {
     "name": "stdout",
     "output_type": "stream",
     "text": [
      "INFO:tensorflow:Restoring parameters from model/rrn_class_rmse_5.ckpt\n",
      "INFO:tensorflow:Restoring parameters from model/rrn_class_rmse.ckpt\n"
     ]
    },
    {
     "name": "stderr",
     "output_type": "stream",
     "text": [
      "100%|██████████| 1000/1000 [02:32<00:00,  6.54it/s]\n"
     ]
    },
    {
     "name": "stdout",
     "output_type": "stream",
     "text": [
      "INFO:tensorflow:Restoring parameters from model/rrn_class_rmse_6.ckpt\n",
      "INFO:tensorflow:Restoring parameters from model/rrn_class_rmse.ckpt\n"
     ]
    },
    {
     "name": "stderr",
     "output_type": "stream",
     "text": [
      "100%|██████████| 1000/1000 [01:35<00:00, 10.44it/s]\n"
     ]
    },
    {
     "name": "stdout",
     "output_type": "stream",
     "text": [
      "INFO:tensorflow:Restoring parameters from model/rrn_class_rmse_7.ckpt\n",
      "INFO:tensorflow:Restoring parameters from model/rrn_class_rmse.ckpt\n"
     ]
    },
    {
     "name": "stderr",
     "output_type": "stream",
     "text": [
      "100%|██████████| 1000/1000 [00:52<00:00, 19.10it/s]\n"
     ]
    },
    {
     "name": "stdout",
     "output_type": "stream",
     "text": [
      "INFO:tensorflow:Restoring parameters from model/rrn_class_rmse_8.ckpt\n",
      "INFO:tensorflow:Restoring parameters from model/rrn_class_rmse.ckpt\n"
     ]
    },
    {
     "name": "stderr",
     "output_type": "stream",
     "text": [
      "100%|██████████| 1000/1000 [00:49<00:00, 20.34it/s]\n"
     ]
    },
    {
     "name": "stdout",
     "output_type": "stream",
     "text": [
      "INFO:tensorflow:Restoring parameters from model/rrn_class_rmse_9.ckpt\n"
     ]
    }
   ],
   "source": [
    "cluster_rmse = []\n",
    "start_time = min(df['timestamp'])\n",
    "end_time = max(df['timestamp'])\n",
    "\n",
    "for i in range(NUM_CLUSTER):\n",
    "    df_I = df_new[df_new['label'] == i]\n",
    "    userList_I = np.unique(df_I['uid'])\n",
    "    itemList_I = np.unique(df_I['iid'])\n",
    "    \n",
    "    user_cluster_map = get_map(userList_I)\n",
    "    item_cluster_map = get_map(itemList_I)\n",
    "    \n",
    "    all_user_item_num = (len(total_userList), len(total_itemList))\n",
    "    \n",
    "    df_train_I, df_test_I, train_time_elapse, test_time_elapse, test_start_time \\\n",
    "    = train_test_split(df_I, user_time_interval * 24 * 3600, start_time, end_time)\n",
    "    item_train_list = np.unique(df_train_I['iid'])\n",
    "    user_train_list = np.unique(df_train_I['uid'])\n",
    "    item_test_list = np.unique(df_test_I['iid'])\n",
    "    user_test_list = np.unique(df_test_I['uid'])\n",
    "    \n",
    "    user_train_hparas = get_hparas(len(user_train_list), len(total_itemList), user_time_interval, train_time_elapse, test_time_elapse, 'USER')\n",
    "    item_train_hparas = get_hparas(len(item_train_list), len(total_userList), item_time_interval, train_time_elapse, test_time_elapse, 'ITEM')\n",
    "    user_test_hparas = get_hparas(len(user_test_list), len(total_itemList), user_time_interval, train_time_elapse, test_time_elapse, 'USER')\n",
    "    item_test_hparas = get_hparas(len(item_test_list), len(total_userList), item_time_interval, train_time_elapse, test_time_elapse, 'ITEM')\n",
    "    \n",
    "    tf.reset_default_graph()\n",
    "    \n",
    "    model = rrn.RRN(user_hparas=user_train_hparas, item_hparas=item_train_hparas, \n",
    "                    user_vectors=user_vectors, item_vectors=item_vectors,\n",
    "                    is_train=True, lr=0.01, epochs=1000, loss_function='rmse', weighted=None)\n",
    "    \n",
    "    model.model_load('class_rmse')\n",
    "    \n",
    "    model.train(df_train_I, user_map, item_map, initial_time, all_user_item_num,\n",
    "                user_cluster_map=user_cluster_map, \n",
    "                item_cluster_map=item_cluster_map, top_rank=None)\n",
    "    model.model_save('class_rmse_%d' % (i))\n",
    "    \n",
    "    tf.reset_default_graph()\n",
    "    \n",
    "    model = rrn.RRN(user_hparas=user_test_hparas, item_hparas=item_test_hparas, \n",
    "                    user_vectors=user_vectors, item_vectors=item_vectors,\n",
    "                    is_train=False, lr=0.01, epochs=200, loss_function='rmse', weighted=None)\n",
    "    \n",
    "    model.model_load('class_rmse_%d' % (i))\n",
    "    test_I = model.test(df_test_I, user_map, item_map, initial_time, test_start_time, \n",
    "                        all_user_item_num, user_cluster_map, item_cluster_map)\n",
    "    \n",
    "    cluster_rmse.append(sum(test_I)/len(test_I))"
   ]
  },
  {
   "cell_type": "code",
   "execution_count": 22,
   "metadata": {},
   "outputs": [
    {
     "name": "stdout",
     "output_type": "stream",
     "text": [
      "Cluster 0, rmse: 0.409167, num: 74, weighted rmse: 30.278349\n",
      "Cluster 1, rmse: 0.516454, num: 80, weighted rmse: 41.316299\n",
      "Cluster 2, rmse: 0.361994, num: 103, weighted rmse: 37.285336\n",
      "Cluster 3, rmse: 0.444853, num: 106, weighted rmse: 47.154428\n",
      "Cluster 4, rmse: 0.567608, num: 38, weighted rmse: 21.569104\n",
      "Cluster 5, rmse: 0.498829, num: 139, weighted rmse: 69.337220\n",
      "Cluster 6, rmse: 0.355056, num: 146, weighted rmse: 51.838248\n",
      "Cluster 7, rmse: 0.554765, num: 80, weighted rmse: 44.381199\n",
      "Cluster 8, rmse: 0.707764, num: 38, weighted rmse: 26.895038\n",
      "Cluster 9, rmse: 0.588805, num: 35, weighted rmse: 20.608167\n",
      "0.465629782701\n"
     ]
    }
   ],
   "source": [
    "rmse = 0\n",
    "\n",
    "for i in range(NUM_CLUSTER):\n",
    "    num = label_map[i]\n",
    "    \n",
    "    rmse += cluster_rmse[i] * num\n",
    "    print (\"Cluster %d, rmse: %f, num: %d, weighted rmse: %f\" % (i, cluster_rmse[i], num, cluster_rmse[i]*num))\n",
    "    \n",
    "rmse = rmse / len(total_userList)\n",
    "\n",
    "print (rmse)"
   ]
  },
  {
   "cell_type": "markdown",
   "metadata": {},
   "source": [
    "# Old"
   ]
  },
  {
   "cell_type": "code",
   "execution_count": 6,
   "metadata": {},
   "outputs": [],
   "source": [
    "userList = np.unique(df['uid'])\n",
    "itemList = np.unique(df['iid'])\n",
    "user_map = get_map(userList)\n",
    "item_map = get_map(itemList)\n",
    "initial_time = min(df['timestamp'])\n",
    "start_time = initial_time\n",
    "end_time = max(df['timestamp'])\n",
    "\n",
    "df_train, df_test, train_time_elapse, test_time_elapse, test_start_time = \\\n",
    "train_test_split(df, user_time_interval * 24 * 3600, start_time, end_time, split_rate=0.5)"
   ]
  },
  {
   "cell_type": "markdown",
   "metadata": {},
   "source": [
    "## Set Hyperparameter"
   ]
  },
  {
   "cell_type": "code",
   "execution_count": 7,
   "metadata": {
    "collapsed": true
   },
   "outputs": [],
   "source": [
    "def get_hparas(batch_size, vector_length, time_interval, train_time_elapse, test_time_elapse, name):\n",
    "    hparas={\n",
    "        'NAME': name,\n",
    "        'EMBED_UNITS': 40,\n",
    "        'BATCH_SIZE': batch_size,\n",
    "        'LSTM_UNITS': 40,\n",
    "        'LATENT_UNITS': 20,\n",
    "        'VECTOR_LENGTH': vector_length+3,\n",
    "        'TRAIN_TIME_ELAPSE': train_time_elapse,\n",
    "        'TEST_TIME_ELAPSE': test_time_elapse,\n",
    "        'STATIONARY_LENGTH': 20,\n",
    "        'TIME_INTERVAL': time_interval,\n",
    "    }\n",
    "    \n",
    "    return hparas\n",
    "\n",
    "item_train_list = np.unique(df_train['iid'])\n",
    "item_test_list = np.unique(df_test['iid'])\n",
    "\n",
    "user_train_hparas = get_hparas(64, len(itemList), user_time_interval, train_time_elapse, test_time_elapse, 'USER')\n",
    "item_train_hparas = get_hparas(len(item_train_list), len(userList), item_time_interval, train_time_elapse, test_time_elapse, 'ITEM')\n",
    "user_test_hparas = get_hparas(64, len(itemList), user_time_interval, train_time_elapse, test_time_elapse, 'USER')\n",
    "item_test_hparas = get_hparas(len(item_test_list), len(userList), item_time_interval, train_time_elapse, test_time_elapse, 'ITEM')"
   ]
  },
  {
   "cell_type": "markdown",
   "metadata": {},
   "source": [
    "# Train"
   ]
  },
  {
   "cell_type": "code",
   "execution_count": 8,
   "metadata": {
    "scrolled": true
   },
   "outputs": [
    {
     "name": "stderr",
     "output_type": "stream",
     "text": [
      "100%|██████████| 200/200 [00:25<00:00,  7.94it/s]\n"
     ]
    },
    {
     "data": {
      "image/png": "[encoded data removed]",
      "text/plain": [
       "<matplotlib.figure.Figure at 0x1172f87b8>"
      ]
     },
     "metadata": {},
     "output_type": "display_data"
    }
   ],
   "source": [
    "tf.reset_default_graph()\n",
    "\n",
    "model = rrn.RRN(user_hparas=user_train_hparas, item_hparas=item_train_hparas, \n",
    "                user_vectors=user_vectors, item_vectors=item_vectors,\n",
    "                is_train=True, lr=0.01, epochs=200, loss_function='rmse', weighted=None)\n",
    "\n",
    "all_user_item_num = (len(userList), len(itemList))\n",
    "model.train(df_train, user_map, item_map, initial_time, all_user_item_num, top_rank=None)\n",
    "model.model_save('class_rmse')\n",
    "\n",
    "train_loss = model.log['train_loss']\n",
    "plt.plot(range(len(train_loss)), train_loss, color='blue', label='Train loss')\n",
    "plt.title(\"ITRI Train Loss no Weight\")\n",
    "plt.legend(loc=\"upper right\")\n",
    "plt.xlabel('#Epoch')\n",
    "plt.ylabel('RMSE Loss')\n",
    "# plt.savefig(\"Train_Loss_with_weight_50.jpg\")\n",
    "plt.show()"
   ]
  },
  {
   "cell_type": "markdown",
   "metadata": {},
   "source": [
    "# Test"
   ]
  },
  {
   "cell_type": "code",
   "execution_count": 9,
   "metadata": {},
   "outputs": [
    {
     "name": "stdout",
     "output_type": "stream",
     "text": [
      "INFO:tensorflow:Restoring parameters from model/rrn_class_rmse.ckpt\n",
      "0.240003352719\n"
     ]
    }
   ],
   "source": [
    "tf.reset_default_graph()\n",
    "\n",
    "model = rrn.RRN(user_hparas=user_test_hparas, item_hparas=item_test_hparas, \n",
    "                user_vectors=user_vectors, item_vectors=item_vectors,\n",
    "                is_train=False, loss_function='rmse')\n",
    "\n",
    "model.model_load('class_rmse')\n",
    "\n",
    "test_rmse = model.test(df_test, user_map, item_map, initial_time, test_start_time, all_user_item_num)\n",
    "\n",
    "print (sum(test_rmse)/len(test_rmse))"
   ]
  },
  {
   "cell_type": "markdown",
   "metadata": {},
   "source": [
    "## Class dataset\n",
    "**RMSE** (with weighted)"
   ]
  },
  {
   "cell_type": "code",
   "execution_count": null,
   "metadata": {},
   "outputs": [],
   "source": [
    "tf.reset_default_graph()\n",
    "\n",
    "model = rrn.RRN(user_hparas=user_test_hparas, item_hparas=item_test_hparas, \n",
    "                user_vectors=user_vectors, item_vectors=item_vectors,\n",
    "                is_train=False, loss_function='log_loss')\n",
    "\n",
    "model.model_load('class_log_loss')\n",
    "\n",
    "for i in top_ranks:\n",
    "    losses = model.test(df_test, user_map, item_map, initial_time, individually=True, top_rank=i)\n",
    "    print (\"top%d %s loss: %f\" % (len(i), model.loss_function, sum(losses)/len(losses)))\n",
    "    \n",
    "print ()\n",
    "losses = model.test(df_test, user_map, item_map, initial_time, individually=False, top_rank=None)\n",
    "print (\"All items %s loss: %f\" % (model.loss_function, sum(losses)/len(losses)))"
   ]
  },
  {
   "cell_type": "markdown",
   "metadata": {},
   "source": [
    "## Itri dataset \n",
    "**LOG_LOSS** (without weighted)"
   ]
  },
  {
   "cell_type": "code",
   "execution_count": null,
   "metadata": {
    "collapsed": true,
    "scrolled": true
   },
   "outputs": [],
   "source": [
    "tf.reset_default_graph()\n",
    "\n",
    "model = rrn.RRN(user_hparas=user_test_hparas, item_hparas=item_test_hparas, \n",
    "                user_vectors=user_vectors, item_vectors=item_vectors,\n",
    "                is_train=False, loss_function='log_loss')\n",
    "\n",
    "model.model_load('itri_log_loss')\n",
    "\n",
    "# for i in top_ranks:\n",
    "#     losses = model.test(df_test, user_map, item_map, initial_time, individually=True, top_rank=i)\n",
    "#     print (\"top%d %s loss: %f\" % (len(i), model.loss_function, sum(losses)/len(losses)))\n",
    "    \n",
    "# print ()\n",
    "losses = model.test(df_test, user_map, item_map, initial_time, individually=False, top_rank=None)\n",
    "print (\"All items %s loss: %f\" % (model.loss_function, sum(losses)/len(losses)))"
   ]
  },
  {
   "cell_type": "markdown",
   "metadata": {},
   "source": [
    "## Itri dataset \n",
    "**LOG_LOSS** (with weighted)"
   ]
  },
  {
   "cell_type": "code",
   "execution_count": null,
   "metadata": {
    "collapsed": true
   },
   "outputs": [],
   "source": [
    "tf.reset_default_graph()\n",
    "\n",
    "model = rrn.RRN(user_hparas=user_test_hparas, item_hparas=item_test_hparas, \n",
    "                user_vectors=user_vectors, item_vectors=item_vectors,\n",
    "                is_train=False, loss_function='log_loss')\n",
    "\n",
    "model.model_load('class_log_loss_weighted')\n",
    "\n",
    "for i in top_ranks:\n",
    "    losses = model.test(df_test, user_map, item_map, initial_time, individually=True, top_rank=i)\n",
    "    print (\"top%d %s loss: %f\" % (len(i), model.loss_function, sum(losses)/len(losses)))\n",
    "    \n",
    "print ()\n",
    "losses = model.test(df_test, user_map, item_map, initial_time, individually=False, top_rank=None)\n",
    "print (\"All items %s loss: %f\" % (model.loss_function, sum(losses)/len(losses)))"
   ]
  },
  {
   "cell_type": "markdown",
   "metadata": {},
   "source": [
    "# Debug Section"
   ]
  },
  {
   "cell_type": "code",
   "execution_count": null,
   "metadata": {
    "collapsed": true
   },
   "outputs": [],
   "source": [
    "tf.reset_default_graph()\n",
    "\n",
    "model = rrn.RRN(user_hparas=user_test_hparas, item_hparas=item_test_hparas, \n",
    "                user_vectors=user_vectors, item_vectors=item_vectors,\n",
    "                is_train=False, lr=0.01, epochs=100, loss_function='log_loss')\n",
    "model.model_load('itri_log_loss')"
   ]
  },
  {
   "cell_type": "code",
   "execution_count": null,
   "metadata": {
    "collapsed": true
   },
   "outputs": [],
   "source": [
    "sequential_loss = []\n",
    "prep = Preprocess(\n",
    "    df_test, user_map, item_map, initial_time, 'rating', \n",
    "    user_time_interval=model.user_hparas['TIME_INTERVAL'], \n",
    "    item_time_interval=model.item_hparas['TIME_INTERVAL'])\n",
    "\n",
    "user_input, item_input, ground_truth, batch_user, batch_item = prep.gen_batch(0)\n",
    "u_static_vector = prep.get_latent_vector(batch_user, user_vectors, 'user')\n",
    "i_static_vector = prep.get_latent_vector(batch_item, item_vectors, 'item')\n",
    "weight_list = prep.get_list_weight(top_ranks[2], model.weighted)"
   ]
  },
  {
   "cell_type": "code",
   "execution_count": null,
   "metadata": {
    "collapsed": true
   },
   "outputs": [],
   "source": []
  }
 ],
 "metadata": {
  "kernelspec": {
   "display_name": "Python 3",
   "language": "python",
   "name": "python3"
  },
  "language_info": {
   "codemirror_mode": {
    "name": "ipython",
    "version": 3
   },
   "file_extension": ".py",
   "mimetype": "text/x-python",
   "name": "python",
   "nbconvert_exporter": "python",
   "pygments_lexer": "ipython3",
   "version": "3.6.2"
  }
 },
 "nbformat": 4,
 "nbformat_minor": 2
}
