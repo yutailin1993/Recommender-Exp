{
 "cells": [
  {
   "cell_type": "code",
   "execution_count": 1,
   "metadata": {
    "scrolled": true
   },
   "outputs": [
    {
     "name": "stderr",
     "output_type": "stream",
     "text": [
      "/Users/larry/Py3/lib/python3.6/importlib/_bootstrap.py:205: RuntimeWarning: compiletime version 3.5 of module 'tensorflow.python.framework.fast_tensor_util' does not match runtime version 3.6\n",
      "  return f(*args, **kwds)\n"
     ]
    }
   ],
   "source": [
    "import numpy as np\n",
    "import pandas as pd\n",
    "import matplotlib.pyplot as plt\n",
    "from preprocess import Preprocess\n",
    "import tensorflow as tf\n",
    "import rrn"
   ]
  },
  {
   "cell_type": "markdown",
   "metadata": {},
   "source": [
    "# Load Data and user/item vectors"
   ]
  },
  {
   "cell_type": "code",
   "execution_count": 2,
   "metadata": {
    "collapsed": true,
    "scrolled": true
   },
   "outputs": [],
   "source": [
    "df = pd.read_csv('../data/class/rating_data.csv')\n",
    "df['freq'] = df.groupby('uid')['uid'].transform('count')  # count frequncy by column's values\n",
    "df = df[df['freq'] > 5]  # remove row which corresponding frequence < 5\n",
    "\n",
    "user_vectors = np.load('../data/class/user_vectors.npy')\n",
    "item_vectors = np.load('../data/class/item_vectors.npy')\n",
    "\n",
    "user_time_interval = 3 * 30\n",
    "item_time_interval = 3 * 30"
   ]
  },
  {
   "cell_type": "markdown",
   "metadata": {},
   "source": [
    "# Top List preprocess"
   ]
  },
  {
   "cell_type": "code",
   "execution_count": 3,
   "metadata": {
    "collapsed": true
   },
   "outputs": [],
   "source": [
    "df_item = pd.DataFrame(df['iid'])\n",
    "df_item.column = ['iid']\n",
    "df_item['freq'] = df_item.groupby('iid')['iid'].transform('count')\n",
    "df_item = df_item.drop_duplicates()\n",
    "df_item = df_item.sort_values(by=['freq'], ascending=False)\n",
    "top_list = df_item['iid'].as_matrix()\n",
    "\n",
    "top_ranks = []\n",
    "for i in range(1, 10):\n",
    "    top_ranks.append(top_list[:i*10])"
   ]
  },
  {
   "cell_type": "markdown",
   "metadata": {},
   "source": [
    "# Data preprocessing"
   ]
  },
  {
   "cell_type": "code",
   "execution_count": 4,
   "metadata": {
    "collapsed": true
   },
   "outputs": [],
   "source": [
    "import math\n",
    "def get_map(list_):\n",
    "    map_ = {}\n",
    "    for idx, ident in enumerate(list_):\n",
    "        map_[ident] = idx\n",
    "        \n",
    "    return map_\n",
    "\n",
    "def train_test_split(df, time_interval, split_rate= 0.125):\n",
    "    start_time = min(df['timestamp'])\n",
    "    end_time = max(df['timestamp'])\n",
    "    time_elapse = (end_time-start_time) // time_interval\n",
    "    split_time = start_time + math.floor(time_elapse * (1-split_rate)) * time_interval\n",
    "    \n",
    "    df_train = df[df['timestamp'] < split_time]\n",
    "    df_test = df[df['timestamp'] >= split_time]\n",
    "    \n",
    "    return df_train, df_test"
   ]
  },
  {
   "cell_type": "code",
   "execution_count": 5,
   "metadata": {
    "collapsed": true
   },
   "outputs": [],
   "source": [
    "userList = np.unique(df['uid'])\n",
    "itemList = np.unique(df['iid'])\n",
    "user_map = get_map(userList)\n",
    "item_map = get_map(itemList)\n",
    "initial_time = min(df['timestamp'])\n",
    "\n",
    "df_train, df_test = train_test_split(df, user_time_interval * 24 * 3600)"
   ]
  },
  {
   "cell_type": "markdown",
   "metadata": {},
   "source": [
    "## Set Hyperparameter"
   ]
  },
  {
   "cell_type": "code",
   "execution_count": 6,
   "metadata": {
    "collapsed": true
   },
   "outputs": [],
   "source": [
    "def get_hparas(batch_size, vector_length, time_interval, name):\n",
    "    hparas={\n",
    "        'NAME': name,\n",
    "        'EMBED_UNITS': 40,\n",
    "        'BATCH_SIZE': batch_size,\n",
    "        'LSTM_UNITS': 40,\n",
    "        'LATENT_UNITS': 20,\n",
    "        'VECTOR_LENGTH': vector_length+3,\n",
    "        'TRAIN_TIME_ELAPSE': 21,\n",
    "        'TEST_TIME_ELAPSE': 3,\n",
    "        'STATIONARY_LENGTH': 20,\n",
    "        'TIME_INTERVAL': time_interval,\n",
    "    }\n",
    "    \n",
    "    return hparas\n",
    "\n",
    "item_train_list = np.unique(df_train['iid'])\n",
    "item_test_list = np.unique(df_test['iid'])\n",
    "\n",
    "user_train_hparas = get_hparas(64, len(itemList), user_time_interval, 'USER')\n",
    "item_train_hparas = get_hparas(len(item_train_list), len(userList), item_time_interval, 'ITEM')\n",
    "user_test_hparas = get_hparas(64, len(itemList), user_time_interval, 'USER')\n",
    "item_test_hparas = get_hparas(len(item_test_list), len(userList), item_time_interval, 'ITEM')"
   ]
  },
  {
   "cell_type": "markdown",
   "metadata": {},
   "source": [
    "# Train"
   ]
  },
  {
   "cell_type": "code",
   "execution_count": 11,
   "metadata": {
    "scrolled": true
   },
   "outputs": [
    {
     "name": "stderr",
     "output_type": "stream",
     "text": [
      "100%|██████████| 200/200 [00:45<00:00,  4.37it/s]\n"
     ]
    },
    {
     "data": {
      "image/png": "[encoded data removed]",
      "text/plain": [
       "<matplotlib.figure.Figure at 0x117dad518>"
      ]
     },
     "metadata": {},
     "output_type": "display_data"
    }
   ],
   "source": [
    "tf.reset_default_graph()\n",
    "\n",
    "model = rrn.RRN(user_hparas=user_train_hparas, item_hparas=item_train_hparas, \n",
    "                user_vectors=user_vectors, item_vectors=item_vectors,\n",
    "                is_train=True, lr=0.01, epochs=200, loss_function='rmse', weighted=10)\n",
    "\n",
    "model.train(df_train, user_map, item_map, initial_time, top_rank=top_ranks[0])\n",
    "model.model_save('class_rmse_weighted')\n",
    "\n",
    "train_loss = model.log['train_loss']\n",
    "plt.plot(range(len(train_loss)), train_loss, color='blue', label='Train loss')\n",
    "plt.title(\"Train Loss with weight=10\")\n",
    "plt.legend(loc=\"upper right\")\n",
    "plt.xlabel('#Epoch')\n",
    "plt.ylabel('RMSE Loss')\n",
    "plt.savefig(\"Train_Loss_with_weight_10.jpg\")\n",
    "plt.show()"
   ]
  },
  {
   "cell_type": "code",
   "execution_count": 12,
   "metadata": {},
   "outputs": [
    {
     "name": "stderr",
     "output_type": "stream",
     "text": [
      "100%|██████████| 200/200 [00:47<00:00,  4.25it/s]\n"
     ]
    },
    {
     "data": {
      "image/png": "[encoded data removed]",
      "text/plain": [
       "<matplotlib.figure.Figure at 0x11b756f98>"
      ]
     },
     "metadata": {},
     "output_type": "display_data"
    }
   ],
   "source": [
    "tf.reset_default_graph()\n",
    "\n",
    "model = rrn.RRN(user_hparas=user_train_hparas, item_hparas=item_train_hparas, \n",
    "                user_vectors=user_vectors, item_vectors=item_vectors,\n",
    "                is_train=True, lr=0.01, epochs=200, loss_function='rmse', weighted=None)\n",
    "\n",
    "model.train(df_train, user_map, item_map, initial_time, top_rank=None)\n",
    "model.model_save('class_rmse')\n",
    "\n",
    "train_loss = model.log['train_loss']\n",
    "plt.plot(range(len(train_loss)), train_loss, color='blue', label='Train loss')\n",
    "plt.title(\"Train loss without weight\")\n",
    "plt.legend(loc=\"upper right\")\n",
    "plt.xlabel('#Epoch')\n",
    "plt.ylabel('RMSE Loss')\n",
    "plt.savefig(\"Train_Loss_without_weight.jpg\")\n",
    "plt.show()"
   ]
  },
  {
   "cell_type": "markdown",
   "metadata": {},
   "source": [
    "# Test"
   ]
  },
  {
   "cell_type": "markdown",
   "metadata": {},
   "source": [
    "## Class dataset\n",
    "**RMSE** (no weighted)"
   ]
  },
  {
   "cell_type": "code",
   "execution_count": 7,
   "metadata": {
    "scrolled": true
   },
   "outputs": [
    {
     "name": "stdout",
     "output_type": "stream",
     "text": [
      "INFO:tensorflow:Restoring parameters from model/rrn_class_rmse.ckpt\n",
      "top10 rmse loss: 0.052712\n",
      "top20 rmse loss: 0.067790\n",
      "top30 rmse loss: 0.074238\n",
      "top40 rmse loss: 0.083599\n",
      "top50 rmse loss: 0.087414\n",
      "top60 rmse loss: 0.089672\n",
      "top70 rmse loss: 0.091890\n",
      "top80 rmse loss: 0.092935\n",
      "top90 rmse loss: 0.095332\n",
      "\n",
      "All items rmse loss: 0.095698\n"
     ]
    }
   ],
   "source": [
    "tf.reset_default_graph()\n",
    "\n",
    "model = rrn.RRN(user_hparas=user_test_hparas, item_hparas=item_test_hparas, \n",
    "                user_vectors=user_vectors, item_vectors=item_vectors,\n",
    "                is_train=False, loss_function='rmse')\n",
    "\n",
    "model.model_load('class_rmse')\n",
    "\n",
    "for i in top_ranks:\n",
    "    losses = model.test(df_test, user_map, item_map, initial_time, individually=True, top_rank=i)\n",
    "    print (\"top%d %s loss: %f\" % (len(i), model.loss_function, sum(losses)/len(losses)))\n",
    "    \n",
    "print ()\n",
    "losses = model.test(df_test, user_map, item_map, initial_time, individually=False, top_rank=None)\n",
    "print (\"All items %s loss: %f\" % (model.loss_function, sum(losses)/len(losses)))"
   ]
  },
  {
   "cell_type": "code",
   "execution_count": 15,
   "metadata": {},
   "outputs": [
    {
     "name": "stdout",
     "output_type": "stream",
     "text": [
      "98\n"
     ]
    }
   ],
   "source": [
    "print (len(np.unique(df_test['iid'])))"
   ]
  },
  {
   "cell_type": "markdown",
   "metadata": {},
   "source": [
    "## Class dataset\n",
    "**RMSE** (with weighted)"
   ]
  },
  {
   "cell_type": "code",
   "execution_count": 8,
   "metadata": {},
   "outputs": [
    {
     "name": "stdout",
     "output_type": "stream",
     "text": [
      "INFO:tensorflow:Restoring parameters from model/rrn_class_rmse_weighted.ckpt\n",
      "top10 rmse loss: 0.049237\n",
      "top20 rmse loss: 0.063854\n",
      "top30 rmse loss: 0.069879\n",
      "top40 rmse loss: 0.079201\n",
      "top50 rmse loss: 0.083094\n",
      "top60 rmse loss: 0.085345\n",
      "top70 rmse loss: 0.087551\n",
      "top80 rmse loss: 0.088551\n",
      "top90 rmse loss: 0.090995\n",
      "\n",
      "All items rmse loss: 0.091320\n"
     ]
    }
   ],
   "source": [
    "tf.reset_default_graph()\n",
    "\n",
    "model = rrn.RRN(user_hparas=user_test_hparas, item_hparas=item_test_hparas, \n",
    "                user_vectors=user_vectors, item_vectors=item_vectors,\n",
    "                is_train=False, loss_function='rmse')\n",
    "\n",
    "model.model_load('class_rmse_weighted')\n",
    "\n",
    "for i in top_ranks:\n",
    "    losses = model.test(df_test, user_map, item_map, initial_time, individually=True, top_rank=i)\n",
    "    print (\"top%d %s loss: %f\" % (len(i), model.loss_function, sum(losses)/len(losses)))\n",
    "    \n",
    "print ()\n",
    "losses = model.test(df_test, user_map, item_map, initial_time, individually=False, top_rank=None)\n",
    "print (\"All items %s loss: %f\" % (model.loss_function, sum(losses)/len(losses)))"
   ]
  },
  {
   "cell_type": "markdown",
   "metadata": {},
   "source": [
    "## Itri dataset \n",
    "**RMSE** (no weighted)"
   ]
  },
  {
   "cell_type": "code",
   "execution_count": null,
   "metadata": {},
   "outputs": [],
   "source": [
    "tf.reset_default_graph()\n",
    "\n",
    "model = rrn.RRN(user_hparas=user_test_hparas, item_hparas=item_test_hparas, \n",
    "                user_vectors=user_vectors, item_vectors=item_vectors,\n",
    "                is_train=False, loss_function='rmse')\n",
    "\n",
    "model.model_load('itri_rmse')\n",
    "\n",
    "for i in top_ranks:\n",
    "    losses = model.test(df_test, user_map, item_map, initial_time, individually=True, top_rank=i)\n",
    "    print (\"top%d %s loss: %f\" % (len(i), model.loss_function, sum(losses)/len(losses)))\n",
    "    \n",
    "print ()\n",
    "losses = model.test(df_test, user_map, item_map, initial_time, individually=False, top_rank=None)\n",
    "print (\"All items %s loss: %f\" % (model.loss_function, sum(losses)/len(losses)))"
   ]
  },
  {
   "cell_type": "markdown",
   "metadata": {},
   "source": [
    "## Itri dataset \n",
    "**RMSE** (with weighted)"
   ]
  },
  {
   "cell_type": "code",
   "execution_count": null,
   "metadata": {
    "scrolled": false
   },
   "outputs": [],
   "source": [
    "tf.reset_default_graph()\n",
    "\n",
    "model = rrn.RRN(user_hparas=user_test_hparas, item_hparas=item_test_hparas, \n",
    "                user_vectors=user_vectors, item_vectors=item_vectors,\n",
    "                is_train=False, loss_function='rmse')\n",
    "\n",
    "model.model_load('itri_rmse_weighted')\n",
    "\n",
    "for i in top_ranks:\n",
    "    losses = model.test(df_test, user_map, item_map, initial_time, individually=True, top_rank=i)\n",
    "    print (\"top%d %s loss: %f\" % (len(i), model.loss_function, sum(losses)/len(losses)))\n",
    "    \n",
    "print ()\n",
    "losses = model.test(df_test, user_map, item_map, initial_time, individually=False, top_rank=None)\n",
    "print (\"All items %s loss: %f\" % (model.loss_function, sum(losses)/len(losses)))"
   ]
  },
  {
   "cell_type": "markdown",
   "metadata": {},
   "source": [
    "## Itri dataset \n",
    "**LOG_LOSS** (without weighted)"
   ]
  },
  {
   "cell_type": "code",
   "execution_count": null,
   "metadata": {},
   "outputs": [],
   "source": [
    "tf.reset_default_graph()\n",
    "\n",
    "model = rrn.RRN(user_hparas=user_test_hparas, item_hparas=item_test_hparas, \n",
    "                user_vectors=user_vectors, item_vectors=item_vectors,\n",
    "                is_train=False, loss_function='log_loss')\n",
    "\n",
    "model.model_load('class_log_loss')\n",
    "\n",
    "for i in top_ranks:\n",
    "    losses = model.test(df_test, user_map, item_map, initial_time, individually=True, top_rank=i)\n",
    "    print (\"top%d %s loss: %f\" % (len(i), model.loss_function, sum(losses)/len(losses)))\n",
    "    \n",
    "print ()\n",
    "losses = model.test(df_test, user_map, item_map, initial_time, individually=False, top_rank=None)\n",
    "print (\"All items %s loss: %f\" % (model.loss_function, sum(losses)/len(losses)))"
   ]
  },
  {
   "cell_type": "markdown",
   "metadata": {},
   "source": [
    "## Itri dataset \n",
    "**LOG_LOSS** (with weighted)"
   ]
  },
  {
   "cell_type": "code",
   "execution_count": null,
   "metadata": {},
   "outputs": [],
   "source": [
    "tf.reset_default_graph()\n",
    "\n",
    "model = rrn.RRN(user_hparas=user_test_hparas, item_hparas=item_test_hparas, \n",
    "                user_vectors=user_vectors, item_vectors=item_vectors,\n",
    "                is_train=False, loss_function='log_loss')\n",
    "\n",
    "model.model_load('class_log_loss_weighted')\n",
    "\n",
    "for i in top_ranks:\n",
    "    losses = model.test(df_test, user_map, item_map, initial_time, individually=True, top_rank=i)\n",
    "    print (\"top%d %s loss: %f\" % (len(i), model.loss_function, sum(losses)/len(losses)))\n",
    "    \n",
    "print ()\n",
    "losses = model.test(df_test, user_map, item_map, initial_time, individually=False, top_rank=None)\n",
    "print (\"All items %s loss: %f\" % (model.loss_function, sum(losses)/len(losses)))"
   ]
  },
  {
   "cell_type": "markdown",
   "metadata": {},
   "source": [
    "# Debug Section"
   ]
  },
  {
   "cell_type": "code",
   "execution_count": 9,
   "metadata": {
    "collapsed": true
   },
   "outputs": [],
   "source": [
    "tf.reset_default_graph()\n",
    "\n",
    "model = rrn.RRN(user_hparas=user_test_hparas, item_hparas=item_test_hparas, \n",
    "                user_vectors=user_vectors, item_vectors=item_vectors,\n",
    "                is_train=False, lr=0.01, epochs=200, loss_function='rmse')"
   ]
  },
  {
   "cell_type": "code",
   "execution_count": 10,
   "metadata": {
    "collapsed": true
   },
   "outputs": [],
   "source": [
    "prep = Preprocess(\n",
    "    df_test, user_map, item_map, initial_time, 'rating', \n",
    "    user_time_interval=model.user_hparas['TIME_INTERVAL'], \n",
    "    item_time_interval=model.item_hparas['TIME_INTERVAL'])\n",
    "\n",
    "user_input, item_input, ground_truth, batch_user, batch_item = prep.gen_batch(0)\n",
    "u_static_vector = prep.get_latent_vector(batch_user, user_vectors, 'user')\n",
    "i_static_vector = prep.get_latent_vector(batch_item, item_vectors, 'item')\n",
    "weight_list = prep.get_list_weight(top_ranks[2], model.weighted)"
   ]
  },
  {
   "cell_type": "code",
   "execution_count": 12,
   "metadata": {},
   "outputs": [],
   "source": [
    "output = model.sess.run(\n",
    "    model.logits,\n",
    "    feed_dict={\n",
    "        model.user_input: user_input,\n",
    "        model.item_input: item_input,\n",
    "        model.ground_truth: ground_truth,\n",
    "        model.user_stationary_factor: u_static_vector,\n",
    "        model.item_stationary_factor: i_static_vector,\n",
    "    })"
   ]
  },
  {
   "cell_type": "code",
   "execution_count": 13,
   "metadata": {},
   "outputs": [
    {
     "name": "stdout",
     "output_type": "stream",
     "text": [
      "[ 5.81169128  4.52204275  4.99284697  4.33437443  2.87153411  4.41719961\n",
      "  5.11110163  3.8524456   5.12133312  3.47401977  4.73781967  5.58775377\n",
      "  5.38044691  4.51378775  4.8392911   5.02687311  5.25166225  4.83331108\n",
      "  3.79914141  4.57301521  4.86301661  3.9047823   4.35889626  4.39681053\n",
      "  5.84805632  4.35857296  5.06222534  4.83609009  5.34923601  5.81556129\n",
      "  4.57040977  5.44479847  3.79669833  4.31056404  6.18707085  4.92283201\n",
      "  4.87507582  5.10336065  4.93733215  4.18735218  4.51359081  4.88879919\n",
      "  4.72976255  6.79192543  5.00381994  4.99619627  4.9037075   4.88151073\n",
      "  4.74242163  4.58906984  4.25060606  4.74207973  4.40714836  4.99892473\n",
      "  5.31768703  4.46811581  4.83798456  5.13660288  4.17998695  5.1624074\n",
      "  4.8057065   5.01132298  4.23186779  5.04250097  4.16088009  3.4084959\n",
      "  5.34545898  4.27645206  4.70597649  4.46476793  3.76662111  5.79070234\n",
      "  4.52456379  4.483922    5.67783737  4.80467415  5.33378077  5.03865623\n",
      "  4.24382067  4.85177517  4.29969931  5.41783094  3.98486662  4.58493042\n",
      "  3.76422215  4.46312761  4.4144845   5.14980173  5.10844517  3.93397689\n",
      "  4.13766718  4.48000526  4.78315878  5.05528212  4.41329527  4.82389402\n",
      "  5.25654078  5.1699481 ]\n"
     ]
    }
   ],
   "source": [
    "print (output[0][1])"
   ]
  },
  {
   "cell_type": "code",
   "execution_count": null,
   "metadata": {},
   "outputs": [],
   "source": [
    "filter_ = tf.nn.relu(tf.sign(model.ground_truth))\n",
    "\n",
    "filtered = model.sess.run(filter_, feed_dict={model.ground_truth: ground_truth})"
   ]
  },
  {
   "cell_type": "code",
   "execution_count": null,
   "metadata": {},
   "outputs": [],
   "source": [
    "filtered[0]"
   ]
  },
  {
   "cell_type": "code",
   "execution_count": null,
   "metadata": {
    "collapsed": true
   },
   "outputs": [],
   "source": []
  }
 ],
 "metadata": {
  "kernelspec": {
   "display_name": "Python 3",
   "language": "python",
   "name": "python3"
  },
  "language_info": {
   "codemirror_mode": {
    "name": "ipython",
    "version": 3
   },
   "file_extension": ".py",
   "mimetype": "text/x-python",
   "name": "python",
   "nbconvert_exporter": "python",
   "pygments_lexer": "ipython3",
   "version": "3.6.2"
  }
 },
 "nbformat": 4,
 "nbformat_minor": 2
}
