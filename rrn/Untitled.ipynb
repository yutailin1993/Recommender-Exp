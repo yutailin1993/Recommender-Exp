{
 "cells": [
  {
   "cell_type": "code",
   "execution_count": 1,
   "metadata": {
    "scrolled": false
   },
   "outputs": [
    {
     "name": "stderr",
     "output_type": "stream",
     "text": [
      "/Users/larry/Py3/lib/python3.6/importlib/_bootstrap.py:205: RuntimeWarning: compiletime version 3.5 of module 'tensorflow.python.framework.fast_tensor_util' does not match runtime version 3.6\n",
      "  return f(*args, **kwds)\n"
     ]
    }
   ],
   "source": [
    "import numpy as np\n",
    "import pandas as pd\n",
    "import matplotlib.pyplot as plt\n",
    "from preprocess import Preprocess\n",
    "import tensorflow as tf\n",
    "import rrn"
   ]
  },
  {
   "cell_type": "code",
   "execution_count": 2,
   "metadata": {
    "scrolled": true
   },
   "outputs": [],
   "source": [
    "df = pd.read_csv('rating_data.csv')\n",
    "df['freq'] = df.groupby('uid')['uid'].transform('count')  # count frequncy by column's values\n",
    "df = df[df['freq'] > 5]  # remove row which corresponding frequence < 5\n",
    "\n",
    "preprocess = Preprocess(df)\n",
    "\n",
    "usr_matrix, item_matrix, ground_truth, batch_user, batch_item = preprocess.gen_batch()"
   ]
  },
  {
   "cell_type": "code",
   "execution_count": 3,
   "metadata": {},
   "outputs": [],
   "source": [
    "for season_idx in range(ground_truth.shape[0]):\n",
    "    for usr_idx in range(ground_truth.shape[1]):\n",
    "        for item_idx in range(ground_truth.shape[2]):\n",
    "            usr = preprocess.user_map[batch_user[usr_idx]]\n",
    "            item = batch_item[item_idx] - 1\n",
    "            try:\n",
    "                assert ground_truth[season_idx][usr_idx][item_idx] == usr_matrix[usr_idx][season_idx][item]\n",
    "            except AssertionError:\n",
    "                print (\"season_idx, usr_idx, item_idx: %d, %d, %d\" % (season_idx, usr_idx, item))\n",
    "            try:\n",
    "                assert ground_truth[season_idx][usr_idx][item_idx] == item_matrix[item_idx][season_idx][usr]\n",
    "            except AssertionError:\n",
    "                print (\"season_idx, usr, item_idx: %d, %d, %d\" % (season_idx, usr, item_idx))"
   ]
  },
  {
   "cell_type": "code",
   "execution_count": 4,
   "metadata": {
    "collapsed": true
   },
   "outputs": [],
   "source": [
    "def get_hparas(name):\n",
    "    if name == 'USER':\n",
    "        hparas = {\n",
    "            'NAME': name,\n",
    "            'EMBED_UNITS': 40,\n",
    "            'BATCH_SIZE': 64,\n",
    "            'LSTM_UNITS': 40,\n",
    "            'LATENT_UNITS': 20,\n",
    "            'ITEM_NUM': 102,\n",
    "            'TIME_ELAPSE': 25,\n",
    "            'STATIONARY_LENGTH': 20,\n",
    "        }\n",
    "    elif name == 'ITEM':\n",
    "        hparas = {\n",
    "            'NAME': name,\n",
    "            'EMBED_UNITS': 40,\n",
    "            'BATCH_SIZE': 64,\n",
    "            'LATENT_UNITS': 20,\n",
    "            'LSTM_UNITS': 40,\n",
    "            'TIME_ELAPSE': 25,\n",
    "            'USER_NUM': 842,\n",
    "            'STATIONARY_LENGTH': 20\n",
    "        }\n",
    "    \n",
    "    return hparas"
   ]
  },
  {
   "cell_type": "code",
   "execution_count": 5,
   "metadata": {},
   "outputs": [],
   "source": [
    "user_hparas = get_hparas('USER')\n",
    "item_hparas = get_hparas('ITEM')\n",
    "\n",
    "tf.reset_default_graph()\n",
    "\n",
    "model = rrn.RRN(user_hparas=user_hparas, item_hparas=item_hparas, lr=0.001)"
   ]
  },
  {
   "cell_type": "code",
   "execution_count": 6,
   "metadata": {
    "scrolled": true
   },
   "outputs": [
    {
     "data": {
      "text/plain": [
       "[<tf.Variable 'ENCODE/ENCODE_USER/dense/kernel:0' shape=(102, 40) dtype=float32_ref>,\n",
       " <tf.Variable 'ENCODE/ENCODE_USER/dense/bias:0' shape=(40,) dtype=float32_ref>,\n",
       " <tf.Variable 'LSTM/LSTM_USER/rnn/basic_lstm_cell/kernel:0' shape=(80, 160) dtype=float32_ref>,\n",
       " <tf.Variable 'LSTM/LSTM_USER/rnn/basic_lstm_cell/bias:0' shape=(160,) dtype=float32_ref>,\n",
       " <tf.Variable 'AFFINE/AFFINE_USER/dense/kernel:0' shape=(40, 20) dtype=float32_ref>,\n",
       " <tf.Variable 'AFFINE/AFFINE_USER/dense/bias:0' shape=(20,) dtype=float32_ref>]"
      ]
     },
     "execution_count": 6,
     "metadata": {},
     "output_type": "execute_result"
    }
   ],
   "source": [
    "model.user_vars\n"
   ]
  },
  {
   "cell_type": "code",
   "execution_count": 7,
   "metadata": {},
   "outputs": [
    {
     "data": {
      "text/plain": [
       "[<tf.Variable 'ENCODE/ENCODE_ITEM/dense/kernel:0' shape=(842, 40) dtype=float32_ref>,\n",
       " <tf.Variable 'ENCODE/ENCODE_ITEM/dense/bias:0' shape=(40,) dtype=float32_ref>,\n",
       " <tf.Variable 'LSTM/LSTM_ITEM/rnn/basic_lstm_cell/kernel:0' shape=(80, 160) dtype=float32_ref>,\n",
       " <tf.Variable 'LSTM/LSTM_ITEM/rnn/basic_lstm_cell/bias:0' shape=(160,) dtype=float32_ref>,\n",
       " <tf.Variable 'AFFINE/AFFINE_ITEM/dense/kernel:0' shape=(40, 20) dtype=float32_ref>,\n",
       " <tf.Variable 'AFFINE/AFFINE_ITEM/dense/bias:0' shape=(20,) dtype=float32_ref>]"
      ]
     },
     "execution_count": 7,
     "metadata": {},
     "output_type": "execute_result"
    }
   ],
   "source": [
    "model.item_vars"
   ]
  },
  {
   "cell_type": "code",
   "execution_count": 8,
   "metadata": {},
   "outputs": [],
   "source": [
    "with tf.Session() as sess:\n",
    "    sess.run(tf.global_variables_initializer())\n",
    "\n",
    "writer = tf.summary.FileWriter(\"logs/\", sess.graph)"
   ]
  },
  {
   "cell_type": "code",
   "execution_count": null,
   "metadata": {
    "collapsed": true
   },
   "outputs": [],
   "source": []
  }
 ],
 "metadata": {
  "kernelspec": {
   "display_name": "Python 3",
   "language": "python",
   "name": "python3"
  },
  "language_info": {
   "codemirror_mode": {
    "name": "ipython",
    "version": 3
   },
   "file_extension": ".py",
   "mimetype": "text/x-python",
   "name": "python",
   "nbconvert_exporter": "python",
   "pygments_lexer": "ipython3",
   "version": "3.6.2"
  }
 },
 "nbformat": 4,
 "nbformat_minor": 2
}
