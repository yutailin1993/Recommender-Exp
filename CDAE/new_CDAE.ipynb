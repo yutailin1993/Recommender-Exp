{
 "cells": [
  {
   "cell_type": "code",
   "execution_count": 1,
   "metadata": {
    "scrolled": true
   },
   "outputs": [
    {
     "name": "stderr",
     "output_type": "stream",
     "text": [
      "/Users/larry/Py3/lib/python3.6/importlib/_bootstrap.py:205: RuntimeWarning: compiletime version 3.5 of module 'tensorflow.python.framework.fast_tensor_util' does not match runtime version 3.6\n",
      "  return f(*args, **kwds)\n"
     ]
    }
   ],
   "source": [
    "import numpy as np\n",
    "import pandas as pd\n",
    "import matplotlib.pyplot as plt\n",
    "import tensorflow as tf\n",
    "from CDAE import AutoEncoder\n",
    "from tqdm import trange\n",
    "from utils import *\n",
    "import clustering\n",
    "\n",
    "from sklearn.cluster import KMeans, spectral_clustering\n",
    "from sklearn.decomposition import PCA"
   ]
  },
  {
   "cell_type": "code",
   "execution_count": 22,
   "metadata": {
    "scrolled": false
   },
   "outputs": [
    {
     "name": "stdout",
     "output_type": "stream",
     "text": [
      "sparsity of ratings is 33.01%\n",
      "num. of users: 332, num. of items: 1002\n"
     ]
    }
   ],
   "source": [
    "df = pd.read_csv('../data/itri/rating_itri.csv')\n",
    "df['freq'] = df.groupby('uid')['uid'].transform('count')  # count frequncy by column's values\n",
    "df = df[df['freq'] > 5]  # remove row which corresponding frequence < 5\n",
    "\n",
    "userList = df['uid'].unique()\n",
    "itemList = df['iid'].unique()\n",
    "\n",
    "total_usr = len(df['uid'].unique())\n",
    "total_item = len(df['iid'].unique())\n",
    "\n",
    "sparsity = len(df)/(total_usr*total_item)\n",
    "print(\"sparsity of ratings is %.2f%%\" %(sparsity*100))\n",
    "print (\"num. of users: %d, num. of items: %d\" % (total_usr, total_item))"
   ]
  },
  {
   "cell_type": "code",
   "execution_count": 23,
   "metadata": {
    "collapsed": true
   },
   "outputs": [],
   "source": [
    "import math\n",
    "def get_map(list_):\n",
    "    map_ = {}\n",
    "    for idx, ident in enumerate(list_):\n",
    "        map_[ident] = idx\n",
    "        \n",
    "    return map_\n",
    "\n",
    "def get_matrix(data):\n",
    "    matrix = np.zeros((total_usr, total_item), dtype=np.float32)\n",
    "    for line in data:\n",
    "        uid = user_map[line[0]]\n",
    "        iid = item_map[line[1]]\n",
    "        matrix[uid, iid] = 1\n",
    "    \n",
    "    return matrix\n",
    "\n",
    "def train_test_split(df, time_interval, split_rate=0.5):\n",
    "    start_time = min(df['timestamp'])\n",
    "    end_time = max(df['timestamp'])\n",
    "    time_elapse = (end_time-start_time) // time_interval\n",
    "    split_time = start_time + math.floor(time_elapse * (1-split_rate)) * time_interval\n",
    "    \n",
    "    while split_time < end_time:\n",
    "        df_train = df[df['timestamp'] < split_time]\n",
    "        df_train = df_train[df_train['timestamp'] >= split_time - 6 * time_interval]\n",
    "        \n",
    "        df_test_1 = df[df['timestamp'] >= split_time - 3*time_interval]\n",
    "        df_test_1 = df_test_1[df_test_1['timestamp'] < split_time]\n",
    "        \n",
    "        df_test_2 = df[df['timestamp'] >= split_time]\n",
    "        df_test_2 = df_test_2[df_test_2['timestamp'] < split_time + time_interval]\n",
    "        \n",
    "        # start_time += time_interval\n",
    "        # split_time = start_time + math.floor(time_elapse * (1-split_rate)) * time_interval\n",
    "        split_time += time_interval\n",
    "        \n",
    "        yield df_train, df_test_1, df_test_2"
   ]
  },
  {
   "cell_type": "code",
   "execution_count": 24,
   "metadata": {},
   "outputs": [],
   "source": [
    "user_map = get_map(userList)\n",
    "item_map = get_map(itemList)\n",
    "    \n",
    "user_time_interval = 7 * 24 * 3600"
   ]
  },
  {
   "cell_type": "markdown",
   "metadata": {},
   "source": [
    "# New"
   ]
  },
  {
   "cell_type": "markdown",
   "metadata": {},
   "source": [
    "## Train"
   ]
  },
  {
   "cell_type": "code",
   "execution_count": 25,
   "metadata": {
    "scrolled": true
   },
   "outputs": [
    {
     "name": "stderr",
     "output_type": "stream",
     "text": [
      "100%|██████████| 200/200 [00:30<00:00,  6.62it/s]\n"
     ]
    },
    {
     "name": "stdout",
     "output_type": "stream",
     "text": [
      "INFO:tensorflow:Restoring parameters from model/cdae_1.ckpt\n"
     ]
    },
    {
     "name": "stderr",
     "output_type": "stream",
     "text": [
      "100%|██████████| 200/200 [00:02<00:00, 75.80it/s]\n"
     ]
    },
    {
     "name": "stdout",
     "output_type": "stream",
     "text": [
      "INFO:tensorflow:Restoring parameters from model/cdae_1.ckpt\n"
     ]
    },
    {
     "name": "stderr",
     "output_type": "stream",
     "text": [
      "100%|██████████| 200/200 [00:02<00:00, 81.35it/s]\n"
     ]
    },
    {
     "name": "stdout",
     "output_type": "stream",
     "text": [
      "INFO:tensorflow:Restoring parameters from model/cdae_1.ckpt\n"
     ]
    },
    {
     "name": "stderr",
     "output_type": "stream",
     "text": [
      "100%|██████████| 200/200 [00:04<00:00, 49.67it/s]\n"
     ]
    },
    {
     "name": "stdout",
     "output_type": "stream",
     "text": [
      "INFO:tensorflow:Restoring parameters from model/cdae_1.ckpt\n"
     ]
    },
    {
     "name": "stderr",
     "output_type": "stream",
     "text": [
      "100%|██████████| 200/200 [00:03<00:00, 52.25it/s]\n"
     ]
    },
    {
     "name": "stdout",
     "output_type": "stream",
     "text": [
      "INFO:tensorflow:Restoring parameters from model/cdae_1.ckpt\n"
     ]
    },
    {
     "name": "stderr",
     "output_type": "stream",
     "text": [
      "100%|██████████| 200/200 [00:01<00:00, 110.22it/s]\n"
     ]
    },
    {
     "name": "stdout",
     "output_type": "stream",
     "text": [
      "INFO:tensorflow:Restoring parameters from model/cdae_1.ckpt\n"
     ]
    },
    {
     "name": "stderr",
     "output_type": "stream",
     "text": [
      "100%|██████████| 200/200 [00:03<00:00, 62.12it/s]\n"
     ]
    },
    {
     "name": "stdout",
     "output_type": "stream",
     "text": [
      "INFO:tensorflow:Restoring parameters from model/cdae_1.ckpt\n"
     ]
    },
    {
     "name": "stderr",
     "output_type": "stream",
     "text": [
      "100%|██████████| 200/200 [00:02<00:00, 69.37it/s]\n"
     ]
    },
    {
     "name": "stdout",
     "output_type": "stream",
     "text": [
      "INFO:tensorflow:Restoring parameters from model/cdae_1.ckpt\n"
     ]
    },
    {
     "name": "stderr",
     "output_type": "stream",
     "text": [
      "100%|██████████| 200/200 [00:03<00:00, 56.91it/s]\n"
     ]
    },
    {
     "name": "stdout",
     "output_type": "stream",
     "text": [
      "INFO:tensorflow:Restoring parameters from model/cdae_1.ckpt\n"
     ]
    },
    {
     "name": "stderr",
     "output_type": "stream",
     "text": [
      "100%|██████████| 200/200 [00:04<00:00, 45.71it/s]\n"
     ]
    },
    {
     "name": "stdout",
     "output_type": "stream",
     "text": [
      "INFO:tensorflow:Restoring parameters from model/cdae_1.ckpt\n"
     ]
    },
    {
     "name": "stderr",
     "output_type": "stream",
     "text": [
      "100%|██████████| 200/200 [00:03<00:00, 53.03it/s]\n",
      "100%|██████████| 200/200 [00:32<00:00,  6.19it/s]\n"
     ]
    },
    {
     "name": "stdout",
     "output_type": "stream",
     "text": [
      "INFO:tensorflow:Restoring parameters from model/cdae_1.ckpt\n"
     ]
    },
    {
     "name": "stderr",
     "output_type": "stream",
     "text": [
      "100%|██████████| 200/200 [00:02<00:00, 75.81it/s]\n"
     ]
    },
    {
     "name": "stdout",
     "output_type": "stream",
     "text": [
      "INFO:tensorflow:Restoring parameters from model/cdae_1.ckpt\n"
     ]
    },
    {
     "name": "stderr",
     "output_type": "stream",
     "text": [
      "100%|██████████| 200/200 [00:03<00:00, 51.73it/s]\n"
     ]
    },
    {
     "name": "stdout",
     "output_type": "stream",
     "text": [
      "INFO:tensorflow:Restoring parameters from model/cdae_1.ckpt\n"
     ]
    },
    {
     "name": "stderr",
     "output_type": "stream",
     "text": [
      "100%|██████████| 200/200 [00:02<00:00, 71.45it/s]\n"
     ]
    },
    {
     "name": "stdout",
     "output_type": "stream",
     "text": [
      "INFO:tensorflow:Restoring parameters from model/cdae_1.ckpt\n"
     ]
    },
    {
     "name": "stderr",
     "output_type": "stream",
     "text": [
      "100%|██████████| 200/200 [00:02<00:00, 67.30it/s]\n"
     ]
    },
    {
     "name": "stdout",
     "output_type": "stream",
     "text": [
      "INFO:tensorflow:Restoring parameters from model/cdae_1.ckpt\n"
     ]
    },
    {
     "name": "stderr",
     "output_type": "stream",
     "text": [
      "100%|██████████| 200/200 [00:04<00:00, 41.42it/s]\n"
     ]
    },
    {
     "name": "stdout",
     "output_type": "stream",
     "text": [
      "INFO:tensorflow:Restoring parameters from model/cdae_1.ckpt\n"
     ]
    },
    {
     "name": "stderr",
     "output_type": "stream",
     "text": [
      "100%|██████████| 200/200 [00:04<00:00, 47.48it/s]\n"
     ]
    },
    {
     "name": "stdout",
     "output_type": "stream",
     "text": [
      "INFO:tensorflow:Restoring parameters from model/cdae_1.ckpt\n"
     ]
    },
    {
     "name": "stderr",
     "output_type": "stream",
     "text": [
      "100%|██████████| 200/200 [00:03<00:00, 64.45it/s]\n"
     ]
    },
    {
     "name": "stdout",
     "output_type": "stream",
     "text": [
      "INFO:tensorflow:Restoring parameters from model/cdae_1.ckpt\n"
     ]
    },
    {
     "name": "stderr",
     "output_type": "stream",
     "text": [
      "100%|██████████| 200/200 [00:03<00:00, 64.38it/s]\n"
     ]
    },
    {
     "name": "stdout",
     "output_type": "stream",
     "text": [
      "INFO:tensorflow:Restoring parameters from model/cdae_1.ckpt\n"
     ]
    },
    {
     "name": "stderr",
     "output_type": "stream",
     "text": [
      "100%|██████████| 200/200 [00:03<00:00, 51.90it/s]\n"
     ]
    },
    {
     "name": "stdout",
     "output_type": "stream",
     "text": [
      "INFO:tensorflow:Restoring parameters from model/cdae_1.ckpt\n"
     ]
    },
    {
     "name": "stderr",
     "output_type": "stream",
     "text": [
      "100%|██████████| 200/200 [00:04<00:00, 41.55it/s]\n",
      "100%|██████████| 200/200 [00:32<00:00,  6.17it/s]\n"
     ]
    },
    {
     "name": "stdout",
     "output_type": "stream",
     "text": [
      "INFO:tensorflow:Restoring parameters from model/cdae_1.ckpt\n"
     ]
    },
    {
     "name": "stderr",
     "output_type": "stream",
     "text": [
      "100%|██████████| 200/200 [00:03<00:00, 54.90it/s]\n"
     ]
    },
    {
     "name": "stdout",
     "output_type": "stream",
     "text": [
      "INFO:tensorflow:Restoring parameters from model/cdae_1.ckpt\n"
     ]
    },
    {
     "name": "stderr",
     "output_type": "stream",
     "text": [
      "100%|██████████| 200/200 [00:03<00:00, 60.15it/s]\n"
     ]
    },
    {
     "name": "stdout",
     "output_type": "stream",
     "text": [
      "INFO:tensorflow:Restoring parameters from model/cdae_1.ckpt\n"
     ]
    },
    {
     "name": "stderr",
     "output_type": "stream",
     "text": [
      "100%|██████████| 200/200 [00:04<00:00, 44.13it/s]\n"
     ]
    },
    {
     "name": "stdout",
     "output_type": "stream",
     "text": [
      "INFO:tensorflow:Restoring parameters from model/cdae_1.ckpt\n"
     ]
    },
    {
     "name": "stderr",
     "output_type": "stream",
     "text": [
      "100%|██████████| 200/200 [00:03<00:00, 59.96it/s]\n"
     ]
    },
    {
     "name": "stdout",
     "output_type": "stream",
     "text": [
      "INFO:tensorflow:Restoring parameters from model/cdae_1.ckpt\n"
     ]
    },
    {
     "name": "stderr",
     "output_type": "stream",
     "text": [
      "100%|██████████| 200/200 [00:03<00:00, 62.96it/s]\n"
     ]
    },
    {
     "name": "stdout",
     "output_type": "stream",
     "text": [
      "INFO:tensorflow:Restoring parameters from model/cdae_1.ckpt\n"
     ]
    },
    {
     "name": "stderr",
     "output_type": "stream",
     "text": [
      "100%|██████████| 200/200 [00:02<00:00, 88.92it/s]\n"
     ]
    },
    {
     "name": "stdout",
     "output_type": "stream",
     "text": [
      "INFO:tensorflow:Restoring parameters from model/cdae_1.ckpt\n"
     ]
    },
    {
     "name": "stderr",
     "output_type": "stream",
     "text": [
      "100%|██████████| 200/200 [00:03<00:00, 63.69it/s]\n"
     ]
    },
    {
     "name": "stdout",
     "output_type": "stream",
     "text": [
      "INFO:tensorflow:Restoring parameters from model/cdae_1.ckpt\n"
     ]
    },
    {
     "name": "stderr",
     "output_type": "stream",
     "text": [
      "100%|██████████| 200/200 [00:03<00:00, 54.73it/s]\n"
     ]
    },
    {
     "name": "stdout",
     "output_type": "stream",
     "text": [
      "INFO:tensorflow:Restoring parameters from model/cdae_1.ckpt\n"
     ]
    },
    {
     "name": "stderr",
     "output_type": "stream",
     "text": [
      "100%|██████████| 200/200 [00:05<00:00, 36.99it/s]\n"
     ]
    },
    {
     "name": "stdout",
     "output_type": "stream",
     "text": [
      "INFO:tensorflow:Restoring parameters from model/cdae_1.ckpt\n"
     ]
    },
    {
     "name": "stderr",
     "output_type": "stream",
     "text": [
      "100%|██████████| 200/200 [00:03<00:00, 51.22it/s]\n",
      "100%|██████████| 200/200 [00:36<00:00,  5.49it/s]\n"
     ]
    },
    {
     "name": "stdout",
     "output_type": "stream",
     "text": [
      "INFO:tensorflow:Restoring parameters from model/cdae_1.ckpt\n"
     ]
    },
    {
     "name": "stderr",
     "output_type": "stream",
     "text": [
      "100%|██████████| 200/200 [00:03<00:00, 52.27it/s]\n"
     ]
    },
    {
     "name": "stdout",
     "output_type": "stream",
     "text": [
      "INFO:tensorflow:Restoring parameters from model/cdae_1.ckpt\n"
     ]
    },
    {
     "name": "stderr",
     "output_type": "stream",
     "text": [
      "100%|██████████| 200/200 [00:05<00:00, 39.36it/s]\n"
     ]
    },
    {
     "name": "stdout",
     "output_type": "stream",
     "text": [
      "INFO:tensorflow:Restoring parameters from model/cdae_1.ckpt\n"
     ]
    },
    {
     "name": "stderr",
     "output_type": "stream",
     "text": [
      "100%|██████████| 200/200 [00:02<00:00, 76.67it/s]\n"
     ]
    },
    {
     "name": "stdout",
     "output_type": "stream",
     "text": [
      "INFO:tensorflow:Restoring parameters from model/cdae_1.ckpt\n"
     ]
    },
    {
     "name": "stderr",
     "output_type": "stream",
     "text": [
      "100%|██████████| 200/200 [00:02<00:00, 67.54it/s]\n"
     ]
    },
    {
     "name": "stdout",
     "output_type": "stream",
     "text": [
      "INFO:tensorflow:Restoring parameters from model/cdae_1.ckpt\n"
     ]
    },
    {
     "name": "stderr",
     "output_type": "stream",
     "text": [
      "100%|██████████| 200/200 [00:03<00:00, 56.59it/s]\n"
     ]
    },
    {
     "name": "stdout",
     "output_type": "stream",
     "text": [
      "INFO:tensorflow:Restoring parameters from model/cdae_1.ckpt\n"
     ]
    },
    {
     "name": "stderr",
     "output_type": "stream",
     "text": [
      "100%|██████████| 200/200 [00:04<00:00, 42.60it/s]\n"
     ]
    },
    {
     "name": "stdout",
     "output_type": "stream",
     "text": [
      "INFO:tensorflow:Restoring parameters from model/cdae_1.ckpt\n"
     ]
    },
    {
     "name": "stderr",
     "output_type": "stream",
     "text": [
      "100%|██████████| 200/200 [00:03<00:00, 50.24it/s]\n"
     ]
    },
    {
     "name": "stdout",
     "output_type": "stream",
     "text": [
      "INFO:tensorflow:Restoring parameters from model/cdae_1.ckpt\n"
     ]
    },
    {
     "name": "stderr",
     "output_type": "stream",
     "text": [
      "100%|██████████| 200/200 [00:04<00:00, 45.94it/s]\n"
     ]
    },
    {
     "name": "stdout",
     "output_type": "stream",
     "text": [
      "INFO:tensorflow:Restoring parameters from model/cdae_1.ckpt\n"
     ]
    },
    {
     "name": "stderr",
     "output_type": "stream",
     "text": [
      "100%|██████████| 200/200 [00:04<00:00, 42.87it/s]\n"
     ]
    },
    {
     "name": "stdout",
     "output_type": "stream",
     "text": [
      "INFO:tensorflow:Restoring parameters from model/cdae_1.ckpt\n"
     ]
    },
    {
     "name": "stderr",
     "output_type": "stream",
     "text": [
      "100%|██████████| 200/200 [00:05<00:00, 39.62it/s]\n",
      "100%|██████████| 200/200 [00:38<00:00,  5.16it/s]\n"
     ]
    },
    {
     "name": "stdout",
     "output_type": "stream",
     "text": [
      "INFO:tensorflow:Restoring parameters from model/cdae_1.ckpt\n"
     ]
    },
    {
     "name": "stderr",
     "output_type": "stream",
     "text": [
      "100%|██████████| 200/200 [00:03<00:00, 57.12it/s]\n"
     ]
    },
    {
     "name": "stdout",
     "output_type": "stream",
     "text": [
      "INFO:tensorflow:Restoring parameters from model/cdae_1.ckpt\n"
     ]
    },
    {
     "name": "stderr",
     "output_type": "stream",
     "text": [
      "100%|██████████| 200/200 [00:04<00:00, 46.25it/s]\n"
     ]
    },
    {
     "name": "stdout",
     "output_type": "stream",
     "text": [
      "INFO:tensorflow:Restoring parameters from model/cdae_1.ckpt\n"
     ]
    },
    {
     "name": "stderr",
     "output_type": "stream",
     "text": [
      "100%|██████████| 200/200 [00:04<00:00, 46.25it/s]\n"
     ]
    },
    {
     "name": "stdout",
     "output_type": "stream",
     "text": [
      "INFO:tensorflow:Restoring parameters from model/cdae_1.ckpt\n"
     ]
    },
    {
     "name": "stderr",
     "output_type": "stream",
     "text": [
      "100%|██████████| 200/200 [00:06<00:00, 28.63it/s]\n"
     ]
    },
    {
     "name": "stdout",
     "output_type": "stream",
     "text": [
      "INFO:tensorflow:Restoring parameters from model/cdae_1.ckpt\n"
     ]
    },
    {
     "name": "stderr",
     "output_type": "stream",
     "text": [
      "100%|██████████| 200/200 [00:05<00:00, 38.05it/s]\n"
     ]
    },
    {
     "name": "stdout",
     "output_type": "stream",
     "text": [
      "INFO:tensorflow:Restoring parameters from model/cdae_1.ckpt\n"
     ]
    },
    {
     "name": "stderr",
     "output_type": "stream",
     "text": [
      "100%|██████████| 200/200 [00:03<00:00, 54.94it/s]\n"
     ]
    },
    {
     "name": "stdout",
     "output_type": "stream",
     "text": [
      "INFO:tensorflow:Restoring parameters from model/cdae_1.ckpt\n"
     ]
    },
    {
     "name": "stderr",
     "output_type": "stream",
     "text": [
      "100%|██████████| 200/200 [00:03<00:00, 59.93it/s]\n"
     ]
    },
    {
     "name": "stdout",
     "output_type": "stream",
     "text": [
      "INFO:tensorflow:Restoring parameters from model/cdae_1.ckpt\n"
     ]
    },
    {
     "name": "stderr",
     "output_type": "stream",
     "text": [
      "100%|██████████| 200/200 [00:04<00:00, 43.92it/s]\n"
     ]
    },
    {
     "name": "stdout",
     "output_type": "stream",
     "text": [
      "INFO:tensorflow:Restoring parameters from model/cdae_1.ckpt\n"
     ]
    },
    {
     "name": "stderr",
     "output_type": "stream",
     "text": [
      "100%|██████████| 200/200 [00:03<00:00, 52.15it/s]\n"
     ]
    },
    {
     "name": "stdout",
     "output_type": "stream",
     "text": [
      "INFO:tensorflow:Restoring parameters from model/cdae_1.ckpt\n"
     ]
    },
    {
     "name": "stderr",
     "output_type": "stream",
     "text": [
      "100%|██████████| 200/200 [00:04<00:00, 46.59it/s]\n",
      "100%|██████████| 200/200 [00:43<00:00,  4.57it/s]\n"
     ]
    },
    {
     "name": "stdout",
     "output_type": "stream",
     "text": [
      "INFO:tensorflow:Restoring parameters from model/cdae_1.ckpt\n"
     ]
    },
    {
     "name": "stderr",
     "output_type": "stream",
     "text": [
      "100%|██████████| 200/200 [00:05<00:00, 36.19it/s]\n"
     ]
    },
    {
     "name": "stdout",
     "output_type": "stream",
     "text": [
      "INFO:tensorflow:Restoring parameters from model/cdae_1.ckpt\n"
     ]
    },
    {
     "name": "stderr",
     "output_type": "stream",
     "text": [
      "100%|██████████| 200/200 [00:05<00:00, 38.01it/s]\n"
     ]
    },
    {
     "name": "stdout",
     "output_type": "stream",
     "text": [
      "INFO:tensorflow:Restoring parameters from model/cdae_1.ckpt\n"
     ]
    },
    {
     "name": "stderr",
     "output_type": "stream",
     "text": [
      "100%|██████████| 200/200 [00:04<00:00, 41.63it/s]\n"
     ]
    },
    {
     "name": "stdout",
     "output_type": "stream",
     "text": [
      "INFO:tensorflow:Restoring parameters from model/cdae_1.ckpt\n"
     ]
    },
    {
     "name": "stderr",
     "output_type": "stream",
     "text": [
      "100%|██████████| 200/200 [00:04<00:00, 42.17it/s]\n"
     ]
    },
    {
     "name": "stdout",
     "output_type": "stream",
     "text": [
      "INFO:tensorflow:Restoring parameters from model/cdae_1.ckpt\n"
     ]
    },
    {
     "name": "stderr",
     "output_type": "stream",
     "text": [
      "100%|██████████| 200/200 [00:05<00:00, 37.16it/s]\n"
     ]
    },
    {
     "name": "stdout",
     "output_type": "stream",
     "text": [
      "INFO:tensorflow:Restoring parameters from model/cdae_1.ckpt\n"
     ]
    },
    {
     "name": "stderr",
     "output_type": "stream",
     "text": [
      "100%|██████████| 200/200 [00:06<00:00, 32.69it/s]\n"
     ]
    },
    {
     "name": "stdout",
     "output_type": "stream",
     "text": [
      "INFO:tensorflow:Restoring parameters from model/cdae_1.ckpt\n"
     ]
    },
    {
     "name": "stderr",
     "output_type": "stream",
     "text": [
      "100%|██████████| 200/200 [00:05<00:00, 38.13it/s]\n"
     ]
    },
    {
     "name": "stdout",
     "output_type": "stream",
     "text": [
      "INFO:tensorflow:Restoring parameters from model/cdae_1.ckpt\n"
     ]
    },
    {
     "name": "stderr",
     "output_type": "stream",
     "text": [
      "100%|██████████| 200/200 [00:04<00:00, 44.42it/s]\n"
     ]
    },
    {
     "name": "stdout",
     "output_type": "stream",
     "text": [
      "INFO:tensorflow:Restoring parameters from model/cdae_1.ckpt\n"
     ]
    },
    {
     "name": "stderr",
     "output_type": "stream",
     "text": [
      "100%|██████████| 200/200 [00:04<00:00, 49.78it/s]\n"
     ]
    },
    {
     "name": "stdout",
     "output_type": "stream",
     "text": [
      "INFO:tensorflow:Restoring parameters from model/cdae_1.ckpt\n"
     ]
    },
    {
     "name": "stderr",
     "output_type": "stream",
     "text": [
      "100%|██████████| 200/200 [00:03<00:00, 57.12it/s]\n",
      "100%|██████████| 200/200 [00:44<00:00,  4.45it/s]\n"
     ]
    },
    {
     "name": "stdout",
     "output_type": "stream",
     "text": [
      "INFO:tensorflow:Restoring parameters from model/cdae_1.ckpt\n"
     ]
    },
    {
     "name": "stderr",
     "output_type": "stream",
     "text": [
      "100%|██████████| 200/200 [00:01<00:00, 159.17it/s]\n"
     ]
    },
    {
     "name": "stdout",
     "output_type": "stream",
     "text": [
      "INFO:tensorflow:Restoring parameters from model/cdae_1.ckpt\n"
     ]
    },
    {
     "name": "stderr",
     "output_type": "stream",
     "text": [
      "100%|██████████| 200/200 [00:05<00:00, 34.04it/s]\n"
     ]
    },
    {
     "name": "stdout",
     "output_type": "stream",
     "text": [
      "INFO:tensorflow:Restoring parameters from model/cdae_1.ckpt\n"
     ]
    },
    {
     "name": "stderr",
     "output_type": "stream",
     "text": [
      "100%|██████████| 200/200 [00:05<00:00, 39.14it/s]\n"
     ]
    },
    {
     "name": "stdout",
     "output_type": "stream",
     "text": [
      "INFO:tensorflow:Restoring parameters from model/cdae_1.ckpt\n"
     ]
    },
    {
     "name": "stderr",
     "output_type": "stream",
     "text": [
      "100%|██████████| 200/200 [00:04<00:00, 44.53it/s]\n"
     ]
    },
    {
     "name": "stdout",
     "output_type": "stream",
     "text": [
      "INFO:tensorflow:Restoring parameters from model/cdae_1.ckpt\n"
     ]
    },
    {
     "name": "stderr",
     "output_type": "stream",
     "text": [
      "100%|██████████| 200/200 [00:08<00:00, 24.81it/s]\n"
     ]
    },
    {
     "name": "stdout",
     "output_type": "stream",
     "text": [
      "INFO:tensorflow:Restoring parameters from model/cdae_1.ckpt\n"
     ]
    },
    {
     "name": "stderr",
     "output_type": "stream",
     "text": [
      "100%|██████████| 200/200 [00:06<00:00, 31.33it/s]\n"
     ]
    },
    {
     "name": "stdout",
     "output_type": "stream",
     "text": [
      "INFO:tensorflow:Restoring parameters from model/cdae_1.ckpt\n"
     ]
    },
    {
     "name": "stderr",
     "output_type": "stream",
     "text": [
      "100%|██████████| 200/200 [00:04<00:00, 45.42it/s]\n"
     ]
    },
    {
     "name": "stdout",
     "output_type": "stream",
     "text": [
      "INFO:tensorflow:Restoring parameters from model/cdae_1.ckpt\n"
     ]
    },
    {
     "name": "stderr",
     "output_type": "stream",
     "text": [
      "100%|██████████| 200/200 [00:05<00:00, 37.23it/s]\n"
     ]
    },
    {
     "name": "stdout",
     "output_type": "stream",
     "text": [
      "INFO:tensorflow:Restoring parameters from model/cdae_1.ckpt\n"
     ]
    },
    {
     "name": "stderr",
     "output_type": "stream",
     "text": [
      "100%|██████████| 200/200 [00:06<00:00, 32.97it/s]\n"
     ]
    },
    {
     "name": "stdout",
     "output_type": "stream",
     "text": [
      "INFO:tensorflow:Restoring parameters from model/cdae_1.ckpt\n"
     ]
    },
    {
     "name": "stderr",
     "output_type": "stream",
     "text": [
      "100%|██████████| 200/200 [00:03<00:00, 50.03it/s]\n",
      "100%|██████████| 200/200 [00:46<00:00,  4.29it/s]\n"
     ]
    },
    {
     "name": "stdout",
     "output_type": "stream",
     "text": [
      "INFO:tensorflow:Restoring parameters from model/cdae_1.ckpt\n"
     ]
    },
    {
     "name": "stderr",
     "output_type": "stream",
     "text": [
      "100%|██████████| 200/200 [00:05<00:00, 39.12it/s]\n"
     ]
    },
    {
     "name": "stdout",
     "output_type": "stream",
     "text": [
      "INFO:tensorflow:Restoring parameters from model/cdae_1.ckpt\n"
     ]
    },
    {
     "name": "stderr",
     "output_type": "stream",
     "text": [
      "100%|██████████| 200/200 [00:08<00:00, 24.44it/s]\n"
     ]
    },
    {
     "name": "stdout",
     "output_type": "stream",
     "text": [
      "INFO:tensorflow:Restoring parameters from model/cdae_1.ckpt\n"
     ]
    },
    {
     "name": "stderr",
     "output_type": "stream",
     "text": [
      "100%|██████████| 200/200 [00:06<00:00, 28.82it/s]\n"
     ]
    },
    {
     "name": "stdout",
     "output_type": "stream",
     "text": [
      "INFO:tensorflow:Restoring parameters from model/cdae_1.ckpt\n"
     ]
    },
    {
     "name": "stderr",
     "output_type": "stream",
     "text": [
      "100%|██████████| 200/200 [00:05<00:00, 33.93it/s]\n"
     ]
    },
    {
     "name": "stdout",
     "output_type": "stream",
     "text": [
      "INFO:tensorflow:Restoring parameters from model/cdae_1.ckpt\n"
     ]
    },
    {
     "name": "stderr",
     "output_type": "stream",
     "text": [
      "100%|██████████| 200/200 [00:05<00:00, 33.55it/s]\n"
     ]
    },
    {
     "name": "stdout",
     "output_type": "stream",
     "text": [
      "INFO:tensorflow:Restoring parameters from model/cdae_1.ckpt\n"
     ]
    },
    {
     "name": "stderr",
     "output_type": "stream",
     "text": [
      "100%|██████████| 200/200 [00:05<00:00, 35.48it/s]\n"
     ]
    },
    {
     "name": "stdout",
     "output_type": "stream",
     "text": [
      "INFO:tensorflow:Restoring parameters from model/cdae_1.ckpt\n"
     ]
    },
    {
     "name": "stderr",
     "output_type": "stream",
     "text": [
      "100%|██████████| 200/200 [00:04<00:00, 43.83it/s]\n"
     ]
    },
    {
     "name": "stdout",
     "output_type": "stream",
     "text": [
      "INFO:tensorflow:Restoring parameters from model/cdae_1.ckpt\n"
     ]
    },
    {
     "name": "stderr",
     "output_type": "stream",
     "text": [
      "100%|██████████| 200/200 [00:06<00:00, 32.76it/s]\n"
     ]
    },
    {
     "name": "stdout",
     "output_type": "stream",
     "text": [
      "INFO:tensorflow:Restoring parameters from model/cdae_1.ckpt\n"
     ]
    },
    {
     "name": "stderr",
     "output_type": "stream",
     "text": [
      "100%|██████████| 200/200 [00:04<00:00, 47.26it/s]\n"
     ]
    },
    {
     "name": "stdout",
     "output_type": "stream",
     "text": [
      "INFO:tensorflow:Restoring parameters from model/cdae_1.ckpt\n"
     ]
    },
    {
     "name": "stderr",
     "output_type": "stream",
     "text": [
      "100%|██████████| 200/200 [00:05<00:00, 33.63it/s]\n",
      "100%|██████████| 200/200 [00:47<00:00,  4.22it/s]\n"
     ]
    },
    {
     "name": "stdout",
     "output_type": "stream",
     "text": [
      "INFO:tensorflow:Restoring parameters from model/cdae_1.ckpt\n"
     ]
    },
    {
     "name": "stderr",
     "output_type": "stream",
     "text": [
      "100%|██████████| 200/200 [00:06<00:00, 30.93it/s]\n"
     ]
    },
    {
     "name": "stdout",
     "output_type": "stream",
     "text": [
      "INFO:tensorflow:Restoring parameters from model/cdae_1.ckpt\n"
     ]
    },
    {
     "name": "stderr",
     "output_type": "stream",
     "text": [
      "100%|██████████| 200/200 [00:04<00:00, 44.50it/s]\n"
     ]
    },
    {
     "name": "stdout",
     "output_type": "stream",
     "text": [
      "INFO:tensorflow:Restoring parameters from model/cdae_1.ckpt\n"
     ]
    },
    {
     "name": "stderr",
     "output_type": "stream",
     "text": [
      "100%|██████████| 200/200 [00:03<00:00, 52.06it/s]\n"
     ]
    },
    {
     "name": "stdout",
     "output_type": "stream",
     "text": [
      "INFO:tensorflow:Restoring parameters from model/cdae_1.ckpt\n"
     ]
    },
    {
     "name": "stderr",
     "output_type": "stream",
     "text": [
      "100%|██████████| 200/200 [00:06<00:00, 28.76it/s]\n"
     ]
    },
    {
     "name": "stdout",
     "output_type": "stream",
     "text": [
      "INFO:tensorflow:Restoring parameters from model/cdae_1.ckpt\n"
     ]
    },
    {
     "name": "stderr",
     "output_type": "stream",
     "text": [
      "100%|██████████| 200/200 [00:05<00:00, 33.70it/s]\n"
     ]
    },
    {
     "name": "stdout",
     "output_type": "stream",
     "text": [
      "INFO:tensorflow:Restoring parameters from model/cdae_1.ckpt\n"
     ]
    },
    {
     "name": "stderr",
     "output_type": "stream",
     "text": [
      "100%|██████████| 200/200 [00:05<00:00, 38.12it/s]\n"
     ]
    },
    {
     "name": "stdout",
     "output_type": "stream",
     "text": [
      "INFO:tensorflow:Restoring parameters from model/cdae_1.ckpt\n"
     ]
    },
    {
     "name": "stderr",
     "output_type": "stream",
     "text": [
      "100%|██████████| 200/200 [00:06<00:00, 31.10it/s]\n"
     ]
    },
    {
     "name": "stdout",
     "output_type": "stream",
     "text": [
      "INFO:tensorflow:Restoring parameters from model/cdae_1.ckpt\n"
     ]
    },
    {
     "name": "stderr",
     "output_type": "stream",
     "text": [
      "100%|██████████| 200/200 [00:03<00:00, 54.02it/s]\n"
     ]
    },
    {
     "name": "stdout",
     "output_type": "stream",
     "text": [
      "INFO:tensorflow:Restoring parameters from model/cdae_1.ckpt\n"
     ]
    },
    {
     "name": "stderr",
     "output_type": "stream",
     "text": [
      "100%|██████████| 200/200 [00:04<00:00, 43.93it/s]\n"
     ]
    },
    {
     "name": "stdout",
     "output_type": "stream",
     "text": [
      "INFO:tensorflow:Restoring parameters from model/cdae_1.ckpt\n"
     ]
    },
    {
     "name": "stderr",
     "output_type": "stream",
     "text": [
      "100%|██████████| 200/200 [00:05<00:00, 34.06it/s]\n",
      "100%|██████████| 200/200 [00:46<00:00,  4.34it/s]\n"
     ]
    },
    {
     "name": "stdout",
     "output_type": "stream",
     "text": [
      "INFO:tensorflow:Restoring parameters from model/cdae_1.ckpt\n"
     ]
    },
    {
     "name": "stderr",
     "output_type": "stream",
     "text": [
      "100%|██████████| 200/200 [00:04<00:00, 41.18it/s]\n"
     ]
    },
    {
     "name": "stdout",
     "output_type": "stream",
     "text": [
      "INFO:tensorflow:Restoring parameters from model/cdae_1.ckpt\n"
     ]
    },
    {
     "name": "stderr",
     "output_type": "stream",
     "text": [
      "100%|██████████| 200/200 [00:03<00:00, 60.62it/s]\n"
     ]
    },
    {
     "name": "stdout",
     "output_type": "stream",
     "text": [
      "INFO:tensorflow:Restoring parameters from model/cdae_1.ckpt\n"
     ]
    },
    {
     "name": "stderr",
     "output_type": "stream",
     "text": [
      "100%|██████████| 200/200 [00:05<00:00, 33.73it/s]\n"
     ]
    },
    {
     "name": "stdout",
     "output_type": "stream",
     "text": [
      "INFO:tensorflow:Restoring parameters from model/cdae_1.ckpt\n"
     ]
    },
    {
     "name": "stderr",
     "output_type": "stream",
     "text": [
      "100%|██████████| 200/200 [00:04<00:00, 42.45it/s]\n"
     ]
    },
    {
     "name": "stdout",
     "output_type": "stream",
     "text": [
      "INFO:tensorflow:Restoring parameters from model/cdae_1.ckpt\n"
     ]
    },
    {
     "name": "stderr",
     "output_type": "stream",
     "text": [
      "100%|██████████| 200/200 [00:06<00:00, 33.01it/s]\n"
     ]
    },
    {
     "name": "stdout",
     "output_type": "stream",
     "text": [
      "INFO:tensorflow:Restoring parameters from model/cdae_1.ckpt\n"
     ]
    },
    {
     "name": "stderr",
     "output_type": "stream",
     "text": [
      "100%|██████████| 200/200 [00:03<00:00, 54.50it/s]\n"
     ]
    },
    {
     "name": "stdout",
     "output_type": "stream",
     "text": [
      "INFO:tensorflow:Restoring parameters from model/cdae_1.ckpt\n"
     ]
    },
    {
     "name": "stderr",
     "output_type": "stream",
     "text": [
      "100%|██████████| 200/200 [00:05<00:00, 36.96it/s]\n"
     ]
    },
    {
     "name": "stdout",
     "output_type": "stream",
     "text": [
      "INFO:tensorflow:Restoring parameters from model/cdae_1.ckpt\n"
     ]
    },
    {
     "name": "stderr",
     "output_type": "stream",
     "text": [
      "100%|██████████| 200/200 [00:06<00:00, 32.80it/s]\n"
     ]
    },
    {
     "name": "stdout",
     "output_type": "stream",
     "text": [
      "INFO:tensorflow:Restoring parameters from model/cdae_1.ckpt\n"
     ]
    },
    {
     "name": "stderr",
     "output_type": "stream",
     "text": [
      "100%|██████████| 200/200 [00:06<00:00, 33.01it/s]\n"
     ]
    },
    {
     "name": "stdout",
     "output_type": "stream",
     "text": [
      "INFO:tensorflow:Restoring parameters from model/cdae_1.ckpt\n"
     ]
    },
    {
     "name": "stderr",
     "output_type": "stream",
     "text": [
      "100%|██████████| 200/200 [00:05<00:00, 34.26it/s]\n",
      "100%|██████████| 200/200 [00:45<00:00,  4.37it/s]\n"
     ]
    },
    {
     "name": "stdout",
     "output_type": "stream",
     "text": [
      "INFO:tensorflow:Restoring parameters from model/cdae_1.ckpt\n"
     ]
    },
    {
     "name": "stderr",
     "output_type": "stream",
     "text": [
      "100%|██████████| 200/200 [00:04<00:00, 42.57it/s]\n"
     ]
    },
    {
     "name": "stdout",
     "output_type": "stream",
     "text": [
      "INFO:tensorflow:Restoring parameters from model/cdae_1.ckpt\n"
     ]
    },
    {
     "name": "stderr",
     "output_type": "stream",
     "text": [
      "100%|██████████| 200/200 [00:05<00:00, 33.40it/s]\n"
     ]
    },
    {
     "name": "stdout",
     "output_type": "stream",
     "text": [
      "INFO:tensorflow:Restoring parameters from model/cdae_1.ckpt\n"
     ]
    },
    {
     "name": "stderr",
     "output_type": "stream",
     "text": [
      "100%|██████████| 200/200 [00:04<00:00, 43.89it/s]\n"
     ]
    },
    {
     "name": "stdout",
     "output_type": "stream",
     "text": [
      "INFO:tensorflow:Restoring parameters from model/cdae_1.ckpt\n"
     ]
    },
    {
     "name": "stderr",
     "output_type": "stream",
     "text": [
      "100%|██████████| 200/200 [00:05<00:00, 35.87it/s]\n"
     ]
    },
    {
     "name": "stdout",
     "output_type": "stream",
     "text": [
      "INFO:tensorflow:Restoring parameters from model/cdae_1.ckpt\n"
     ]
    },
    {
     "name": "stderr",
     "output_type": "stream",
     "text": [
      "100%|██████████| 200/200 [00:06<00:00, 32.90it/s]\n"
     ]
    },
    {
     "name": "stdout",
     "output_type": "stream",
     "text": [
      "INFO:tensorflow:Restoring parameters from model/cdae_1.ckpt\n"
     ]
    },
    {
     "name": "stderr",
     "output_type": "stream",
     "text": [
      "100%|██████████| 200/200 [00:04<00:00, 45.67it/s]\n"
     ]
    },
    {
     "name": "stdout",
     "output_type": "stream",
     "text": [
      "INFO:tensorflow:Restoring parameters from model/cdae_1.ckpt\n"
     ]
    },
    {
     "name": "stderr",
     "output_type": "stream",
     "text": [
      "100%|██████████| 200/200 [00:06<00:00, 32.66it/s]\n"
     ]
    },
    {
     "name": "stdout",
     "output_type": "stream",
     "text": [
      "INFO:tensorflow:Restoring parameters from model/cdae_1.ckpt\n"
     ]
    },
    {
     "name": "stderr",
     "output_type": "stream",
     "text": [
      "100%|██████████| 200/200 [00:04<00:00, 47.56it/s]\n"
     ]
    },
    {
     "name": "stdout",
     "output_type": "stream",
     "text": [
      "INFO:tensorflow:Restoring parameters from model/cdae_1.ckpt\n"
     ]
    },
    {
     "name": "stderr",
     "output_type": "stream",
     "text": [
      "100%|██████████| 200/200 [00:05<00:00, 33.99it/s]\n"
     ]
    },
    {
     "name": "stdout",
     "output_type": "stream",
     "text": [
      "INFO:tensorflow:Restoring parameters from model/cdae_1.ckpt\n"
     ]
    },
    {
     "name": "stderr",
     "output_type": "stream",
     "text": [
      "100%|██████████| 200/200 [00:04<00:00, 45.31it/s]\n",
      "100%|██████████| 200/200 [00:43<00:00,  4.57it/s]\n"
     ]
    },
    {
     "name": "stdout",
     "output_type": "stream",
     "text": [
      "INFO:tensorflow:Restoring parameters from model/cdae_1.ckpt\n"
     ]
    },
    {
     "name": "stderr",
     "output_type": "stream",
     "text": [
      "100%|██████████| 200/200 [00:07<00:00, 27.68it/s]\n"
     ]
    },
    {
     "name": "stdout",
     "output_type": "stream",
     "text": [
      "INFO:tensorflow:Restoring parameters from model/cdae_1.ckpt\n"
     ]
    },
    {
     "name": "stderr",
     "output_type": "stream",
     "text": [
      "100%|██████████| 200/200 [00:05<00:00, 33.79it/s]\n"
     ]
    },
    {
     "name": "stdout",
     "output_type": "stream",
     "text": [
      "INFO:tensorflow:Restoring parameters from model/cdae_1.ckpt\n"
     ]
    },
    {
     "name": "stderr",
     "output_type": "stream",
     "text": [
      "100%|██████████| 200/200 [00:04<00:00, 44.58it/s]\n"
     ]
    },
    {
     "name": "stdout",
     "output_type": "stream",
     "text": [
      "INFO:tensorflow:Restoring parameters from model/cdae_1.ckpt\n"
     ]
    },
    {
     "name": "stderr",
     "output_type": "stream",
     "text": [
      "100%|██████████| 200/200 [00:05<00:00, 38.39it/s]\n"
     ]
    },
    {
     "name": "stdout",
     "output_type": "stream",
     "text": [
      "INFO:tensorflow:Restoring parameters from model/cdae_1.ckpt\n"
     ]
    },
    {
     "name": "stderr",
     "output_type": "stream",
     "text": [
      "100%|██████████| 200/200 [00:05<00:00, 39.58it/s]\n"
     ]
    },
    {
     "name": "stdout",
     "output_type": "stream",
     "text": [
      "INFO:tensorflow:Restoring parameters from model/cdae_1.ckpt\n"
     ]
    },
    {
     "name": "stderr",
     "output_type": "stream",
     "text": [
      "100%|██████████| 200/200 [00:04<00:00, 48.01it/s]\n"
     ]
    },
    {
     "name": "stdout",
     "output_type": "stream",
     "text": [
      "INFO:tensorflow:Restoring parameters from model/cdae_1.ckpt\n"
     ]
    },
    {
     "name": "stderr",
     "output_type": "stream",
     "text": [
      "100%|██████████| 200/200 [00:02<00:00, 66.82it/s]\n"
     ]
    },
    {
     "name": "stdout",
     "output_type": "stream",
     "text": [
      "INFO:tensorflow:Restoring parameters from model/cdae_1.ckpt\n"
     ]
    },
    {
     "name": "stderr",
     "output_type": "stream",
     "text": [
      "100%|██████████| 200/200 [00:04<00:00, 43.90it/s]\n"
     ]
    },
    {
     "name": "stdout",
     "output_type": "stream",
     "text": [
      "INFO:tensorflow:Restoring parameters from model/cdae_1.ckpt\n"
     ]
    },
    {
     "name": "stderr",
     "output_type": "stream",
     "text": [
      "100%|██████████| 200/200 [00:06<00:00, 33.04it/s]\n"
     ]
    },
    {
     "name": "stdout",
     "output_type": "stream",
     "text": [
      "INFO:tensorflow:Restoring parameters from model/cdae_1.ckpt\n"
     ]
    },
    {
     "name": "stderr",
     "output_type": "stream",
     "text": [
      "100%|██████████| 200/200 [00:03<00:00, 60.41it/s]\n"
     ]
    }
   ],
   "source": [
    "generator = train_test_split(df, user_time_interval)\n",
    "\n",
    "NUM_CLUSTER = 10\n",
    "top_items_list_75 = []\n",
    "top_gt_list_next = []\n",
    "top_gt_list_now = []\n",
    "\n",
    "while True:\n",
    "    try:\n",
    "        df_train, df_test_now, df_test_next = next(generator)\n",
    "\n",
    "        train_data = df_train.as_matrix()\n",
    "        test_data_now = df_test_now.as_matrix()\n",
    "        test_data_next = df_test_next.as_matrix()\n",
    "\n",
    "        user_train_matrix = get_matrix(train_data)\n",
    "        user_test_matrix_now = get_matrix(test_data_now)\n",
    "        user_test_matrix_next = get_matrix(test_data_next)\n",
    "        \n",
    "        train_user = np.nonzero(np.count_nonzero(user_train_matrix, axis=1))[0]\n",
    "        test_user_now = np.nonzero(np.count_nonzero(user_test_matrix_now, axis=1))[0]\n",
    "\n",
    "        # Train at first to get user_vector\n",
    "        tf.reset_default_graph()\n",
    "        autoencoder = AutoEncoder(user_num=total_usr, item_num=total_item, mode='user', loss_function='cross_entropy',\n",
    "                                  batch_size=1, epochs=200)\n",
    "\n",
    "        autoencoder.train_all(rating=user_train_matrix, train_idents=train_user)\n",
    "\n",
    "        autoencoder.model_save(1)\n",
    "        \n",
    "        # Get specify vectors/feature vectors\n",
    "        vector_matrices = autoencoder.sess.run(autoencoder.vector_matrix)\n",
    "        \"\"\"vector_matrices = autoencoder.sess.run(\n",
    "            autoencoder.code,\n",
    "            feed_dict={\n",
    "                autoencoder.input: user_train_matrix,\n",
    "                autoencoder.ident: [x for x in range(total_usr)]\n",
    "            })\"\"\"\n",
    "        exist_vectors = np.take(vector_matrices, train_user, axis=0)\n",
    "        \n",
    "        # Clustering\n",
    "        pca_out = clustering.get_pca_out(exist_vectors)\n",
    "        kmeans = clustering.calculate_kmeans(pca_out, NUM_CLUSTER=NUM_CLUSTER)\n",
    "        \n",
    "        label_index, label_count = clustering.get_cluster_attributes(kmeans, NUM_CLUSTER=NUM_CLUSTER)\n",
    "        \n",
    "        # gether input data\n",
    "        data = {\n",
    "            'TRAIN_MATRIX': user_train_matrix,\n",
    "            'TEST_MATRIX_NOW': user_test_matrix_now,\n",
    "            'TEST_MATRIX_NEXT': user_test_matrix_next,\n",
    "            'TRAIN_USER': train_user,\n",
    "            'TEST_USER_NOW': test_user_now,\n",
    "            'LABEL_INDEX': label_index,\n",
    "        }\n",
    "        \n",
    "        # calculate top_N for each cluster\n",
    "        cluster_top = clustering.calculate_cluster_top(\n",
    "            data,\n",
    "            total_usr,\n",
    "            total_item,\n",
    "            NUM_CLUSTER=NUM_CLUSTER,\n",
    "            batch_size=1)\n",
    "        \n",
    "        # calculate score for top items\n",
    "        score_map = clustering.count_score(cluster_top, label_count, alpha=NUM_CLUSTER)\n",
    "        \n",
    "        # get top items\n",
    "        top_N = clustering.get_score_top(score_map, N=30)\n",
    "        \n",
    "        # gether predict top items\n",
    "        top_items_list_75.append(top_N)\n",
    "        \n",
    "        # gether ground truth items\n",
    "        ground_truth_next = np.count_nonzero(user_test_matrix_next, axis=0).argsort()[::-1][:30]\n",
    "        ground_truth_now = np.count_nonzero(user_test_matrix_now, axis=0).argsort()[::-1][:30]\n",
    "        top_gt_list_next.append(ground_truth_next)\n",
    "        top_gt_list_now.append(ground_truth_now)\n",
    "                \n",
    "    except StopIteration:\n",
    "        break\n",
    "        \n",
    "\n",
    "top_items_list_75 = np.asarray(top_items_list_75)\n",
    "top_gt_list_now = np.asarray(top_gt_list_now)\n",
    "top_gt_list_next = np.asarray(top_gt_list_next)"
   ]
  },
  {
   "cell_type": "code",
   "execution_count": 26,
   "metadata": {
    "collapsed": true
   },
   "outputs": [],
   "source": [
    "hit_ratio_top_30 = []\n",
    "hit_ratio_top_10 = []\n",
    "hit_ratio_top_5 = []\n",
    "avg_precision_top_30 = []\n",
    "avg_precision_top_10 = []\n",
    "avg_precision_top_5 = []\n",
    "\n",
    "for i, j in zip(top_items_list_75, top_gt_list_now):\n",
    "    hit_ratio_top_30.append(hit_recall(i, j, N=30))\n",
    "    hit_ratio_top_10.append(hit_recall(i, j, N=10))\n",
    "    hit_ratio_top_5.append(hit_recall(i, j, N=5))\n",
    "    \n",
    "    k = np.asarray([i])\n",
    "    q = np.asarray([j])\n",
    "    avg_precision_top_30.append(avg_precision(k, q[:, :30], N=30))\n",
    "    avg_precision_top_10.append(avg_precision(k, q[:, :10], N=10))\n",
    "    avg_precision_top_5.append(avg_precision(k, q[:, :5], N=5))\n",
    "    \n",
    "\n",
    "hit_ratio_still_top30 = []\n",
    "hit_ratio_still_top10 = []\n",
    "hit_ratio_still_top5 = []\n",
    "avg_precision_still_30 = []\n",
    "avg_precision_still_10 = []\n",
    "avg_precision_still_5 = []\n",
    "\n",
    "for i, j ,k in zip(top_items_list_75, top_gt_list_now, top_gt_list_next):\n",
    "    still_in_items_30 = []\n",
    "    still_in_items_10 = []\n",
    "    still_in_items_5 = []\n",
    "    \n",
    "    for q in k:\n",
    "        if q in j:\n",
    "            still_in_items_30.append(q)\n",
    "            \n",
    "    for q in k[:10]:\n",
    "        if q in j[:10]:\n",
    "            still_in_items_10.append(q)\n",
    "            \n",
    "    for q in k[:5]:\n",
    "        if q in j[:5]:\n",
    "            still_in_items_5.append(q)\n",
    "            \n",
    "    hit_ratio_still_top30.append(hit_recall(i, still_in_items_30, N=30))\n",
    "    hit_ratio_still_top10.append(hit_recall(i, still_in_items_10, N=10))\n",
    "    hit_ratio_still_top5.append(hit_recall(i, still_in_items_5, N=5))\n",
    "    \n",
    "    x = np.asarray([i])\n",
    "    y_30 = np.asarray([still_in_items_30])\n",
    "    y_10 = np.asarray([still_in_items_10])\n",
    "    y_5 = np.asarray([still_in_items_5])\n",
    "    \n",
    "    avg_precision_still_30.append(avg_precision(x, y_30, N=30))\n",
    "    avg_precision_still_10.append(avg_precision(x, y_10, N=10))\n",
    "    avg_precision_still_5.append(avg_precision(x, y_5, N=5))"
   ]
  },
  {
   "cell_type": "code",
   "execution_count": 27,
   "metadata": {},
   "outputs": [
    {
     "data": {
      "image/png": "[encoded data removed]",
      "text/plain": [
       "<matplotlib.figure.Figure at 0x117e4dac8>"
      ]
     },
     "metadata": {},
     "output_type": "display_data"
    },
    {
     "name": "stdout",
     "output_type": "stream",
     "text": [
      "Hit ratio top 30: 0.719444\n",
      "Hit ratio top 10: 0.758333\n",
      "Hit ratio top 5: 0.750000\n"
     ]
    }
   ],
   "source": [
    "plt.plot(range(len(hit_ratio_top_30)), hit_ratio_top_30, color='blue', label='hit_ratios')\n",
    "plt.legend(loc=\"upper right\")\n",
    "# plt.title(\"Time: %d, Item: %d, mean: %f\" % (i, top_items_list[i][j], top_means_list[i][j][1]))\n",
    "plt.xlabel('Time')\n",
    "plt.ylabel('ratio')\n",
    "plt.title('NOW')\n",
    "plt.show()\n",
    "plt.gcf().clear()\n",
    "print (\"Hit ratio top 30: %f\" % (sum(hit_ratio_top_30)/len(hit_ratio_top_30)))\n",
    "print (\"Hit ratio top 10: %f\" % (sum(hit_ratio_top_10)/len(hit_ratio_top_10)))\n",
    "print (\"Hit ratio top 5: %f\" % (sum(hit_ratio_top_5)/len(hit_ratio_top_5)))"
   ]
  },
  {
   "cell_type": "code",
   "execution_count": 28,
   "metadata": {},
   "outputs": [
    {
     "data": {
      "image/png": "[encoded data removed]",
      "text/plain": [
       "<matplotlib.figure.Figure at 0x117fbadd8>"
      ]
     },
     "metadata": {},
     "output_type": "display_data"
    },
    {
     "name": "stdout",
     "output_type": "stream",
     "text": [
      "Still in hit ratio top 30: 0.860962\n",
      "Still in hit ratio top 10: 0.866567\n",
      "Still in hit ratio top 5: 0.937500\n"
     ]
    }
   ],
   "source": [
    "plt.plot(range(len(hit_ratio_still_top10)), hit_ratio_still_top10, color='blue', label='hit_ratios')\n",
    "plt.legend(loc=\"upper right\")\n",
    "# plt.title(\"Time: %d, Item: %d, mean: %f\" % (i, top_items_list[i][j], top_means_list[i][j][1]))\n",
    "plt.xlabel('Time')\n",
    "plt.ylabel('ratio')\n",
    "plt.title('NEXT')\n",
    "plt.show()\n",
    "plt.gcf().clear()\n",
    "print (\"Still in hit ratio top 30: %f\" % (sum(hit_ratio_still_top30)/len(hit_ratio_still_top30)))\n",
    "print (\"Still in hit ratio top 10: %f\" % (sum(hit_ratio_still_top10)/len(hit_ratio_still_top10)))\n",
    "print (\"Still in hit ratio top 5: %f\" % (sum(hit_ratio_still_top5)/len(hit_ratio_still_top5)))"
   ]
  },
  {
   "cell_type": "code",
   "execution_count": 31,
   "metadata": {},
   "outputs": [
    {
     "name": "stdout",
     "output_type": "stream",
     "text": [
      "Avg. precision top 30: 0.674534\n",
      "Avg. precision top 10: 0.725804\n",
      "Avg. precision top 5: 0.736667\n",
      "\n",
      "Avg.precision still top 30: 0.674101\n",
      "Avg.precision still top 10: 0.786885\n",
      "Avg.precision still top 5: 0.926389\n"
     ]
    }
   ],
   "source": [
    "print (\"Avg. precision top 30: %f\" % (sum(avg_precision_top_30)/len(avg_precision_top_30)))\n",
    "print (\"Avg. precision top 10: %f\" % (sum(avg_precision_top_10)/len(avg_precision_top_10)))\n",
    "print (\"Avg. precision top 5: %f\" % (sum(avg_precision_top_5)/len(avg_precision_top_5)))\n",
    "print ()\n",
    "print (\"Avg.precision still top 30: %f\" % (sum(avg_precision_still_30)/len(avg_precision_still_30)))\n",
    "print (\"Avg.precision still top 10: %f\" % (sum(avg_precision_still_10)/len(avg_precision_still_10)))\n",
    "print (\"Avg.precision still top 5: %f\" % (sum(avg_precision_still_5)/len(avg_precision_still_5)))"
   ]
  },
  {
   "cell_type": "markdown",
   "metadata": {},
   "source": [
    "# Old"
   ]
  },
  {
   "cell_type": "markdown",
   "metadata": {},
   "source": [
    "# Still in ratio"
   ]
  },
  {
   "cell_type": "code",
   "execution_count": 32,
   "metadata": {},
   "outputs": [],
   "source": [
    "generator = train_test_split(df, user_time_interval, split_rate=0.5)\n",
    "\n",
    "still_in_ratio = []\n",
    "while True:\n",
    "    try:\n",
    "        df_train, df_test_1, df_test_2 = next(generator)\n",
    "        \n",
    "        test_data_1 = df_test_1.as_matrix()\n",
    "        test_data_2 = df_test_2.as_matrix()\n",
    "        user_test_matrix_1 = get_matrix(test_data_1)\n",
    "        user_test_matrix_2 = get_matrix(test_data_2)\n",
    "        \n",
    "\n",
    "        ground_truth_next = np.count_nonzero(user_test_matrix_2, axis=0).argsort()[::-1][:30]\n",
    "        ground_truth_now = np.count_nonzero(user_test_matrix_1, axis=0).argsort()[::-1][:30]\n",
    "        \n",
    "        still_in = hit_recall(ground_truth_next, ground_truth_now, N=30)\n",
    "        \n",
    "        still_in_ratio.append(still_in)\n",
    "        \n",
    "    except StopIteration:\n",
    "        break"
   ]
  },
  {
   "cell_type": "code",
   "execution_count": 33,
   "metadata": {},
   "outputs": [
    {
     "data": {
      "image/png": "[encoded data removed]",
      "text/plain": [
       "<matplotlib.figure.Figure at 0x117e5a400>"
      ]
     },
     "metadata": {},
     "output_type": "display_data"
    },
    {
     "name": "stdout",
     "output_type": "stream",
     "text": [
      "0.47777777777777786\n"
     ]
    }
   ],
   "source": [
    "plt.plot(range(len(still_in_ratio)), still_in_ratio, color='blue', label='still_in_ratio')\n",
    "plt.legend(loc=\"upper right\")\n",
    "plt.title(\"Netflix_top_30_still_in_ratio\")\n",
    "plt.xlabel('Users')\n",
    "plt.ylabel('score')\n",
    "plt.savefig(\"./prediction_weekly/Netflix_still_in_top_30.jpg\")\n",
    "plt.show()\n",
    "plt.gcf().clear()\n",
    "\n",
    "print (sum(still_in_ratio)/len(still_in_ratio))"
   ]
  },
  {
   "cell_type": "markdown",
   "metadata": {},
   "source": [
    "## Train"
   ]
  },
  {
   "cell_type": "code",
   "execution_count": 34,
   "metadata": {},
   "outputs": [
    {
     "name": "stderr",
     "output_type": "stream",
     "text": [
      "100%|██████████| 200/200 [00:29<00:00,  6.74it/s]\n",
      "100%|██████████| 200/200 [00:32<00:00,  6.17it/s]\n",
      "100%|██████████| 200/200 [00:32<00:00,  6.18it/s]\n",
      "100%|██████████| 200/200 [00:36<00:00,  5.52it/s]\n",
      "100%|██████████| 200/200 [00:39<00:00,  5.03it/s]\n",
      "100%|██████████| 200/200 [00:43<00:00,  4.59it/s]\n",
      "100%|██████████| 200/200 [00:45<00:00,  4.41it/s]\n",
      "100%|██████████| 200/200 [00:47<00:00,  4.24it/s]\n",
      "100%|██████████| 200/200 [00:47<00:00,  4.17it/s]\n",
      "100%|██████████| 200/200 [00:46<00:00,  4.30it/s]\n",
      "100%|██████████| 200/200 [00:45<00:00,  4.36it/s]\n",
      "100%|██████████| 200/200 [00:43<00:00,  4.58it/s]\n"
     ]
    }
   ],
   "source": [
    "generator = train_test_split(df, user_time_interval)\n",
    "\n",
    "tf.reset_default_graph()\n",
    "\n",
    "autoencoder = AutoEncoder(user_num=total_usr, item_num=total_item, mode='user', loss_function='cross_entropy',\n",
    "                          batch_size=1, epochs=200)\n",
    "\n",
    "test_out_top = []\n",
    "top_items_list_all = []\n",
    "top_items_list_75 = []\n",
    "top_items_list_85 = []\n",
    "top_means_list = []\n",
    "top_gt_list_next = []\n",
    "top_gt_list_now = []\n",
    "\n",
    "while True:\n",
    "    try:\n",
    "        df_train, df_test_1, df_test_2 = next(generator)\n",
    "\n",
    "        train_data = df_train.as_matrix()\n",
    "        test_data_1 = df_test_1.as_matrix()\n",
    "        test_data_2 = df_test_2.as_matrix()\n",
    "\n",
    "        user_train_matrix = get_matrix(train_data)\n",
    "        user_test_matrix_1 = get_matrix(test_data_1)\n",
    "        user_test_matrix_2 = get_matrix(test_data_2)\n",
    "\n",
    "        train_user = np.nonzero(np.count_nonzero(user_train_matrix, axis=1))[0]\n",
    "        test_user_1 = np.nonzero(np.count_nonzero(user_test_matrix_1, axis=1))[0]\n",
    "\n",
    "        # train_rating, train_indices, test_indices = gen_train_test(user_train_matrix)\n",
    "\n",
    "        autoencoder.train_all(rating=user_train_matrix, train_idents=train_user)\n",
    "\n",
    "        test_out = autoencoder.predict(user_test_matrix_1, test_user_1)\n",
    "        \n",
    "        \"\"\" out data process \"\"\"\n",
    "        # all data mean\n",
    "        test_out_stat_all = np.mean(test_out, axis=0)\n",
    "        \n",
    "        # upper quartile mean\n",
    "        test_out_stat_75 = []\n",
    "        quartile_75 = np.percentile(test_out, 75, axis=0)\n",
    "        for i in range(test_out.shape[1]):\n",
    "            test_out_stat_75.append(np.mean([x for x in test_out.T[i] if x > quartile_75[i]]))\n",
    "        test_out_stat_75 = np.asarray(test_out_stat_75)\n",
    "        \n",
    "        test_out_stat_85 = []\n",
    "        quartile_85 = np.percentile(test_out, 85, axis=0)\n",
    "        for i in range(test_out.shape[1]):\n",
    "            test_out_stat_85.append(np.mean([x for x in test_out.T[i] if x > quartile_85[i]]))\n",
    "        test_out_stat_85 = np.asarray(test_out_stat_85)\n",
    "        \n",
    "        \"\"\"Get top 10\"\"\"\n",
    "        test_out_rank_all = test_out_stat_all.argsort()[::-1][:30]\n",
    "        test_out_rank_75 = test_out_stat_75.argsort()[::-1][:30]\n",
    "        test_out_rank_85 = test_out_stat_85.argsort()[::-1][:30]\n",
    "        ground_truth_next = np.count_nonzero(user_test_matrix_2, axis=0).argsort()[::-1][:30]\n",
    "        ground_truth_now = np.count_nonzero(user_test_matrix_1, axis=0).argsort()[::-1][:30]\n",
    "        \n",
    "        \"\"\"out data collect\"\"\"\n",
    "        top_out = np.take(test_out, test_out_rank_all, axis=1).T\n",
    "        test_out_top.append(top_out)\n",
    "        \n",
    "        top_items_list_all.append(test_out_rank_all)\n",
    "        top_items_list_75.append(test_out_rank_75)\n",
    "        top_items_list_85.append(test_out_rank_85)\n",
    "        top_gt_list_next.append(ground_truth_next)\n",
    "        top_gt_list_now.append(ground_truth_now)\n",
    "        \n",
    "        means = []\n",
    "        for i in test_out_rank_all:\n",
    "            means.append((i, test_out_stat_all[i]))\n",
    "        top_means_list.append(means)\n",
    "        \n",
    "    except StopIteration:\n",
    "        break\n",
    "        \n",
    "top_items_list_all = np.asarray(top_items_list_all)\n",
    "top_items_list_75 = np.asarray(top_items_list_75)\n",
    "top_items_list_85 = np.asarray(top_items_list_85)\n",
    "top_means_list = np.asarray(top_means_list)\n",
    "top_gt_list_now = np.asarray(top_gt_list_now)\n",
    "top_gt_list_next = np.asarray(top_gt_list_next)"
   ]
  },
  {
   "cell_type": "markdown",
   "metadata": {
    "collapsed": true
   },
   "source": [
    "for i in trange(top_means_list.shape[0]):\n",
    "    for j in range(top_means_list.shape[1]):\n",
    "        if top_items_list_all[i][j] in top_gt_list_now[i]:\n",
    "            plt.plot(range(len(test_out_top[i][j])), test_out_top[i][j], color='green', label='pred. scores')\n",
    "            plt.hlines(top_means_list[i][j][1], -5, len(test_out_top[i][j])+5, linestyles='solid', color='blue')\n",
    "            plt.legend(loc=\"upper right\")\n",
    "            plt.title(\"Time: %d, Item: %d, mean: %f\" % (i, top_items_list_all[i][j], top_means_list[i][j][1]))\n",
    "            plt.xlabel('Users')\n",
    "            plt.ylabel('score')\n",
    "            plt.savefig(\"plots_netflix_now/scores_%d_%d.jpg\" % (i, j))\n",
    "        else:\n",
    "            plt.plot(range(len(test_out_top[i][j])), test_out_top[i][j], color='red', label='pred. scores')\n",
    "            plt.hlines(top_means_list[i][j][1], -5, len(test_out_top[i][j])+5, linestyles='solid', color='blue')\n",
    "            plt.legend(loc=\"upper right\")\n",
    "            plt.title(\"Time: %d, Item: %d, mean: %f\" % (i, top_items_list_all[i][j], top_means_list[i][j][1]))\n",
    "            plt.xlabel('Users')\n",
    "            plt.ylabel('score')\n",
    "            plt.savefig(\"plots_netflix_now/scores_%d_%d.jpg\" % (i, j))\n",
    "        plt.show()\n",
    "        plt.gcf().clear()"
   ]
  },
  {
   "cell_type": "markdown",
   "metadata": {},
   "source": [
    "# ITRI"
   ]
  },
  {
   "cell_type": "code",
   "execution_count": 35,
   "metadata": {},
   "outputs": [],
   "source": [
    "hit_ratio_top_30 = []\n",
    "hit_ratio_top_10 = []\n",
    "hit_ratio_top_5 = []\n",
    "avg_precision_top_30 = []\n",
    "avg_precision_top_10 = []\n",
    "avg_precision_top_5 = []\n",
    "\n",
    "for i, j in zip(top_items_list_75, top_gt_list_now):\n",
    "    \n",
    "    hit_ratio_top_30.append(hit_recall(i, j, N=30))\n",
    "    hit_ratio_top_10.append(hit_recall(i, j, N=10))\n",
    "    hit_ratio_top_5.append(hit_recall(i, j, N=5)) \n",
    "    \n",
    "    k = np.asarray([i])\n",
    "    q = np.asarray([j])\n",
    "    avg_precision_top_30.append(avg_precision(k, q[:, :30], N=30))\n",
    "    avg_precision_top_10.append(avg_precision(k, q[:, :10], N=10))\n",
    "    avg_precision_top_5.append(avg_precision(k, q[:, :5], N=5))"
   ]
  },
  {
   "cell_type": "code",
   "execution_count": 36,
   "metadata": {},
   "outputs": [],
   "source": [
    "hit_ratio_still_top30 = []\n",
    "hit_ratio_still_top10 = []\n",
    "hit_ratio_still_top5 = []\n",
    "avg_precision_still_30 = []\n",
    "avg_precision_still_10 = []\n",
    "avg_precision_still_5 = []\n",
    "\n",
    "for i, j ,k in zip(top_items_list_75, top_gt_list_now, top_gt_list_next):\n",
    "    still_in_items_30 = []\n",
    "    still_in_items_10 = []\n",
    "    still_in_items_5 = []\n",
    "    \n",
    "    f = np.asarray([i])\n",
    "    \n",
    "    for q in k:\n",
    "        if q in j:\n",
    "            still_in_items_30.append(q)\n",
    "            \n",
    "    for q in k[:10]:\n",
    "        if q in j[:10]:\n",
    "            still_in_items_10.append(q)\n",
    "            \n",
    "    for q in k[:5]:\n",
    "        if q in j[:5]:\n",
    "            still_in_items_5.append(q)\n",
    "            \n",
    "    hit_ratio_still_top30.append(hit_recall(i, still_in_items_30, N=30))\n",
    "    hit_ratio_still_top10.append(hit_recall(i, still_in_items_10, N =10))\n",
    "    hit_ratio_still_top5.append(hit_recall(i, still_in_items_5, N=5))\n",
    "    \n",
    "    x = np.asarray([i])\n",
    "    y_30 = np.asarray([still_in_items_30])\n",
    "    y_10 = np.asarray([still_in_items_10])\n",
    "    y_5 = np.asarray([still_in_items_5])\n",
    "    \n",
    "    avg_precision_still_30.append(avg_precision(x, y_30, N=30))\n",
    "    avg_precision_still_10.append(avg_precision(x, y_10, N=10))\n",
    "    avg_precision_still_5.append(avg_precision(x, y_5, N=5))"
   ]
  },
  {
   "cell_type": "markdown",
   "metadata": {},
   "source": [
    "## upper quartile mean"
   ]
  },
  {
   "cell_type": "code",
   "execution_count": 37,
   "metadata": {
    "scrolled": true
   },
   "outputs": [
    {
     "data": {
      "image/png": "[encoded data removed]",
      "text/plain": [
       "<matplotlib.figure.Figure at 0x1195b7e48>"
      ]
     },
     "metadata": {},
     "output_type": "display_data"
    },
    {
     "name": "stdout",
     "output_type": "stream",
     "text": [
      "Hit ratio top 30: 0.741667\n",
      "Hit ratio top 10: 0.766667\n",
      "Hit ratio top 5: 0.783333\n"
     ]
    }
   ],
   "source": [
    "plt.plot(range(len(hit_ratio_top_10)), hit_ratio_top_10, color='blue', label='hit_ratios')\n",
    "plt.legend(loc=\"upper right\")\n",
    "# plt.title(\"Time: %d, Item: %d, mean: %f\" % (i, top_items_list[i][j], top_means_list[i][j][1]))\n",
    "plt.xlabel('Time')\n",
    "plt.ylabel('ratio')\n",
    "plt.title('NOW')\n",
    "plt.show()\n",
    "plt.gcf().clear()\n",
    "print (\"Hit ratio top 30: %f\" % (sum(hit_ratio_top_30)/len(hit_ratio_top_30)))\n",
    "print (\"Hit ratio top 10: %f\" % (sum(hit_ratio_top_10)/len(hit_ratio_top_10)))\n",
    "print (\"Hit ratio top 5: %f\" % (sum(hit_ratio_top_5)/len(hit_ratio_top_5)))"
   ]
  },
  {
   "cell_type": "code",
   "execution_count": 38,
   "metadata": {
    "scrolled": true
   },
   "outputs": [
    {
     "data": {
      "image/png": "[encoded data removed]",
      "text/plain": [
       "<matplotlib.figure.Figure at 0x1197fd748>"
      ]
     },
     "metadata": {},
     "output_type": "display_data"
    },
    {
     "name": "stdout",
     "output_type": "stream",
     "text": [
      "Still in hit ratio top 30: 0.893472\n",
      "Still in hit ratio top 10: 0.880456\n",
      "Still in hit ratio top 5: 0.937500\n"
     ]
    }
   ],
   "source": [
    "plt.plot(range(len(hit_ratio_still_top10)), hit_ratio_still_top10, color='blue', label='hit_ratios')\n",
    "plt.legend(loc=\"upper right\")\n",
    "# plt.title(\"Time: %d, Item: %d, mean: %f\" % (i, top_items_list[i][j], top_means_list[i][j][1]))\n",
    "plt.xlabel('Time')\n",
    "plt.ylabel('ratio')\n",
    "plt.title('NEXT')\n",
    "plt.show()\n",
    "plt.gcf().clear()\n",
    "print (\"Still in hit ratio top 30: %f\" % (sum(hit_ratio_still_top30)/len(hit_ratio_still_top30)))\n",
    "print (\"Still in hit ratio top 10: %f\" % (sum(hit_ratio_still_top10)/len(hit_ratio_still_top10)))\n",
    "print (\"Still in hit ratio top 5: %f\" % (sum(hit_ratio_still_top5)/len(hit_ratio_still_top5)))"
   ]
  },
  {
   "cell_type": "code",
   "execution_count": 39,
   "metadata": {},
   "outputs": [
    {
     "name": "stdout",
     "output_type": "stream",
     "text": [
      "Avg. precision top 30: 0.698499\n",
      "Avg. precision top 10: 0.750962\n",
      "Avg. precision top 5: 0.766944\n",
      "\n",
      "Avg.precision still top 30: 0.692428\n",
      "Avg.precision still top 10: 0.827183\n",
      "Avg.precision still top 5: 0.877778\n"
     ]
    }
   ],
   "source": [
    "print (\"Avg. precision top 30: %f\" % (sum(avg_precision_top_30)/len(avg_precision_top_30)))\n",
    "print (\"Avg. precision top 10: %f\" % (sum(avg_precision_top_10)/len(avg_precision_top_10)))\n",
    "print (\"Avg. precision top 5: %f\" % (sum(avg_precision_top_5)/len(avg_precision_top_5)))\n",
    "print ()\n",
    "print (\"Avg.precision still top 30: %f\" % (sum(avg_precision_still_30)/len(avg_precision_still_30)))\n",
    "print (\"Avg.precision still top 10: %f\" % (sum(avg_precision_still_10)/len(avg_precision_still_10)))\n",
    "print (\"Avg.precision still top 5: %f\" % (sum(avg_precision_still_5)/len(avg_precision_still_5)))"
   ]
  },
  {
   "cell_type": "markdown",
   "metadata": {},
   "source": [
    "## Upper 85 mean"
   ]
  },
  {
   "cell_type": "code",
   "execution_count": null,
   "metadata": {
    "collapsed": true,
    "scrolled": true
   },
   "outputs": [],
   "source": [
    "plt.plot(range(len(hit_ratio_top_10)), hit_ratio_top_10, color='blue', label='hit_ratios')\n",
    "plt.legend(loc=\"upper right\")\n",
    "# plt.title(\"Time: %d, Item: %d, mean: %f\" % (i, top_items_list[i][j], top_means_list[i][j][1]))\n",
    "plt.xlabel('Time')\n",
    "plt.ylabel('ratio')\n",
    "plt.title('NOW')\n",
    "plt.show()\n",
    "plt.gcf().clear()\n",
    "print (sum(hit_ratio_top_10)/len(hit_ratio_top_10))\n",
    "print (sum(hit_ratio_top_5)/len(hit_ratio_top_5))"
   ]
  },
  {
   "cell_type": "code",
   "execution_count": null,
   "metadata": {
    "collapsed": true,
    "scrolled": true
   },
   "outputs": [],
   "source": [
    "plt.plot(range(len(hit_ratio_top_10)), hit_ratio_top_10, color='blue', label='hit_ratios')\n",
    "plt.legend(loc=\"upper right\")\n",
    "# plt.title(\"Time: %d, Item: %d, mean: %f\" % (i, top_items_list[i][j], top_means_list[i][j][1]))\n",
    "plt.xlabel('Time')\n",
    "plt.ylabel('ratio')\n",
    "plt.title('NEXT')\n",
    "plt.show()\n",
    "plt.gcf().clear()\n",
    "print (sum(hit_ratio_top_10)/len(hit_ratio_top_10))\n",
    "print (sum(hit_ratio_top_5)/len(hit_ratio_top_5))"
   ]
  },
  {
   "cell_type": "markdown",
   "metadata": {},
   "source": [
    "# Netflix"
   ]
  },
  {
   "cell_type": "markdown",
   "metadata": {},
   "source": [
    "## all data mean"
   ]
  },
  {
   "cell_type": "code",
   "execution_count": null,
   "metadata": {
    "collapsed": true
   },
   "outputs": [],
   "source": [
    "print (\"TOP 10 NOW: %f\" % (sum(hit_ratio_top_10)/len(hit_ratio_top_10)))\n",
    "print (\"TOP 5 NOW: %f\" % (sum(hit_ratio_top_5)/len(hit_ratio_top_5)))"
   ]
  },
  {
   "cell_type": "code",
   "execution_count": null,
   "metadata": {
    "collapsed": true,
    "scrolled": true
   },
   "outputs": [],
   "source": [
    "print (\"TOP 10 NEXT: %f\" % (sum(hit_ratio_top_10)/len(hit_ratio_top_10)))\n",
    "print (\"TOP 5 NEXT: %f\" % (sum(hit_ratio_top_5)/len(hit_ratio_top_5)))"
   ]
  },
  {
   "cell_type": "markdown",
   "metadata": {},
   "source": [
    "## upper quartile mean"
   ]
  },
  {
   "cell_type": "code",
   "execution_count": null,
   "metadata": {
    "collapsed": true
   },
   "outputs": [],
   "source": [
    "print (\"TOP 10 NOW: %f\" % (sum(hit_ratio_top_10)/len(hit_ratio_top_10)))\n",
    "print (\"TOP 5 NOW: %f\" % (sum(hit_ratio_top_5)/len(hit_ratio_top_5)))"
   ]
  },
  {
   "cell_type": "code",
   "execution_count": null,
   "metadata": {
    "collapsed": true
   },
   "outputs": [],
   "source": [
    "print (\"TOP 10 NEXT: %f\" % (sum(hit_ratio_top_10)/len(hit_ratio_top_10)))\n",
    "print (\"TOP 5 NEXT: %f\" % (sum(hit_ratio_top_5)/len(hit_ratio_top_5)))"
   ]
  },
  {
   "cell_type": "markdown",
   "metadata": {},
   "source": [
    "## Upper 85 mean"
   ]
  },
  {
   "cell_type": "code",
   "execution_count": null,
   "metadata": {
    "collapsed": true
   },
   "outputs": [],
   "source": [
    "print (\"TOP 10 NOW: %f\" % (sum(hit_ratio_top_10)/len(hit_ratio_top_10)))\n",
    "print (\"TOP 5 NOW: %f\" % (sum(hit_ratio_top_5)/len(hit_ratio_top_5)))"
   ]
  },
  {
   "cell_type": "code",
   "execution_count": null,
   "metadata": {
    "collapsed": true
   },
   "outputs": [],
   "source": [
    "print (\"TOP 10 NEXT: %f\" % (sum(hit_ratio_top_10)/len(hit_ratio_top_10)))\n",
    "print (\"TOP 5 NEXT: %f\" % (sum(hit_ratio_top_5)/len(hit_ratio_top_5)))"
   ]
  },
  {
   "cell_type": "markdown",
   "metadata": {},
   "source": [
    "# TOP N Ratio"
   ]
  },
  {
   "cell_type": "code",
   "execution_count": null,
   "metadata": {
    "collapsed": true
   },
   "outputs": [],
   "source": [
    "generator = train_test_split(df, user_time_interval)\n",
    "\n",
    "gt_list = []\n",
    "gtt = []\n",
    "while True:\n",
    "    try:\n",
    "        df_train, df_test_1, df_test_2 = next(generator)\n",
    "\n",
    "        test_data_2 = df_test_2.as_matrix()\n",
    "\n",
    "        user_test_matrix_2 = get_matrix(test_data_2)\n",
    "        \n",
    "        ground_truth_idx = np.count_nonzero(user_test_matrix_2, axis=0).argsort()[::-1][:30]\n",
    "        ground_truth = np.take(np.count_nonzero(user_test_matrix_2, axis=0), ground_truth_idx)\n",
    "        \n",
    "        ground_truth_rate = np.divide(sum(ground_truth), sum(np.count_nonzero(user_test_matrix_2, axis=0)))\n",
    "        gt_list.append(ground_truth_rate)\n",
    "        gtt.append(user_test_matrix_2.shape[0])\n",
    "    except StopIteration:\n",
    "        break\n"
   ]
  },
  {
   "cell_type": "markdown",
   "metadata": {},
   "source": [
    "## ITRI TOP N ratio"
   ]
  },
  {
   "cell_type": "code",
   "execution_count": null,
   "metadata": {
    "collapsed": true,
    "scrolled": true
   },
   "outputs": [],
   "source": [
    "plt.plot(range(len(gt_list)), gt_list, color='blue', label='in_ratios')\n",
    "plt.legend(loc=\"upper right\")\n",
    "plt.xlabel('Time')\n",
    "plt.title('top 30')\n",
    "plt.ylabel('ratio')\n",
    "plt.show()\n",
    "plt.gcf().clear()"
   ]
  },
  {
   "cell_type": "code",
   "execution_count": null,
   "metadata": {
    "collapsed": true,
    "scrolled": true
   },
   "outputs": [],
   "source": [
    "plt.plot(range(len(gt_list)), gt_list, color='blue', label='in_ratios')\n",
    "plt.legend(loc=\"upper right\")\n",
    "plt.xlabel('Time')\n",
    "plt.title('top 10')\n",
    "plt.ylabel('ratio')\n",
    "plt.show()\n",
    "plt.gcf().clear()"
   ]
  },
  {
   "cell_type": "markdown",
   "metadata": {},
   "source": [
    "## Netflix Top N ratio"
   ]
  },
  {
   "cell_type": "code",
   "execution_count": null,
   "metadata": {
    "collapsed": true
   },
   "outputs": [],
   "source": [
    "plt.plot(range(len(gt_list)), gt_list, color='blue', label='in_ratios')\n",
    "plt.legend(loc=\"upper right\")\n",
    "plt.xlabel('Time')\n",
    "plt.title('top 30')\n",
    "plt.ylabel('ratio')\n",
    "plt.show()\n",
    "plt.gcf().clear()"
   ]
  },
  {
   "cell_type": "code",
   "execution_count": null,
   "metadata": {
    "collapsed": true,
    "scrolled": true
   },
   "outputs": [],
   "source": [
    "plt.plot(range(len(gt_list)), gt_list, color='blue', label='in_ratios')\n",
    "plt.legend(loc=\"upper right\")\n",
    "plt.xlabel('Time')\n",
    "plt.title('top 10')\n",
    "plt.ylabel('ratio')\n",
    "plt.show()\n",
    "plt.gcf().clear()"
   ]
  },
  {
   "cell_type": "markdown",
   "metadata": {},
   "source": [
    "# Debug"
   ]
  },
  {
   "cell_type": "code",
   "execution_count": null,
   "metadata": {
    "collapsed": true
   },
   "outputs": [],
   "source": [
    "# from sklearn.model_selection import train_test_split\n",
    "\n",
    "df_train, df_test, _, _ = next(generator)\n",
    "\n",
    "train_data = df_train.as_matrix()\n",
    "test_data = df_test.as_matrix()\n",
    "\n",
    "user_train_rating = np.zeros((total_usr, total_item), dtype=np.float32)\n",
    "for line in train_data:\n",
    "    uid = user_map[line[0]]\n",
    "    iid = item_map[line[1]]\n",
    "    user_train_rating[uid, iid] = 1\n",
    "    \n",
    "item_train_rating = user_train_rating.T"
   ]
  },
  {
   "cell_type": "code",
   "execution_count": null,
   "metadata": {
    "collapsed": true
   },
   "outputs": [],
   "source": [
    "a = np.percentile(test_out, 75, axis=0)\n",
    "k = []\n",
    "for i in range(test_out.shape[1]):\n",
    "    k.append(np.mean([x for x in test_out.T[i] if x > a[i]]))"
   ]
  },
  {
   "cell_type": "code",
   "execution_count": null,
   "metadata": {
    "collapsed": true
   },
   "outputs": [],
   "source": [
    "print (len(sorted(k, reverse=True)))"
   ]
  },
  {
   "cell_type": "code",
   "execution_count": null,
   "metadata": {
    "collapsed": true
   },
   "outputs": [],
   "source": []
  }
 ],
 "metadata": {
  "kernelspec": {
   "display_name": "Python 3",
   "language": "python",
   "name": "python3"
  },
  "language_info": {
   "codemirror_mode": {
    "name": "ipython",
    "version": 3
   },
   "file_extension": ".py",
   "mimetype": "text/x-python",
   "name": "python",
   "nbconvert_exporter": "python",
   "pygments_lexer": "ipython3",
   "version": "3.6.2"
  }
 },
 "nbformat": 4,
 "nbformat_minor": 2
}
