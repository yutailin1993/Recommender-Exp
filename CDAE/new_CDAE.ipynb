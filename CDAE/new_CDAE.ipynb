{
 "cells": [
  {
   "cell_type": "code",
   "execution_count": 1,
   "metadata": {
    "scrolled": true
   },
   "outputs": [
    {
     "name": "stderr",
     "output_type": "stream",
     "text": [
      "/Users/larry/Py3/lib/python3.6/importlib/_bootstrap.py:205: RuntimeWarning: compiletime version 3.5 of module 'tensorflow.python.framework.fast_tensor_util' does not match runtime version 3.6\n",
      "  return f(*args, **kwds)\n"
     ]
    }
   ],
   "source": [
    "import numpy as np\n",
    "import pandas as pd\n",
    "import matplotlib.pyplot as plt\n",
    "import tensorflow as tf\n",
    "from CDAE import AutoEncoder\n",
    "from tqdm import trange\n",
    "from utils import *\n",
    "import clustering\n",
    "\n",
    "from sklearn.cluster import KMeans, spectral_clustering\n",
    "from sklearn.decomposition import PCA"
   ]
  },
  {
   "cell_type": "code",
   "execution_count": 2,
   "metadata": {
    "scrolled": false
   },
   "outputs": [
    {
     "name": "stdout",
     "output_type": "stream",
     "text": [
      "sparsity of ratings is 27.65%\n",
      "num. of users: 397, num. of items: 1002\n"
     ]
    }
   ],
   "source": [
    "df = pd.read_csv('../data/itri/rating_itri.csv')\n",
    "# df['freq'] = df.groupby('uid')['uid'].transform('count')  # count frequncy by column's values\n",
    "# df = df[df['freq'] > 5]  # remove row which corresponding frequence < 5\n",
    "\n",
    "userList = df['uid'].unique()\n",
    "itemList = df['iid'].unique()\n",
    "\n",
    "total_usr = len(df['uid'].unique())\n",
    "total_item = len(df['iid'].unique())\n",
    "\n",
    "sparsity = len(df)/(total_usr*total_item)\n",
    "print(\"sparsity of ratings is %.2f%%\" %(sparsity*100))\n",
    "print (\"num. of users: %d, num. of items: %d\" % (total_usr, total_item))"
   ]
  },
  {
   "cell_type": "code",
   "execution_count": 3,
   "metadata": {
    "collapsed": true
   },
   "outputs": [],
   "source": [
    "import math\n",
    "def get_map(list_):\n",
    "    map_ = {}\n",
    "    for idx, ident in enumerate(list_):\n",
    "        map_[ident] = idx\n",
    "        \n",
    "    return map_\n",
    "\n",
    "def get_matrix(data):\n",
    "    matrix = np.zeros((total_usr, total_item), dtype=np.float32)\n",
    "    for line in data:\n",
    "        uid = user_map[line[0]]\n",
    "        iid = item_map[line[1]]\n",
    "        matrix[uid, iid] = 1\n",
    "    \n",
    "    return matrix\n",
    "\n",
    "def train_test_split(df, time_interval, split_rate=0.5):\n",
    "    start_time = min(df['timestamp'])\n",
    "    end_time = max(df['timestamp'])\n",
    "    time_elapse = (end_time-start_time) // time_interval\n",
    "    split_time = start_time + math.floor(time_elapse * (1-split_rate)) * time_interval\n",
    "    \n",
    "    while split_time < end_time:\n",
    "        df_train = df[df['timestamp'] < split_time]\n",
    "        df_train = df_train[df_train['timestamp'] >= start_time]\n",
    "        \n",
    "        df_test_1 = df[df['timestamp'] >= split_time - 3*time_interval]\n",
    "        df_test_1 = df_test_1[df_test_1['timestamp'] < split_time]\n",
    "        \n",
    "        df_test_2 = df[df['timestamp'] >= split_time]\n",
    "        df_test_2 = df_test_2[df_test_2['timestamp'] < split_time + time_interval]\n",
    "        \n",
    "        # start_time += time_interval\n",
    "        # split_time = start_time + math.floor(time_elapse * (1-split_rate)) * time_interval\n",
    "        split_time += time_interval\n",
    "        \n",
    "        yield df_train, df_test_1, df_test_2"
   ]
  },
  {
   "cell_type": "code",
   "execution_count": 4,
   "metadata": {},
   "outputs": [],
   "source": [
    "user_map = get_map(userList)\n",
    "item_map = get_map(itemList)\n",
    "    \n",
    "user_time_interval = 7 * 24 * 3600"
   ]
  },
  {
   "cell_type": "markdown",
   "metadata": {},
   "source": [
    "# New"
   ]
  },
  {
   "cell_type": "markdown",
   "metadata": {},
   "source": [
    "## Train"
   ]
  },
  {
   "cell_type": "code",
   "execution_count": null,
   "metadata": {
    "scrolled": true
   },
   "outputs": [
    {
     "name": "stderr",
     "output_type": "stream",
     "text": [
      "100%|██████████| 200/200 [00:37<00:00,  5.33it/s]\n",
      "100%|██████████| 200/200 [00:03<00:00, 57.81it/s]\n",
      "100%|██████████| 200/200 [00:04<00:00, 46.01it/s]\n",
      "100%|██████████| 200/200 [00:03<00:00, 51.90it/s]\n",
      "100%|██████████| 200/200 [00:04<00:00, 45.31it/s]\n",
      "100%|██████████| 200/200 [00:04<00:00, 42.65it/s]\n",
      "100%|██████████| 200/200 [00:05<00:00, 38.16it/s]\n",
      "100%|██████████| 200/200 [00:03<00:00, 54.88it/s]\n",
      "100%|██████████| 200/200 [00:04<00:00, 43.64it/s]\n",
      "100%|██████████| 200/200 [00:02<00:00, 70.84it/s]\n",
      "100%|██████████| 200/200 [00:01<00:00, 134.74it/s]\n",
      "100%|██████████| 200/200 [00:36<00:00,  5.46it/s]\n",
      "100%|██████████| 200/200 [00:03<00:00, 59.06it/s]\n",
      "100%|██████████| 200/200 [00:03<00:00, 57.90it/s]\n",
      "100%|██████████| 200/200 [00:03<00:00, 63.96it/s]\n",
      "100%|██████████| 200/200 [00:04<00:00, 41.62it/s]\n",
      "100%|██████████| 200/200 [00:03<00:00, 51.05it/s]\n",
      "100%|██████████| 200/200 [00:05<00:00, 35.51it/s]\n",
      "100%|██████████| 200/200 [00:05<00:00, 35.28it/s]\n",
      "100%|██████████| 200/200 [00:05<00:00, 37.76it/s]\n",
      "100%|██████████| 200/200 [00:03<00:00, 55.76it/s]\n",
      "100%|██████████| 200/200 [00:05<00:00, 33.33it/s]\n",
      "100%|██████████| 200/200 [00:40<00:00,  4.98it/s]\n",
      "100%|██████████| 200/200 [00:01<00:00, 103.95it/s]\n",
      "100%|██████████| 200/200 [00:05<00:00, 35.02it/s]\n",
      "100%|██████████| 200/200 [00:05<00:00, 36.88it/s]\n",
      "100%|██████████| 200/200 [00:04<00:00, 45.89it/s]\n",
      "100%|██████████| 200/200 [00:05<00:00, 35.14it/s]\n",
      "100%|██████████| 200/200 [00:05<00:00, 34.27it/s]\n",
      "100%|██████████| 200/200 [00:04<00:00, 46.88it/s]\n",
      "100%|██████████| 200/200 [00:04<00:00, 43.05it/s]\n",
      "100%|██████████| 200/200 [00:04<00:00, 48.39it/s]\n",
      "100%|██████████| 200/200 [00:05<00:00, 37.28it/s]\n",
      "100%|██████████| 200/200 [00:44<00:00,  4.44it/s]\n",
      "100%|██████████| 200/200 [00:06<00:00, 31.27it/s]\n",
      "100%|██████████| 200/200 [00:04<00:00, 46.37it/s]\n",
      "100%|██████████| 200/200 [00:05<00:00, 34.34it/s]\n",
      "100%|██████████| 200/200 [00:05<00:00, 36.54it/s]\n",
      "100%|██████████| 200/200 [00:04<00:00, 41.79it/s]\n",
      "100%|██████████| 200/200 [00:04<00:00, 41.23it/s]\n",
      "100%|██████████| 200/200 [00:02<00:00, 73.60it/s]\n",
      "100%|██████████| 200/200 [00:05<00:00, 36.93it/s]\n",
      "100%|██████████| 200/200 [00:02<00:00, 76.64it/s]\n",
      "100%|██████████| 200/200 [00:03<00:00, 52.30it/s]\n",
      "100%|██████████| 200/200 [00:49<00:00,  4.01it/s]\n",
      "100%|██████████| 200/200 [00:07<00:00, 25.85it/s]\n",
      "100%|██████████| 200/200 [00:04<00:00, 45.69it/s]\n",
      "100%|██████████| 200/200 [00:07<00:00, 28.40it/s]\n",
      "100%|██████████| 200/200 [00:06<00:00, 31.78it/s]\n",
      "100%|██████████| 200/200 [00:04<00:00, 41.26it/s]\n",
      "100%|██████████| 200/200 [00:06<00:00, 30.91it/s]\n",
      "100%|██████████| 200/200 [00:03<00:00, 60.83it/s]\n",
      "100%|██████████| 200/200 [00:05<00:00, 35.04it/s]\n",
      "100%|██████████| 200/200 [00:04<00:00, 41.87it/s]\n",
      "100%|██████████| 200/200 [00:05<00:00, 34.67it/s]\n",
      "100%|██████████| 200/200 [00:52<00:00,  3.78it/s]\n",
      "100%|██████████| 200/200 [00:05<00:00, 36.43it/s]\n",
      "100%|██████████| 200/200 [00:04<00:00, 47.86it/s]\n",
      "100%|██████████| 200/200 [00:05<00:00, 38.26it/s]\n",
      "100%|██████████| 200/200 [00:07<00:00, 28.39it/s]\n",
      "100%|██████████| 200/200 [00:05<00:00, 34.70it/s]\n",
      "100%|██████████| 200/200 [00:06<00:00, 29.17it/s]\n",
      "100%|██████████| 200/200 [00:04<00:00, 43.45it/s]\n",
      "100%|██████████| 200/200 [00:05<00:00, 39.12it/s]\n",
      "100%|██████████| 200/200 [00:06<00:00, 32.62it/s]\n",
      "100%|██████████| 200/200 [00:06<00:00, 31.73it/s]\n",
      "100%|██████████| 200/200 [00:53<00:00,  3.71it/s]\n",
      "100%|██████████| 200/200 [00:06<00:00, 28.83it/s]\n",
      "100%|██████████| 200/200 [00:05<00:00, 36.77it/s]\n",
      "100%|██████████| 200/200 [00:08<00:00, 23.84it/s]\n",
      "100%|██████████| 200/200 [00:05<00:00, 36.43it/s]\n",
      "100%|██████████| 200/200 [00:04<00:00, 46.58it/s]\n",
      "100%|██████████| 200/200 [00:05<00:00, 36.37it/s]\n",
      "100%|██████████| 200/200 [00:09<00:00, 20.40it/s]\n",
      "100%|██████████| 200/200 [00:05<00:00, 35.20it/s]\n",
      "100%|██████████| 200/200 [00:05<00:00, 34.92it/s]\n",
      "100%|██████████| 200/200 [00:04<00:00, 45.35it/s]\n",
      "100%|██████████| 200/200 [01:04<00:00,  3.11it/s]\n",
      "100%|██████████| 200/200 [00:06<00:00, 32.57it/s]\n",
      "100%|██████████| 200/200 [00:06<00:00, 30.92it/s]\n",
      "100%|██████████| 200/200 [00:05<00:00, 34.07it/s]\n",
      "100%|██████████| 200/200 [00:05<00:00, 33.95it/s]\n",
      "100%|██████████| 200/200 [00:05<00:00, 34.62it/s]\n",
      "100%|██████████| 200/200 [00:04<00:00, 45.39it/s]\n",
      "100%|██████████| 200/200 [00:07<00:00, 25.75it/s]\n",
      "100%|██████████| 200/200 [00:08<00:00, 22.44it/s]\n",
      "100%|██████████| 200/200 [00:06<00:00, 32.17it/s]\n",
      "100%|██████████| 200/200 [00:07<00:00, 26.66it/s]\n",
      "100%|██████████| 200/200 [01:01<00:00,  3.28it/s]\n",
      "100%|██████████| 200/200 [00:04<00:00, 41.37it/s]\n",
      "100%|██████████| 200/200 [00:08<00:00, 24.85it/s]\n",
      "100%|██████████| 200/200 [00:11<00:00, 17.91it/s]\n",
      "100%|██████████| 200/200 [00:08<00:00, 24.72it/s]\n",
      "100%|██████████| 200/200 [00:07<00:00, 28.34it/s]\n",
      "100%|██████████| 200/200 [00:06<00:00, 31.16it/s]\n",
      "100%|██████████| 200/200 [00:08<00:00, 23.74it/s]\n",
      "100%|██████████| 200/200 [00:05<00:00, 34.14it/s]\n",
      "100%|██████████| 200/200 [00:06<00:00, 32.98it/s]\n",
      "100%|██████████| 200/200 [00:05<00:00, 33.54it/s]\n",
      "100%|██████████| 200/200 [01:16<00:00,  2.62it/s]\n",
      "100%|██████████| 200/200 [00:07<00:00, 27.56it/s]\n",
      "100%|██████████| 200/200 [00:08<00:00, 22.53it/s]\n",
      "100%|██████████| 200/200 [00:09<00:00, 22.14it/s]\n",
      "100%|██████████| 200/200 [00:05<00:00, 38.17it/s]\n",
      "100%|██████████| 200/200 [00:07<00:00, 25.69it/s]\n",
      "100%|██████████| 200/200 [00:09<00:00, 21.93it/s]\n",
      "100%|██████████| 200/200 [00:06<00:00, 29.14it/s]\n",
      "100%|██████████| 200/200 [00:08<00:00, 24.48it/s]\n",
      "100%|██████████| 200/200 [00:06<00:00, 31.66it/s]\n",
      "100%|██████████| 200/200 [00:06<00:00, 31.83it/s]\n",
      "100%|██████████| 200/200 [01:03<00:00,  3.15it/s]\n",
      "100%|██████████| 200/200 [00:06<00:00, 30.89it/s]\n",
      "100%|██████████| 200/200 [00:08<00:00, 23.15it/s]\n",
      "100%|██████████| 200/200 [00:06<00:00, 32.23it/s]\n",
      "100%|██████████| 200/200 [00:07<00:00, 26.99it/s]\n",
      "100%|██████████| 200/200 [00:07<00:00, 26.81it/s]\n",
      "100%|██████████| 200/200 [00:07<00:00, 27.19it/s]\n",
      "100%|██████████| 200/200 [00:09<00:00, 21.25it/s]\n",
      "100%|██████████| 200/200 [00:10<00:00, 19.16it/s]\n",
      "100%|██████████| 200/200 [00:06<00:00, 28.82it/s]\n",
      "100%|██████████| 200/200 [00:08<00:00, 23.03it/s]\n",
      " 50%|█████     | 100/200 [00:37<00:37,  2.68it/s]"
     ]
    }
   ],
   "source": [
    "generator = train_test_split(df, user_time_interval)\n",
    "\n",
    "NUM_CLUSTER = 10\n",
    "top_items_list_75 = []\n",
    "top_gt_list_next = []\n",
    "top_gt_list_now = []\n",
    "\n",
    "while True:\n",
    "    try:\n",
    "        df_train, df_test_now, df_test_next = next(generator)\n",
    "\n",
    "        train_data = df_train.as_matrix()\n",
    "        test_data_now = df_test_now.as_matrix()\n",
    "        test_data_next = df_test_next.as_matrix()\n",
    "\n",
    "        user_train_matrix = get_matrix(train_data)\n",
    "        user_test_matrix_now = get_matrix(test_data_now)\n",
    "        user_test_matrix_next = get_matrix(test_data_next)\n",
    "\n",
    "        train_user = np.nonzero(np.count_nonzero(user_train_matrix, axis=1))[0]\n",
    "        test_user_now = np.nonzero(np.count_nonzero(user_test_matrix_now, axis=1))[0]\n",
    "\n",
    "        # Train at first to get user_vector\n",
    "        tf.reset_default_graph()\n",
    "        autoencoder = AutoEncoder(user_num=total_usr, item_num=total_item, mode='user', loss_function='cross_entropy',\n",
    "                                  batch_size=1, epochs=200)\n",
    "\n",
    "        autoencoder.train_all(rating=user_train_matrix, train_idents=train_user)\n",
    "\n",
    "        # autoencoder.model_save(1)\n",
    "        \n",
    "        # Get specify vectors\n",
    "        vector_matrices = autoencoder.sess.run(autoencoder.vector_matrix)\n",
    "        exist_vectors = np.take(vector_matrices, train_user, axis=0)\n",
    "        \n",
    "        # Clustering\n",
    "        pca_out = clustering.get_pca_out(exist_vectors)\n",
    "        kmeans = clustering.calculate_kmeans(pca_out, NUM_CLUSTER=NUM_CLUSTER)\n",
    "        \n",
    "        label_index, label_count = clustering.get_cluster_attributes(kmeans, NUM_CLUSTER=NUM_CLUSTER)\n",
    "        \n",
    "        # gether input data\n",
    "        data = {\n",
    "            'TRAIN_MATRIX': user_train_matrix,\n",
    "            'TEST_MATRIX_NOW': user_test_matrix_now,\n",
    "            'TEST_MATRIX_NEXT': user_test_matrix_next,\n",
    "            'TRAIN_USER': train_user,\n",
    "            'TEST_USER_NOW': test_user_now,\n",
    "            'LABEL_INDEX': label_index,\n",
    "        }\n",
    "        \n",
    "        # calculate top_N for each cluster\n",
    "        cluster_top = clustering.calculate_cluster_top(\n",
    "            data,\n",
    "            total_usr,\n",
    "            total_item,\n",
    "            NUM_CLUSTER=NUM_CLUSTER,\n",
    "            batch_size=1)\n",
    "        \n",
    "        # calculate score for top items\n",
    "        score_map = clustering.count_score(cluster_top, label_count, alpha=NUM_CLUSTER)\n",
    "        \n",
    "        # get top items\n",
    "        top_N = clustering.get_score_top(score_map, N=30)\n",
    "        \n",
    "        # gether predict top items\n",
    "        top_items_list_75.append(top_N)\n",
    "        \n",
    "        # gether ground truth items\n",
    "        ground_truth_next = np.count_nonzero(user_test_matrix_next, axis=0).argsort()[::-1][:30]\n",
    "        ground_truth_now = np.count_nonzero(user_test_matrix_now, axis=0).argsort()[::-1][:30]\n",
    "        top_gt_list_next.append(ground_truth_next)\n",
    "        top_gt_list_now.append(ground_truth_now)\n",
    "                \n",
    "    except StopIteration:\n",
    "        break\n",
    "        \n",
    "\n",
    "top_items_list_75 = np.asarray(top_items_list_75)\n",
    "top_gt_list_now = np.asarray(top_gt_list_now)\n",
    "top_gt_list_next = np.asarray(top_gt_list_next)"
   ]
  },
  {
   "cell_type": "code",
   "execution_count": null,
   "metadata": {
    "collapsed": true
   },
   "outputs": [],
   "source": [
    "hit_ratio_top_30 = []\n",
    "hit_ratio_top_10 = []\n",
    "hit_ratio_top_5 = []\n",
    "\n",
    "for i, j in zip(top_items_list_75, top_gt_list_now):\n",
    "    hit_ratio_top_30.append(hit_recall(i, j, N=30))\n",
    "    hit_ratio_top_10.append(hit_recall(i, j, N=10))\n",
    "    hit_ratio_top_5.append(hit_recall(i, j, N=5))\n",
    "    \n",
    "hit_ratio_still_top30 = []\n",
    "hit_ratio_still_top10 = []\n",
    "hit_ratio_still_top5 = []\n",
    "\n",
    "for i, j ,k in zip(top_items_list_75, top_gt_list_now, top_gt_list_next):\n",
    "    still_in_items_30 = []\n",
    "    still_in_items_10 = []\n",
    "    still_in_items_5 = []\n",
    "    \n",
    "    for q in k:\n",
    "        if q in j:\n",
    "            still_in_items_30.append(q)\n",
    "            \n",
    "    for q in k[:10]:\n",
    "        if q in j[:10]:\n",
    "            still_in_items_10.append(q)\n",
    "            \n",
    "    for q in k[:5]:\n",
    "        if q in j[:5]:\n",
    "            still_in_items_5.append(q)\n",
    "            \n",
    "    hit_ratio_still_top30.append(hit_recall(i, still_in_items_30, N=30))\n",
    "    hit_ratio_still_top10.append(hit_recall(i, still_in_items_10, N=10))\n",
    "    hit_ratio_still_top5.append(hit_recall(i, still_in_items_5, N=5))"
   ]
  },
  {
   "cell_type": "code",
   "execution_count": null,
   "metadata": {},
   "outputs": [],
   "source": [
    "plt.plot(range(len(hit_ratio_top_30)), hit_ratio_top_30, color='blue', label='hit_ratios')\n",
    "plt.legend(loc=\"upper right\")\n",
    "# plt.title(\"Time: %d, Item: %d, mean: %f\" % (i, top_items_list[i][j], top_means_list[i][j][1]))\n",
    "plt.xlabel('Time')\n",
    "plt.ylabel('ratio')\n",
    "plt.title('NOW')\n",
    "plt.show()\n",
    "plt.gcf().clear()\n",
    "print (sum(hit_ratio_top_30)/len(hit_ratio_top_30))\n",
    "print (sum(hit_ratio_top_10)/len(hit_ratio_top_10))\n",
    "print (sum(hit_ratio_top_5)/len(hit_ratio_top_5))"
   ]
  },
  {
   "cell_type": "code",
   "execution_count": null,
   "metadata": {},
   "outputs": [],
   "source": [
    "plt.plot(range(len(hit_ratio_still_top10)), hit_ratio_still_top10, color='blue', label='hit_ratios')\n",
    "plt.legend(loc=\"upper right\")\n",
    "# plt.title(\"Time: %d, Item: %d, mean: %f\" % (i, top_items_list[i][j], top_means_list[i][j][1]))\n",
    "plt.xlabel('Time')\n",
    "plt.ylabel('ratio')\n",
    "plt.title('NEXT')\n",
    "plt.show()\n",
    "plt.gcf().clear()\n",
    "print (sum(hit_ratio_still_top30)/len(hit_ratio_still_top30))\n",
    "print (sum(hit_ratio_still_top10)/len(hit_ratio_still_top10))\n",
    "print (sum(hit_ratio_still_top5[:-1])/len(hit_ratio_still_top5[:-1]))"
   ]
  },
  {
   "cell_type": "markdown",
   "metadata": {},
   "source": [
    "# Old"
   ]
  },
  {
   "cell_type": "markdown",
   "metadata": {},
   "source": [
    "# Still in ratio"
   ]
  },
  {
   "cell_type": "code",
   "execution_count": 5,
   "metadata": {},
   "outputs": [],
   "source": [
    "generator = train_test_split(df, user_time_interval, split_rate=0.7)\n",
    "\n",
    "still_in_ratio = []\n",
    "while True:\n",
    "    try:\n",
    "        df_train, df_test_1, df_test_2 = next(generator)\n",
    "        \n",
    "        test_data_1 = df_test_1.as_matrix()\n",
    "        test_data_2 = df_test_2.as_matrix()\n",
    "        user_test_matrix_1 = get_matrix(test_data_1)\n",
    "        user_test_matrix_2 = get_matrix(test_data_2)\n",
    "        \n",
    "\n",
    "        ground_truth_next = np.count_nonzero(user_test_matrix_2, axis=0).argsort()[::-1][:30]\n",
    "        ground_truth_now = np.count_nonzero(user_test_matrix_1, axis=0).argsort()[::-1][:30]\n",
    "        \n",
    "        still_in = hit_recall(ground_truth_next, ground_truth_now, N=30)\n",
    "        \n",
    "        still_in_ratio.append(still_in)\n",
    "        \n",
    "    except StopIteration:\n",
    "        break"
   ]
  },
  {
   "cell_type": "code",
   "execution_count": 6,
   "metadata": {},
   "outputs": [
    {
     "data": {
      "image/png": "[encoded data removed]",
      "text/plain": [
       "<matplotlib.figure.Figure at 0x11c986710>"
      ]
     },
     "metadata": {},
     "output_type": "display_data"
    },
    {
     "name": "stdout",
     "output_type": "stream",
     "text": [
      "0.48039215686274517\n"
     ]
    }
   ],
   "source": [
    "plt.plot(range(len(still_in_ratio)), still_in_ratio, color='blue', label='still_in_ratio')\n",
    "plt.legend(loc=\"upper right\")\n",
    "plt.title(\"Netflix_top_30_still_in_ratio\")\n",
    "plt.xlabel('Users')\n",
    "plt.ylabel('score')\n",
    "plt.savefig(\"./prediction_weekly/Netflix_still_in_top_30.jpg\")\n",
    "plt.show()\n",
    "plt.gcf().clear()\n",
    "\n",
    "print (sum(still_in_ratio)/len(still_in_ratio))"
   ]
  },
  {
   "cell_type": "markdown",
   "metadata": {},
   "source": [
    "## Train"
   ]
  },
  {
   "cell_type": "code",
   "execution_count": 12,
   "metadata": {},
   "outputs": [
    {
     "name": "stderr",
     "output_type": "stream",
     "text": [
      "100%|██████████| 500/500 [00:05<00:00, 91.13it/s]\n",
      "100%|██████████| 500/500 [00:06<00:00, 81.14it/s]\n",
      "100%|██████████| 500/500 [00:06<00:00, 73.54it/s]\n",
      "100%|██████████| 500/500 [00:06<00:00, 72.60it/s]\n",
      "100%|██████████| 500/500 [00:07<00:00, 67.84it/s]\n",
      "100%|██████████| 500/500 [00:08<00:00, 58.63it/s]\n",
      "100%|██████████| 500/500 [00:09<00:00, 52.35it/s]\n",
      "100%|██████████| 500/500 [00:10<00:00, 48.82it/s]\n",
      "100%|██████████| 500/500 [00:09<00:00, 51.50it/s]\n",
      "100%|██████████| 500/500 [00:10<00:00, 49.69it/s]\n",
      "100%|██████████| 500/500 [00:09<00:00, 50.04it/s]\n",
      "100%|██████████| 500/500 [00:10<00:00, 49.16it/s]\n"
     ]
    }
   ],
   "source": [
    "generator = train_test_split(df, user_time_interval)\n",
    "\n",
    "tf.reset_default_graph()\n",
    "\n",
    "autoencoder = AutoEncoder(user_num=total_usr, item_num=total_item, mode='user', loss_function='cross_entropy',\n",
    "                          batch_size=100, epochs=500)\n",
    "\n",
    "test_out_top = []\n",
    "top_items_list_all = []\n",
    "top_items_list_75 = []\n",
    "top_items_list_85 = []\n",
    "top_means_list = []\n",
    "top_gt_list_next = []\n",
    "top_gt_list_now = []\n",
    "\n",
    "while True:\n",
    "    try:\n",
    "        df_train, df_test_1, df_test_2 = next(generator)\n",
    "\n",
    "        train_data = df_train.as_matrix()\n",
    "        test_data_1 = df_test_1.as_matrix()\n",
    "        test_data_2 = df_test_2.as_matrix()\n",
    "\n",
    "        user_train_matrix = get_matrix(train_data)\n",
    "        user_test_matrix_1 = get_matrix(test_data_1)\n",
    "        user_test_matrix_2 = get_matrix(test_data_2)\n",
    "\n",
    "        train_user = np.nonzero(np.count_nonzero(user_train_matrix, axis=1))[0]\n",
    "        test_user_1 = np.nonzero(np.count_nonzero(user_test_matrix_1, axis=1))[0]\n",
    "\n",
    "        # train_rating, train_indices, test_indices = gen_train_test(user_train_matrix)\n",
    "\n",
    "        autoencoder.train_all(rating=user_train_matrix, train_idents=train_user)\n",
    "\n",
    "        test_out = autoencoder.predict(user_test_matrix_1, test_user_1)\n",
    "        \n",
    "        \"\"\" out data process \"\"\"\n",
    "        # all data mean\n",
    "        test_out_stat_all = np.mean(test_out, axis=0)\n",
    "        \n",
    "        # upper quartile mean\n",
    "        test_out_stat_75 = []\n",
    "        quartile_75 = np.percentile(test_out, 75, axis=0)\n",
    "        for i in range(test_out.shape[1]):\n",
    "            test_out_stat_75.append(np.mean([x for x in test_out.T[i] if x > quartile_75[i]]))\n",
    "        test_out_stat_75 = np.asarray(test_out_stat_75)\n",
    "        \n",
    "        test_out_stat_85 = []\n",
    "        quartile_85 = np.percentile(test_out, 85, axis=0)\n",
    "        for i in range(test_out.shape[1]):\n",
    "            test_out_stat_85.append(np.mean([x for x in test_out.T[i] if x > quartile_85[i]]))\n",
    "        test_out_stat_85 = np.asarray(test_out_stat_85)\n",
    "        \n",
    "        \"\"\"Get top 10\"\"\"\n",
    "        test_out_rank_all = test_out_stat_all.argsort()[::-1][:30]\n",
    "        test_out_rank_75 = test_out_stat_75.argsort()[::-1][:30]\n",
    "        test_out_rank_85 = test_out_stat_85.argsort()[::-1][:30]\n",
    "        ground_truth_next = np.count_nonzero(user_test_matrix_2, axis=0).argsort()[::-1][:30]\n",
    "        ground_truth_now = np.count_nonzero(user_test_matrix_1, axis=0).argsort()[::-1][:30]\n",
    "        \n",
    "        \"\"\"out data collect\"\"\"\n",
    "        top_out = np.take(test_out, test_out_rank_all, axis=1).T\n",
    "        test_out_top.append(top_out)\n",
    "        \n",
    "        top_items_list_all.append(test_out_rank_all)\n",
    "        top_items_list_75.append(test_out_rank_75)\n",
    "        top_items_list_85.append(test_out_rank_85)\n",
    "        top_gt_list_next.append(ground_truth_next)\n",
    "        top_gt_list_now.append(ground_truth_now)\n",
    "        \n",
    "        means = []\n",
    "        for i in test_out_rank_all:\n",
    "            means.append((i, test_out_stat_all[i]))\n",
    "        top_means_list.append(means)\n",
    "        \n",
    "    except StopIteration:\n",
    "        break\n",
    "        \n",
    "top_items_list_all = np.asarray(top_items_list_all)\n",
    "top_items_list_75 = np.asarray(top_items_list_75)\n",
    "top_items_list_85 = np.asarray(top_items_list_85)\n",
    "top_means_list = np.asarray(top_means_list)\n",
    "top_gt_list_now = np.asarray(top_gt_list_now)\n",
    "top_gt_list_next = np.asarray(top_gt_list_next)"
   ]
  },
  {
   "cell_type": "code",
   "execution_count": null,
   "metadata": {
    "collapsed": true
   },
   "outputs": [],
   "source": [
    "for i in trange(top_means_list.shape[0]):\n",
    "    for j in range(top_means_list.shape[1]):\n",
    "        if top_items_list_all[i][j] in top_gt_list_now[i]:\n",
    "            plt.plot(range(len(test_out_top[i][j])), test_out_top[i][j], color='green', label='pred. scores')\n",
    "            plt.hlines(top_means_list[i][j][1], -5, len(test_out_top[i][j])+5, linestyles='solid', color='blue')\n",
    "            plt.legend(loc=\"upper right\")\n",
    "            plt.title(\"Time: %d, Item: %d, mean: %f\" % (i, top_items_list_all[i][j], top_means_list[i][j][1]))\n",
    "            plt.xlabel('Users')\n",
    "            plt.ylabel('score')\n",
    "            plt.savefig(\"plots_netflix_now/scores_%d_%d.jpg\" % (i, j))\n",
    "        else:\n",
    "            plt.plot(range(len(test_out_top[i][j])), test_out_top[i][j], color='red', label='pred. scores')\n",
    "            plt.hlines(top_means_list[i][j][1], -5, len(test_out_top[i][j])+5, linestyles='solid', color='blue')\n",
    "            plt.legend(loc=\"upper right\")\n",
    "            plt.title(\"Time: %d, Item: %d, mean: %f\" % (i, top_items_list_all[i][j], top_means_list[i][j][1]))\n",
    "            plt.xlabel('Users')\n",
    "            plt.ylabel('score')\n",
    "            plt.savefig(\"plots_netflix_now/scores_%d_%d.jpg\" % (i, j))\n",
    "        # plt.show()\n",
    "        plt.gcf().clear()"
   ]
  },
  {
   "cell_type": "markdown",
   "metadata": {},
   "source": [
    "# ITRI"
   ]
  },
  {
   "cell_type": "code",
   "execution_count": 13,
   "metadata": {
    "collapsed": true
   },
   "outputs": [],
   "source": [
    "hit_ratio_top_30 = []\n",
    "hit_ratio_top_10 = []\n",
    "hit_ratio_top_5 = []\n",
    "\n",
    "for i, j in zip(top_items_list_75, top_gt_list_now):\n",
    "    \n",
    "    hit_ratio_top_30.append(hit_recall(i, j, N=30))\n",
    "    hit_ratio_top_10.append(hit_recall(i, j, N=10))\n",
    "    hit_ratio_top_5.append(hit_recall(i, j, N=5)) "
   ]
  },
  {
   "cell_type": "code",
   "execution_count": 14,
   "metadata": {
    "collapsed": true
   },
   "outputs": [],
   "source": [
    "hit_ratio_still_top30 = []\n",
    "hit_ratio_still_top10 = []\n",
    "hit_ratio_still_top5 = []\n",
    "\n",
    "for i, j ,k in zip(top_items_list_75, top_gt_list_now, top_gt_list_next):\n",
    "    still_in_items_30 = []\n",
    "    still_in_items_10 = []\n",
    "    still_in_items_5 = []\n",
    "    \n",
    "    f = np.asarray([i])\n",
    "    \n",
    "    for q in k:\n",
    "        if q in j:\n",
    "            still_in_items_30.append(q)\n",
    "            \n",
    "    for q in k[:10]:\n",
    "        if q in j[:10]:\n",
    "            still_in_items_10.append(q)\n",
    "            \n",
    "    for q in k[:5]:\n",
    "        if q in j[:5]:\n",
    "            still_in_items_5.append(q)\n",
    "            \n",
    "    hit_ratio_still_top30.append(hit_recall(i, still_in_items_30, N=30))\n",
    "    hit_ratio_still_top10.append(hit_recall(i, still_in_items_10, N =10))\n",
    "    hit_ratio_still_top5.append(hit_recall(i, still_in_items_5, N=5))"
   ]
  },
  {
   "cell_type": "markdown",
   "metadata": {},
   "source": [
    "## upper quartile mean"
   ]
  },
  {
   "cell_type": "code",
   "execution_count": 15,
   "metadata": {
    "scrolled": true
   },
   "outputs": [
    {
     "data": {
      "image/png": "[encoded data removed]",
      "text/plain": [
       "<matplotlib.figure.Figure at 0x11e1bce10>"
      ]
     },
     "metadata": {},
     "output_type": "display_data"
    },
    {
     "name": "stdout",
     "output_type": "stream",
     "text": [
      "0.6888888888888888\n",
      "0.7666666666666666\n",
      "0.8333333333333335\n"
     ]
    }
   ],
   "source": [
    "plt.plot(range(len(hit_ratio_top_10)), hit_ratio_top_10, color='blue', label='hit_ratios')\n",
    "plt.legend(loc=\"upper right\")\n",
    "# plt.title(\"Time: %d, Item: %d, mean: %f\" % (i, top_items_list[i][j], top_means_list[i][j][1]))\n",
    "plt.xlabel('Time')\n",
    "plt.ylabel('ratio')\n",
    "plt.title('NOW')\n",
    "plt.show()\n",
    "plt.gcf().clear()\n",
    "print (sum(hit_ratio_top_30)/len(hit_ratio_top_30))\n",
    "print (sum(hit_ratio_top_10)/len(hit_ratio_top_10))\n",
    "print (sum(hit_ratio_top_5)/len(hit_ratio_top_5))"
   ]
  },
  {
   "cell_type": "code",
   "execution_count": 16,
   "metadata": {
    "scrolled": true
   },
   "outputs": [
    {
     "data": {
      "image/png": "[encoded data removed]",
      "text/plain": [
       "<matplotlib.figure.Figure at 0x120ffee10>"
      ]
     },
     "metadata": {},
     "output_type": "display_data"
    },
    {
     "name": "stdout",
     "output_type": "stream",
     "text": [
      "0.8226325757575759\n",
      "0.8895833333333334\n",
      "1.0\n"
     ]
    }
   ],
   "source": [
    "plt.plot(range(len(hit_ratio_still_top10)), hit_ratio_still_top10, color='blue', label='hit_ratios')\n",
    "plt.legend(loc=\"upper right\")\n",
    "# plt.title(\"Time: %d, Item: %d, mean: %f\" % (i, top_items_list[i][j], top_means_list[i][j][1]))\n",
    "plt.xlabel('Time')\n",
    "plt.ylabel('ratio')\n",
    "plt.title('NEXT')\n",
    "plt.show()\n",
    "plt.gcf().clear()\n",
    "print (sum(hit_ratio_still_top30)/len(hit_ratio_still_top30))\n",
    "print (sum(hit_ratio_still_top10)/len(hit_ratio_still_top10))\n",
    "print (sum(hit_ratio_still_top5)/len(hit_ratio_still_top5))"
   ]
  },
  {
   "cell_type": "markdown",
   "metadata": {},
   "source": [
    "## Upper 85 mean"
   ]
  },
  {
   "cell_type": "code",
   "execution_count": null,
   "metadata": {
    "collapsed": true,
    "scrolled": true
   },
   "outputs": [],
   "source": [
    "plt.plot(range(len(hit_ratio_top_10)), hit_ratio_top_10, color='blue', label='hit_ratios')\n",
    "plt.legend(loc=\"upper right\")\n",
    "# plt.title(\"Time: %d, Item: %d, mean: %f\" % (i, top_items_list[i][j], top_means_list[i][j][1]))\n",
    "plt.xlabel('Time')\n",
    "plt.ylabel('ratio')\n",
    "plt.title('NOW')\n",
    "plt.show()\n",
    "plt.gcf().clear()\n",
    "print (sum(hit_ratio_top_10)/len(hit_ratio_top_10))\n",
    "print (sum(hit_ratio_top_5)/len(hit_ratio_top_5))"
   ]
  },
  {
   "cell_type": "code",
   "execution_count": null,
   "metadata": {
    "collapsed": true,
    "scrolled": true
   },
   "outputs": [],
   "source": [
    "plt.plot(range(len(hit_ratio_top_10)), hit_ratio_top_10, color='blue', label='hit_ratios')\n",
    "plt.legend(loc=\"upper right\")\n",
    "# plt.title(\"Time: %d, Item: %d, mean: %f\" % (i, top_items_list[i][j], top_means_list[i][j][1]))\n",
    "plt.xlabel('Time')\n",
    "plt.ylabel('ratio')\n",
    "plt.title('NEXT')\n",
    "plt.show()\n",
    "plt.gcf().clear()\n",
    "print (sum(hit_ratio_top_10)/len(hit_ratio_top_10))\n",
    "print (sum(hit_ratio_top_5)/len(hit_ratio_top_5))"
   ]
  },
  {
   "cell_type": "markdown",
   "metadata": {},
   "source": [
    "# Netflix"
   ]
  },
  {
   "cell_type": "markdown",
   "metadata": {},
   "source": [
    "## all data mean"
   ]
  },
  {
   "cell_type": "code",
   "execution_count": null,
   "metadata": {
    "collapsed": true
   },
   "outputs": [],
   "source": [
    "print (\"TOP 10 NOW: %f\" % (sum(hit_ratio_top_10)/len(hit_ratio_top_10)))\n",
    "print (\"TOP 5 NOW: %f\" % (sum(hit_ratio_top_5)/len(hit_ratio_top_5)))"
   ]
  },
  {
   "cell_type": "code",
   "execution_count": null,
   "metadata": {
    "collapsed": true,
    "scrolled": true
   },
   "outputs": [],
   "source": [
    "print (\"TOP 10 NEXT: %f\" % (sum(hit_ratio_top_10)/len(hit_ratio_top_10)))\n",
    "print (\"TOP 5 NEXT: %f\" % (sum(hit_ratio_top_5)/len(hit_ratio_top_5)))"
   ]
  },
  {
   "cell_type": "markdown",
   "metadata": {},
   "source": [
    "## upper quartile mean"
   ]
  },
  {
   "cell_type": "code",
   "execution_count": null,
   "metadata": {
    "collapsed": true
   },
   "outputs": [],
   "source": [
    "print (\"TOP 10 NOW: %f\" % (sum(hit_ratio_top_10)/len(hit_ratio_top_10)))\n",
    "print (\"TOP 5 NOW: %f\" % (sum(hit_ratio_top_5)/len(hit_ratio_top_5)))"
   ]
  },
  {
   "cell_type": "code",
   "execution_count": null,
   "metadata": {
    "collapsed": true
   },
   "outputs": [],
   "source": [
    "print (\"TOP 10 NEXT: %f\" % (sum(hit_ratio_top_10)/len(hit_ratio_top_10)))\n",
    "print (\"TOP 5 NEXT: %f\" % (sum(hit_ratio_top_5)/len(hit_ratio_top_5)))"
   ]
  },
  {
   "cell_type": "markdown",
   "metadata": {},
   "source": [
    "## Upper 85 mean"
   ]
  },
  {
   "cell_type": "code",
   "execution_count": null,
   "metadata": {
    "collapsed": true
   },
   "outputs": [],
   "source": [
    "print (\"TOP 10 NOW: %f\" % (sum(hit_ratio_top_10)/len(hit_ratio_top_10)))\n",
    "print (\"TOP 5 NOW: %f\" % (sum(hit_ratio_top_5)/len(hit_ratio_top_5)))"
   ]
  },
  {
   "cell_type": "code",
   "execution_count": null,
   "metadata": {
    "collapsed": true
   },
   "outputs": [],
   "source": [
    "print (\"TOP 10 NEXT: %f\" % (sum(hit_ratio_top_10)/len(hit_ratio_top_10)))\n",
    "print (\"TOP 5 NEXT: %f\" % (sum(hit_ratio_top_5)/len(hit_ratio_top_5)))"
   ]
  },
  {
   "cell_type": "markdown",
   "metadata": {},
   "source": [
    "# TOP N Ratio"
   ]
  },
  {
   "cell_type": "code",
   "execution_count": null,
   "metadata": {
    "collapsed": true
   },
   "outputs": [],
   "source": [
    "generator = train_test_split(df, user_time_interval)\n",
    "\n",
    "gt_list = []\n",
    "gtt = []\n",
    "while True:\n",
    "    try:\n",
    "        df_train, df_test_1, df_test_2 = next(generator)\n",
    "\n",
    "        test_data_2 = df_test_2.as_matrix()\n",
    "\n",
    "        user_test_matrix_2 = get_matrix(test_data_2)\n",
    "        \n",
    "        ground_truth_idx = np.count_nonzero(user_test_matrix_2, axis=0).argsort()[::-1][:30]\n",
    "        ground_truth = np.take(np.count_nonzero(user_test_matrix_2, axis=0), ground_truth_idx)\n",
    "        \n",
    "        ground_truth_rate = np.divide(sum(ground_truth), sum(np.count_nonzero(user_test_matrix_2, axis=0)))\n",
    "        gt_list.append(ground_truth_rate)\n",
    "        gtt.append(user_test_matrix_2.shape[0])\n",
    "    except StopIteration:\n",
    "        break\n"
   ]
  },
  {
   "cell_type": "markdown",
   "metadata": {},
   "source": [
    "## ITRI TOP N ratio"
   ]
  },
  {
   "cell_type": "code",
   "execution_count": null,
   "metadata": {
    "collapsed": true,
    "scrolled": true
   },
   "outputs": [],
   "source": [
    "plt.plot(range(len(gt_list)), gt_list, color='blue', label='in_ratios')\n",
    "plt.legend(loc=\"upper right\")\n",
    "plt.xlabel('Time')\n",
    "plt.title('top 30')\n",
    "plt.ylabel('ratio')\n",
    "plt.show()\n",
    "plt.gcf().clear()"
   ]
  },
  {
   "cell_type": "code",
   "execution_count": null,
   "metadata": {
    "collapsed": true,
    "scrolled": true
   },
   "outputs": [],
   "source": [
    "plt.plot(range(len(gt_list)), gt_list, color='blue', label='in_ratios')\n",
    "plt.legend(loc=\"upper right\")\n",
    "plt.xlabel('Time')\n",
    "plt.title('top 10')\n",
    "plt.ylabel('ratio')\n",
    "plt.show()\n",
    "plt.gcf().clear()"
   ]
  },
  {
   "cell_type": "markdown",
   "metadata": {},
   "source": [
    "## Netflix Top N ratio"
   ]
  },
  {
   "cell_type": "code",
   "execution_count": null,
   "metadata": {
    "collapsed": true
   },
   "outputs": [],
   "source": [
    "plt.plot(range(len(gt_list)), gt_list, color='blue', label='in_ratios')\n",
    "plt.legend(loc=\"upper right\")\n",
    "plt.xlabel('Time')\n",
    "plt.title('top 30')\n",
    "plt.ylabel('ratio')\n",
    "plt.show()\n",
    "plt.gcf().clear()"
   ]
  },
  {
   "cell_type": "code",
   "execution_count": null,
   "metadata": {
    "collapsed": true,
    "scrolled": true
   },
   "outputs": [],
   "source": [
    "plt.plot(range(len(gt_list)), gt_list, color='blue', label='in_ratios')\n",
    "plt.legend(loc=\"upper right\")\n",
    "plt.xlabel('Time')\n",
    "plt.title('top 10')\n",
    "plt.ylabel('ratio')\n",
    "plt.show()\n",
    "plt.gcf().clear()"
   ]
  },
  {
   "cell_type": "markdown",
   "metadata": {},
   "source": [
    "# Debug"
   ]
  },
  {
   "cell_type": "code",
   "execution_count": null,
   "metadata": {
    "collapsed": true
   },
   "outputs": [],
   "source": [
    "# from sklearn.model_selection import train_test_split\n",
    "\n",
    "df_train, df_test, _, _ = next(generator)\n",
    "\n",
    "train_data = df_train.as_matrix()\n",
    "test_data = df_test.as_matrix()\n",
    "\n",
    "user_train_rating = np.zeros((total_usr, total_item), dtype=np.float32)\n",
    "for line in train_data:\n",
    "    uid = user_map[line[0]]\n",
    "    iid = item_map[line[1]]\n",
    "    user_train_rating[uid, iid] = 1\n",
    "    \n",
    "item_train_rating = user_train_rating.T"
   ]
  },
  {
   "cell_type": "code",
   "execution_count": null,
   "metadata": {
    "collapsed": true
   },
   "outputs": [],
   "source": [
    "a = np.percentile(test_out, 75, axis=0)\n",
    "k = []\n",
    "for i in range(test_out.shape[1]):\n",
    "    k.append(np.mean([x for x in test_out.T[i] if x > a[i]]))"
   ]
  },
  {
   "cell_type": "code",
   "execution_count": null,
   "metadata": {
    "collapsed": true
   },
   "outputs": [],
   "source": [
    "print (len(sorted(k, reverse=True)))"
   ]
  },
  {
   "cell_type": "code",
   "execution_count": null,
   "metadata": {
    "collapsed": true
   },
   "outputs": [],
   "source": []
  }
 ],
 "metadata": {
  "kernelspec": {
   "display_name": "Python 3",
   "language": "python",
   "name": "python3"
  },
  "language_info": {
   "codemirror_mode": {
    "name": "ipython",
    "version": 3
   },
   "file_extension": ".py",
   "mimetype": "text/x-python",
   "name": "python",
   "nbconvert_exporter": "python",
   "pygments_lexer": "ipython3",
   "version": "3.6.2"
  }
 },
 "nbformat": 4,
 "nbformat_minor": 2
}
