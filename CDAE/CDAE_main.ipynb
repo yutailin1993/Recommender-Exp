{
 "cells": [
  {
   "cell_type": "code",
   "execution_count": 1,
   "metadata": {
    "scrolled": true
   },
   "outputs": [
    {
     "name": "stderr",
     "output_type": "stream",
     "text": [
      "/Users/larry/Py3/lib/python3.6/importlib/_bootstrap.py:205: RuntimeWarning: compiletime version 3.5 of module 'tensorflow.python.framework.fast_tensor_util' does not match runtime version 3.6\n",
      "  return f(*args, **kwds)\n"
     ]
    }
   ],
   "source": [
    "import numpy as np\n",
    "import pandas as pd\n",
    "import matplotlib.pyplot as plt\n",
    "import tensorflow as tf\n",
    "from CDAE import AutoEncoder\n",
    "from tqdm import trange\n",
    "from utils import *"
   ]
  },
  {
   "cell_type": "markdown",
   "metadata": {},
   "source": [
    "## Data preprocessing"
   ]
  },
  {
   "cell_type": "code",
   "execution_count": 3,
   "metadata": {
    "scrolled": true
   },
   "outputs": [
    {
     "name": "stdout",
     "output_type": "stream",
     "text": [
      "sparsity of ratings is 10.49%\n",
      "num. of users: 839, num. of items: 99\n"
     ]
    }
   ],
   "source": [
    "df = pd.read_csv('rating_data.csv')\n",
    "df['freq'] = df.groupby('uid')['uid'].transform('count')  # count frequncy by column's values\n",
    "df = df[df['freq'] > 5]  # remove row which corresponding frequence < 5\n",
    "df_array = df.as_matrix()\n",
    "\n",
    "userList = df['uid'].unique()\n",
    "itemList = df['iid'].unique()\n",
    "\n",
    "total_usr = len(df['uid'].unique())\n",
    "total_item = len(df['iid'].unique())\n",
    "\n",
    "user_map = {}\n",
    "for idx, usr in enumerate(userList):\n",
    "    user_map[usr] = idx\n",
    "\n",
    "item_map = {}\n",
    "for idx, item in enumerate(itemList):\n",
    "    item_map[item] = idx\n",
    "    \n",
    "\n",
    "sparsity = len(df)/(total_usr*total_item)\n",
    "print(\"sparsity of ratings is %.2f%%\" %(sparsity*100))\n",
    "print (\"num. of users: %d, num. of items: %d\" % (total_usr, total_item))"
   ]
  },
  {
   "cell_type": "code",
   "execution_count": 4,
   "metadata": {},
   "outputs": [],
   "source": [
    "# from sklearn.model_selection import train_test_split\n",
    "\n",
    "# train_data, test_data = train_test_split(df_array, test_size=0.2)\n",
    "\n",
    "user_rating = np.zeros((total_usr, total_item), dtype=np.float32)\n",
    "for line in df_array:\n",
    "    uid = user_map[line[0]]\n",
    "    iid = item_map[line[1]]\n",
    "    user_rating[uid, iid] = 1\n",
    "    \n",
    "item_rating = user_rating.T"
   ]
  },
  {
   "cell_type": "markdown",
   "metadata": {},
   "source": [
    "### Drop users' rating that less than 5"
   ]
  },
  {
   "cell_type": "markdown",
   "metadata": {},
   "source": [
    "a = [usr_idx for usr_idx in range(rating.shape[0]) if np.count_nonzero(rating[usr_idx]) < 8]\n",
    "rating = np.delete(rating, a, axis=0)\n",
    "a = [item_idx for item_idx in range(rating.shape[1]) if np.count_nonzero(rating.T[item_idx]) == 0]\n",
    "rating = np.delete(rating, a, axis=1)\n",
    "\n",
    "n_u = rating.shape[0]\n",
    "n_i = rating.shape[1]\n",
    "count = 0\n",
    "\n",
    "for line in rating:\n",
    "    count += np.count_nonzero(line)\n",
    "sparsity = count/(n_u*n_i)    \n",
    "print (\"new sparsity of ratings is %.2f%%\" % (sparsity*100))\n",
    "print (n_u, n_i)"
   ]
  },
  {
   "cell_type": "markdown",
   "metadata": {},
   "source": [
    "### Get ranking of rating and assign costs weight"
   ]
  },
  {
   "cell_type": "code",
   "execution_count": null,
   "metadata": {
    "collapsed": true
   },
   "outputs": [],
   "source": [
    "rank = []\n",
    "\n",
    "for idx, item_id in enumerate(range(user_rating.shape[1])):\n",
    "    rank.append(np.count_nonzero(user_rating.T[idx]))\n",
    "    \n",
    "rank = np.asarray(rank)\n",
    "rank = rank.argsort()[::-1]\n",
    "\n",
    "w = [1/x for x in range(1, total_item+1)]\n",
    "penalty_weights = np.zeros(shape=total_item, dtype=np.float32)\n",
    "\n",
    "for idx, item in enumerate(rank):\n",
    "    penalty_weights[item] = w[idx]"
   ]
  },
  {
   "cell_type": "markdown",
   "metadata": {},
   "source": [
    "## MAP@5 with various drop_rate"
   ]
  },
  {
   "cell_type": "markdown",
   "metadata": {
    "scrolled": false
   },
   "source": [
    "drop_rate = [0., 0.2, 0.4, 0.6, 0.8]\n",
    "mAP = []\n",
    "\n",
    "for rate in drop_rate:\n",
    "    tf.reset_default_graph()\n",
    "    sess = tf.Session()\n",
    "    X = tf.placeholder(tf.float32, shape=(1, n_i))\n",
    "    Y = tf.placeholder(tf.float32, shape=(1, n_i))\n",
    "\n",
    "    autoencoder = AutoEncoder(sess=sess, inputs=X, user_num=n_u, hidden_units=20,\n",
    "                              item_num=n_i, targets=Y, lr=0.01, epochs=50, dropout_rate=rate, \n",
    "                              cost_function='log_loss')\n",
    "    autoencoder.train(rating=rating)\n",
    "    ap = autoencoder.averagePrecision(rating)\n",
    "    mAP.append(sum(ap)/len(ap))"
   ]
  },
  {
   "cell_type": "markdown",
   "metadata": {
    "collapsed": true
   },
   "source": [
    "plt.bar(drop_rate, mAP, width=0.1, label='MAP')\n",
    "plt.legend(loc='upper left')\n",
    "plt.xticks(drop_rate)\n",
    "plt.xlabel('drop_rate')\n",
    "plt.ylabel('mAP')\n",
    "plt.show()"
   ]
  },
  {
   "cell_type": "markdown",
   "metadata": {},
   "source": [
    "# User Perspective"
   ]
  },
  {
   "cell_type": "markdown",
   "metadata": {},
   "source": [
    "## Build Model and Training"
   ]
  },
  {
   "cell_type": "code",
   "execution_count": 5,
   "metadata": {},
   "outputs": [
    {
     "name": "stderr",
     "output_type": "stream",
     "text": [
      "100%|██████████| 200/200 [01:43<00:00,  1.93it/s]\n"
     ]
    }
   ],
   "source": [
    "train_rating, train_indices, test_indices = gen_train_test(user_rating)\n",
    "\n",
    "tf.reset_default_graph()\n",
    "\n",
    "autoencoder = AutoEncoder(user_num=total_usr, item_num=total_item, mode='user', loss_function='log_loss',\n",
    "                          epochs=200)\n",
    "autoencoder.train(rating=train_rating,\n",
    "                  train_indices=train_indices,\n",
    "                  test_indices=test_indices)"
   ]
  },
  {
   "cell_type": "code",
   "execution_count": 6,
   "metadata": {
    "scrolled": false
   },
   "outputs": [
    {
     "data": {
      "image/png": "[encoded data removed]",
      "text/plain": [
       "<matplotlib.figure.Figure at 0x11d842e80>"
      ]
     },
     "metadata": {},
     "output_type": "display_data"
    }
   ],
   "source": [
    "train_loss = autoencoder.log['train_loss']\n",
    "\n",
    "plt.plot(range(len(train_loss)), train_loss, color='blue', label='Train loss')\n",
    "# plt.plot(range(len(test_loss)), test_loss, color='red', label='Test loss')\n",
    "plt.legend(loc=\"upper right\")\n",
    "plt.xlabel('#Epoch')\n",
    "plt.ylabel('Loss')\n",
    "plt.show()"
   ]
  },
  {
   "cell_type": "code",
   "execution_count": 7,
   "metadata": {
    "scrolled": true
   },
   "outputs": [
    {
     "data": {
      "image/png": "[encoded data removed]",
      "text/plain": [
       "<matplotlib.figure.Figure at 0x11d8ca6d8>"
      ]
     },
     "metadata": {},
     "output_type": "display_data"
    },
    {
     "name": "stdout",
     "output_type": "stream",
     "text": [
      "193 0.34136505098662395\n"
     ]
    }
   ],
   "source": [
    "test_ap = autoencoder.log['ap@5']\n",
    "\n",
    "plt.plot(range(len(test_ap)), test_ap, color='green', label='Test AP')\n",
    "# plt.plot(range(len(test_loss)), test_loss, color='red', label='Test loss')\n",
    "plt.legend(loc=\"upper right\")\n",
    "plt.title(\"Train 200 epoch\")\n",
    "plt.xlabel('#Epoch')\n",
    "plt.ylabel('AP')\n",
    "plt.show()\n",
    "\n",
    "print (test_ap.index(max(test_ap)), max(test_ap))"
   ]
  },
  {
   "cell_type": "code",
   "execution_count": 8,
   "metadata": {
    "scrolled": true
   },
   "outputs": [],
   "source": [
    "user_onehot_vectors = autoencoder.sess.run(autoencoder.vector_matrix)\n",
    "\n",
    "np.save('../data/class/user_onehot_vectors.npy', user_onehot_vectors)"
   ]
  },
  {
   "cell_type": "markdown",
   "metadata": {},
   "source": [
    "# Item Perspective"
   ]
  },
  {
   "cell_type": "code",
   "execution_count": 12,
   "metadata": {},
   "outputs": [
    {
     "name": "stderr",
     "output_type": "stream",
     "text": [
      "100%|██████████| 700/700 [00:50<00:00, 13.85it/s]\n"
     ]
    },
    {
     "data": {
      "image/png": "[encoded data removed]",
      "text/plain": [
       "<matplotlib.figure.Figure at 0x11e29bac8>"
      ]
     },
     "metadata": {},
     "output_type": "display_data"
    }
   ],
   "source": [
    "train_rating, train_indices, test_indices = gen_train_test(item_rating)\n",
    "\n",
    "tf.reset_default_graph()\n",
    "\n",
    "autoencoder = AutoEncoder(user_num=total_usr, item_num=total_item, mode='item', loss_function='log_loss',\n",
    "                          epochs=700)\n",
    "autoencoder.train(rating=train_rating,\n",
    "                  train_indices=train_indices,\n",
    "                  test_indices=test_indices)\n",
    "\n",
    "train_loss = autoencoder.log['train_loss']\n",
    "\n",
    "plt.plot(range(len(train_loss)), train_loss, color='blue', label='Train loss')\n",
    "# plt.plot(range(len(test_loss)), test_loss, color='red', label='Test loss')\n",
    "plt.legend(loc=\"upper right\")\n",
    "plt.xlabel('#Epoch')\n",
    "plt.ylabel('Loss')\n",
    "plt.show()"
   ]
  },
  {
   "cell_type": "code",
   "execution_count": 13,
   "metadata": {},
   "outputs": [
    {
     "data": {
      "image/png": "[encoded data removed]",
      "text/plain": [
       "<matplotlib.figure.Figure at 0x11d4c1f60>"
      ]
     },
     "metadata": {},
     "output_type": "display_data"
    },
    {
     "name": "stdout",
     "output_type": "stream",
     "text": [
      "660 0.45237373737373754\n"
     ]
    }
   ],
   "source": [
    "test_ap = autoencoder.log['ap@5']\n",
    "\n",
    "plt.plot(range(len(test_ap)), test_ap, color='green', label='Test AP')\n",
    "# plt.plot(range(len(test_loss)), test_loss, color='red', label='Test loss')\n",
    "plt.legend(loc=\"upper right\")\n",
    "plt.title(\"Train 5000 epoch\")\n",
    "plt.xlabel('#Epoch')\n",
    "plt.ylabel('AP')\n",
    "plt.show()\n",
    "\n",
    "print (test_ap.index(max(test_ap)), max(test_ap))"
   ]
  },
  {
   "cell_type": "code",
   "execution_count": 14,
   "metadata": {
    "collapsed": true
   },
   "outputs": [],
   "source": [
    "item_onehot_vectors = autoencoder.sess.run(autoencoder.vector_matrix)\n",
    "\n",
    "np.save('../data/class/item_onehot_vectors.npy', item_onehot_vectors)"
   ]
  },
  {
   "cell_type": "markdown",
   "metadata": {},
   "source": [
    "item_vectors = np.zeros(shape=(total_item, autoencoder.hidden_units), dtype=np.float32)\n",
    "for item in range(total_item):\n",
    "    code = autoencoder.code.eval(\n",
    "        session=autoencoder.sess,\n",
    "        feed_dict={\n",
    "            autoencoder.input: [item_rating[item]],\n",
    "            autoencoder.ident: item\n",
    "        })\n",
    "    \n",
    "    item_vectors[item] = code[0]\n",
    "    \n",
    "np.save('item_vectors.npy', item_vectors)"
   ]
  },
  {
   "cell_type": "markdown",
   "metadata": {},
   "source": [
    "print (item_vectors[3])"
   ]
  },
  {
   "cell_type": "markdown",
   "metadata": {
    "scrolled": true
   },
   "source": [
    "test_ap = autoencoder.log['ap@5']\n",
    "\n",
    "plt.plot(range(len(test_ap)), test_ap, color='green', label='Test AP')\n",
    "plt.plot(range(len(test_loss)), test_loss, color='red', label='Test loss')\n",
    "plt.legend(loc=\"upper right\")\n",
    "plt.title(\"Train 200 epoch\")\n",
    "plt.xlabel('#Epoch')\n",
    "plt.ylabel('AP')\n",
    "plt.show()"
   ]
  },
  {
   "cell_type": "markdown",
   "metadata": {},
   "source": [
    "## MAP@5"
   ]
  },
  {
   "cell_type": "code",
   "execution_count": null,
   "metadata": {
    "collapsed": true
   },
   "outputs": [],
   "source": [
    "recon = autoencoder.decode.eval(\n",
    "    session=autoencoder.sess,\n",
    "    feed_dict={\n",
    "        autoencoder.input: [train_rating[1]],\n",
    "        autoencoder.ident: 1\n",
    "    })\n",
    "\n",
    "print (recon)"
   ]
  },
  {
   "cell_type": "code",
   "execution_count": null,
   "metadata": {
    "collapsed": true
   },
   "outputs": [],
   "source": [
    "aps = []\n",
    "\n",
    "for usr in range(user_rating.shape[0]):\n",
    "    recon = autoencoder.decode.eval(\n",
    "        session=autoencoder.sess,\n",
    "        feed_dict={\n",
    "            autoencoder.input: [train_rating[usr]],\n",
    "            autoencoder.ident: usr\n",
    "        })\n",
    "    \n",
    "    top5 = get_topN(recon, train_indices[usr])\n",
    "    \n",
    "    aps.append(avg_precision(top5, test_indices[usr]))\n",
    "\n",
    "print (\"MAP: %f\" % (sum(aps)/len(aps)))"
   ]
  },
  {
   "cell_type": "markdown",
   "metadata": {},
   "source": [
    "## MAP@5 Top10 and HitRatio"
   ]
  },
  {
   "cell_type": "code",
   "execution_count": null,
   "metadata": {
    "collapsed": true
   },
   "outputs": [],
   "source": [
    "pop_top10 = rank[:10]\n",
    "pop_top20 = rank[:20]\n",
    "pop10_aps = []\n",
    "hit_rates_10 = []\n",
    "pop20_aps = []\n",
    "hit_rates_20 = []\n",
    "\n",
    "def hit_ratio(topN, indices):\n",
    "    N = len(topN)\n",
    "    hit_count = 0\n",
    "    \n",
    "    for i in range(N):\n",
    "        hit_count += 1 if topN[i] in indices else 0\n",
    "    \n",
    "    try:\n",
    "        return hit_count / min(N, len(indices))\n",
    "    except ZeroDivisionError:\n",
    "        return 0\n",
    "\n",
    "for usr in range(user_rating.shape[0]):\n",
    "    recon = autoencoder.decode.eval(\n",
    "        session=autoencoder.sess,\n",
    "        feed_dict={\n",
    "            autoencoder.input: [train_rating[usr]],\n",
    "            autoencoder.ident: usr\n",
    "        })\n",
    "    \n",
    "    top5 = get_topN(recon, train_indices[usr])\n",
    "    \n",
    "    pop10_top5 = [x for x in top5 if x in pop_top10]\n",
    "    pop10_test_index = [x for x in test_indices[usr] if x in pop_top10]\n",
    "    \n",
    "    pop20_top5 = [x for x in top5 if x in pop_top20]\n",
    "    pop20_test_index = [x for x in test_indices[usr] if x in pop_top20]\n",
    "    \n",
    "    rate_10 = hit_ratio(pop10_top5, pop10_test_index)\n",
    "    ap_10 = avg_precision(pop10_top5, pop10_test_index)\n",
    "    \n",
    "    rate_20 = hit_ratio(pop20_top5, pop20_test_index)\n",
    "    ap_20 = avg_precision(pop20_top5, pop20_test_index)\n",
    "    \n",
    "    if ap_10 <= 1:\n",
    "        pop10_aps.append(ap_10)\n",
    "        hit_rates_10.append(rate_10)\n",
    "        \n",
    "    if ap_20 <= 1:\n",
    "        pop20_aps.append(ap_20)\n",
    "        hit_rates_20.append(rate_20)\n",
    "\n",
    "\n",
    "print (\"MAP in Popular Top 10: {0:.3f}%\".format(sum(pop10_aps)/len(pop10_aps)*100))\n",
    "print (\"HIT_RATE in Popular Top 10: {0:.3f}%\".format(sum(hit_rates_10)/len(hit_rates_10)*100))\n",
    "print ()\n",
    "print (\"MAP in Popular Top 20: {0:.3f}%\".format(sum(pop20_aps)/len(pop20_aps)*100))\n",
    "print (\"HIT_RATE in Popular Top 20: {0:.3f}%\".format(sum(hit_rates_20)/len(hit_rates_20)*100))\n"
   ]
  },
  {
   "cell_type": "code",
   "execution_count": null,
   "metadata": {
    "collapsed": true
   },
   "outputs": [],
   "source": []
  }
 ],
 "metadata": {
  "kernelspec": {
   "display_name": "Python 3",
   "language": "python",
   "name": "python3"
  },
  "language_info": {
   "codemirror_mode": {
    "name": "ipython",
    "version": 3
   },
   "file_extension": ".py",
   "mimetype": "text/x-python",
   "name": "python",
   "nbconvert_exporter": "python",
   "pygments_lexer": "ipython3",
   "version": "3.6.2"
  }
 },
 "nbformat": 4,
 "nbformat_minor": 2
}
