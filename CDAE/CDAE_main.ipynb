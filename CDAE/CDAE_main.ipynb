{
 "cells": [
  {
   "cell_type": "code",
   "execution_count": 1,
   "metadata": {
    "scrolled": true
   },
   "outputs": [
    {
     "name": "stderr",
     "output_type": "stream",
     "text": [
      "/usr/lib/python3.6/importlib/_bootstrap.py:219: RuntimeWarning: compiletime version 3.5 of module 'tensorflow.python.framework.fast_tensor_util' does not match runtime version 3.6\n",
      "  return f(*args, **kwds)\n"
     ]
    }
   ],
   "source": [
    "import numpy as np\n",
    "import pandas as pd\n",
    "import matplotlib.pyplot as plt\n",
    "import tensorflow as tf\n",
    "from CDAE import AutoEncoder\n",
    "from tqdm import trange\n",
    "from utils import *\n",
    "from sklearn.cluster import KMeans, spectral_clustering\n",
    "from sklearn.decomposition import PCA"
   ]
  },
  {
   "cell_type": "markdown",
   "metadata": {},
   "source": [
    "## Data preprocessing"
   ]
  },
  {
   "cell_type": "code",
   "execution_count": 2,
   "metadata": {},
   "outputs": [],
   "source": [
    "import math\n",
    "def get_map(list_):\n",
    "    map_ = {}\n",
    "    for idx, ident in enumerate(list_):\n",
    "        map_[ident] = idx\n",
    "        \n",
    "    return map_\n",
    "\n",
    "def get_matrix(data):\n",
    "    matrix = np.zeros((total_usr, total_item), dtype=np.float32)\n",
    "    for line in data:\n",
    "        uid = user_map[line[0]]\n",
    "        iid = item_map[line[1]]\n",
    "        matrix[uid, iid] = 1\n",
    "    \n",
    "    return matrix"
   ]
  },
  {
   "cell_type": "code",
   "execution_count": 3,
   "metadata": {},
   "outputs": [],
   "source": [
    "userList = np.load('../data/netflix/netflix_userList.npy')\n",
    "itemList = np.load('../data/netflix/netflix_itemList.npy')\n",
    "\n",
    "total_usr = len(userList)\n",
    "total_item = len(itemList)\n",
    "\n",
    "user_map = get_map(userList)\n",
    "item_map = get_map(itemList)"
   ]
  },
  {
   "cell_type": "code",
   "execution_count": 4,
   "metadata": {},
   "outputs": [],
   "source": [
    "train_rating_all = np.load('../data/netflix/train_rating_all.npy')"
   ]
  },
  {
   "cell_type": "code",
   "execution_count": 5,
   "metadata": {},
   "outputs": [],
   "source": [
    "import pickle\n",
    "\n",
    "train_indices_all = None\n",
    "test_indices_all = None\n",
    "\n",
    "with open('../data/netflix/train_indices_all.pkl', 'rb') as train_indice_file:\n",
    "    train_indices_all = pickle.load(train_indice_file)\n",
    "    train_indice_file.close()\n",
    "    \n",
    "with open('../data/netflix/test_indices_all.pkl', 'rb') as test_indice_file:\n",
    "    test_indices_all = pickle.load(test_indice_file)\n",
    "    test_indice_file.close()"
   ]
  },
  {
   "cell_type": "markdown",
   "metadata": {},
   "source": [
    "df = pd.read_csv('../data/class/rating_data.csv')\n",
    "df['freq'] = df.groupby('uid')['uid'].transform('count')  # count frequncy by column's values\n",
    "df = df[df['freq'] > 5]  # remove row which corresponding frequence < 5\n",
    "df_array = df.as_matrix()\n",
    "\n",
    "userList = sorted(df['uid'].unique())\n",
    "itemList = sorted(df['iid'].unique())\n",
    "\n",
    "total_usr = len(df['uid'].unique())\n",
    "total_item = len(df['iid'].unique())\n",
    "\n",
    "user_map = get_map(userList)\n",
    "item_map = get_map(itemList)\n",
    "    \n",
    "\n",
    "sparsity = len(df)/(total_usr*total_item)\n",
    "print(\"sparsity of ratings is %.2f%%\" %(sparsity*100))\n",
    "print (\"num. of users: %d, num. of items: %d, num. of ratings: %d\" % (total_usr, total_item, len(df)))"
   ]
  },
  {
   "cell_type": "markdown",
   "metadata": {},
   "source": [
    "# Clustering"
   ]
  },
  {
   "cell_type": "code",
   "execution_count": 15,
   "metadata": {},
   "outputs": [
    {
     "data": {
      "text/plain": [
       "<matplotlib.figure.Figure at 0x7f1087d47588>"
      ]
     },
     "metadata": {},
     "output_type": "display_data"
    }
   ],
   "source": [
    "user_vectors = np.load('../data/netflix/user_vectors.npy')\n",
    "pca = PCA(n_components=2, svd_solver='full')\n",
    "pca_out = pca.fit_transform(user_vectors)\n",
    "colors = np.random.rand(len(pca_out[:, 0]))\n",
    "\n",
    "\n",
    "plt.scatter(pca_out[:, 0], pca_out[:, 1], c=colors, alpha=0.5)\n",
    "plt.savefig('figs/user_vecPCA_scatter.jpg')\n",
    "plt.gcf().clear()"
   ]
  },
  {
   "cell_type": "code",
   "execution_count": 28,
   "metadata": {
    "scrolled": true
   },
   "outputs": [
    {
     "data": {
      "text/plain": [
       "KMeans(algorithm='elkan', copy_x=True, init='k-means++', max_iter=300,\n",
       "    n_clusters=50, n_init=50, n_jobs=1, precompute_distances='auto',\n",
       "    random_state=None, tol=0.0001, verbose=0)"
      ]
     },
     "execution_count": 28,
     "metadata": {},
     "output_type": "execute_result"
    }
   ],
   "source": [
    "user_vectors = np.load('../data/netflix/user_vectors.npy')\n",
    "pca = PCA(n_components=10, svd_solver='full')\n",
    "pca_out = pca.fit_transform(user_vectors)\n",
    "NUM_CLUSTER = 50\n",
    "kmeans = KMeans(n_clusters=NUM_CLUSTER, n_init=50, algorithm='elkan')\n",
    "\n",
    "\n",
    "kmeans.fit(pca_out)"
   ]
  },
  {
   "cell_type": "code",
   "execution_count": 29,
   "metadata": {
    "scrolled": true
   },
   "outputs": [
    {
     "name": "stdout",
     "output_type": "stream",
     "text": [
      "{9: 5228, 40: 4973, 3: 5129, 25: 5166, 32: 5128, 22: 5072, 1: 5140, 11: 5174, 38: 5156, 48: 5214, 5: 5357, 2: 5135, 47: 5247, 37: 5333, 24: 5403, 7: 4987, 46: 5197, 34: 5138, 36: 5054, 43: 5211, 42: 5152, 12: 4991, 21: 5135, 18: 5187, 26: 5219, 31: 5574, 0: 5117, 35: 5057, 28: 5106, 16: 4909, 15: 5229, 33: 5179, 49: 5249, 29: 4953, 30: 5097, 20: 4966, 6: 5116, 14: 4925, 39: 5043, 8: 4969, 19: 5434, 17: 5324, 23: 5053, 10: 5324, 44: 5014, 41: 5136, 13: 5005, 45: 4857, 27: 4998, 4: 4923}\n"
     ]
    }
   ],
   "source": [
    "label_map = {}\n",
    "for i in kmeans.labels_:\n",
    "    if i not in label_map:\n",
    "        label_map[i] = 1\n",
    "    else:\n",
    "        label_map[i] += 1\n",
    "\n",
    "print (label_map)"
   ]
  },
  {
   "cell_type": "code",
   "execution_count": 30,
   "metadata": {},
   "outputs": [],
   "source": [
    "label_index = {}\n",
    "for i in range(NUM_CLUSTER):\n",
    "    label_index[i] = []\n",
    "    \n",
    "label_list = list(kmeans.labels_)\n",
    "\n",
    "for idx, i in enumerate(label_list):\n",
    "    label_index[i].append(idx)"
   ]
  },
  {
   "cell_type": "markdown",
   "metadata": {
    "collapsed": true
   },
   "source": [
    "rating = np.zeros((total_usr, total_item), dtype=np.int8)\n",
    "for line in df_array:\n",
    "    uid = user_map[line[0]]\n",
    "    iid = item_map[line[1]]\n",
    "    rating[uid, iid] = 1"
   ]
  },
  {
   "cell_type": "code",
   "execution_count": 31,
   "metadata": {
    "scrolled": true
   },
   "outputs": [
    {
     "name": "stdout",
     "output_type": "stream",
     "text": [
      "Cluster 0.\n",
      "INFO:tensorflow:Restoring parameters from model/cdae_0.ckpt\n"
     ]
    },
    {
     "name": "stderr",
     "output_type": "stream",
     "text": [
      "100%|██████████| 200/200 [04:03<00:00,  2.68it/s]\n"
     ]
    },
    {
     "name": "stdout",
     "output_type": "stream",
     "text": [
      "Cluster 1.\n",
      "INFO:tensorflow:Restoring parameters from model/cdae_0.ckpt\n"
     ]
    },
    {
     "name": "stderr",
     "output_type": "stream",
     "text": [
      "100%|██████████| 200/200 [03:55<00:00,  2.65it/s]\n"
     ]
    },
    {
     "name": "stdout",
     "output_type": "stream",
     "text": [
      "Cluster 2.\n",
      "INFO:tensorflow:Restoring parameters from model/cdae_0.ckpt\n"
     ]
    },
    {
     "name": "stderr",
     "output_type": "stream",
     "text": [
      "100%|██████████| 200/200 [03:54<00:00,  2.66it/s]\n"
     ]
    },
    {
     "name": "stdout",
     "output_type": "stream",
     "text": [
      "Cluster 3.\n",
      "INFO:tensorflow:Restoring parameters from model/cdae_0.ckpt\n"
     ]
    },
    {
     "name": "stderr",
     "output_type": "stream",
     "text": [
      "100%|██████████| 200/200 [03:57<00:00,  2.66it/s]\n"
     ]
    },
    {
     "name": "stdout",
     "output_type": "stream",
     "text": [
      "Cluster 4.\n",
      "INFO:tensorflow:Restoring parameters from model/cdae_0.ckpt\n"
     ]
    },
    {
     "name": "stderr",
     "output_type": "stream",
     "text": [
      "100%|██████████| 200/200 [03:54<00:00,  2.77it/s]\n"
     ]
    },
    {
     "name": "stdout",
     "output_type": "stream",
     "text": [
      "Cluster 5.\n",
      "INFO:tensorflow:Restoring parameters from model/cdae_0.ckpt\n"
     ]
    },
    {
     "name": "stderr",
     "output_type": "stream",
     "text": [
      "100%|██████████| 200/200 [04:05<00:00,  2.55it/s]\n"
     ]
    },
    {
     "name": "stdout",
     "output_type": "stream",
     "text": [
      "Cluster 6.\n",
      "INFO:tensorflow:Restoring parameters from model/cdae_0.ckpt\n"
     ]
    },
    {
     "name": "stderr",
     "output_type": "stream",
     "text": [
      "100%|██████████| 200/200 [03:53<00:00,  2.67it/s]\n"
     ]
    },
    {
     "name": "stdout",
     "output_type": "stream",
     "text": [
      "Cluster 7.\n",
      "INFO:tensorflow:Restoring parameters from model/cdae_0.ckpt\n"
     ]
    },
    {
     "name": "stderr",
     "output_type": "stream",
     "text": [
      "100%|██████████| 200/200 [03:58<00:00,  2.75it/s]\n"
     ]
    },
    {
     "name": "stdout",
     "output_type": "stream",
     "text": [
      "Cluster 8.\n",
      "INFO:tensorflow:Restoring parameters from model/cdae_0.ckpt\n"
     ]
    },
    {
     "name": "stderr",
     "output_type": "stream",
     "text": [
      "100%|██████████| 200/200 [03:49<00:00,  2.75it/s]\n"
     ]
    },
    {
     "name": "stdout",
     "output_type": "stream",
     "text": [
      "Cluster 9.\n",
      "INFO:tensorflow:Restoring parameters from model/cdae_0.ckpt\n"
     ]
    },
    {
     "name": "stderr",
     "output_type": "stream",
     "text": [
      "100%|██████████| 200/200 [04:06<00:00,  2.61it/s]\n"
     ]
    },
    {
     "name": "stdout",
     "output_type": "stream",
     "text": [
      "Cluster 10.\n",
      "INFO:tensorflow:Restoring parameters from model/cdae_0.ckpt\n"
     ]
    },
    {
     "name": "stderr",
     "output_type": "stream",
     "text": [
      "100%|██████████| 200/200 [04:07<00:00,  2.57it/s]\n"
     ]
    },
    {
     "name": "stdout",
     "output_type": "stream",
     "text": [
      "Cluster 11.\n",
      "INFO:tensorflow:Restoring parameters from model/cdae_0.ckpt\n"
     ]
    },
    {
     "name": "stderr",
     "output_type": "stream",
     "text": [
      "100%|██████████| 200/200 [04:02<00:00,  2.65it/s]\n"
     ]
    },
    {
     "name": "stdout",
     "output_type": "stream",
     "text": [
      "Cluster 12.\n",
      "INFO:tensorflow:Restoring parameters from model/cdae_0.ckpt\n"
     ]
    },
    {
     "name": "stderr",
     "output_type": "stream",
     "text": [
      "100%|██████████| 200/200 [03:55<00:00,  2.73it/s]\n"
     ]
    },
    {
     "name": "stdout",
     "output_type": "stream",
     "text": [
      "Cluster 13.\n",
      "INFO:tensorflow:Restoring parameters from model/cdae_0.ckpt\n"
     ]
    },
    {
     "name": "stderr",
     "output_type": "stream",
     "text": [
      "100%|██████████| 200/200 [04:02<00:00,  2.72it/s]\n"
     ]
    },
    {
     "name": "stdout",
     "output_type": "stream",
     "text": [
      "Cluster 14.\n",
      "INFO:tensorflow:Restoring parameters from model/cdae_0.ckpt\n"
     ]
    },
    {
     "name": "stderr",
     "output_type": "stream",
     "text": [
      "100%|██████████| 200/200 [03:44<00:00,  2.78it/s]\n"
     ]
    },
    {
     "name": "stdout",
     "output_type": "stream",
     "text": [
      "Cluster 15.\n",
      "INFO:tensorflow:Restoring parameters from model/cdae_0.ckpt\n"
     ]
    },
    {
     "name": "stderr",
     "output_type": "stream",
     "text": [
      "100%|██████████| 200/200 [04:01<00:00,  2.61it/s]\n"
     ]
    },
    {
     "name": "stdout",
     "output_type": "stream",
     "text": [
      "Cluster 16.\n",
      "INFO:tensorflow:Restoring parameters from model/cdae_0.ckpt\n"
     ]
    },
    {
     "name": "stderr",
     "output_type": "stream",
     "text": [
      "100%|██████████| 200/200 [03:45<00:00,  2.79it/s]\n"
     ]
    },
    {
     "name": "stdout",
     "output_type": "stream",
     "text": [
      "Cluster 17.\n",
      "INFO:tensorflow:Restoring parameters from model/cdae_0.ckpt\n"
     ]
    },
    {
     "name": "stderr",
     "output_type": "stream",
     "text": [
      "100%|██████████| 200/200 [04:03<00:00,  2.56it/s]\n"
     ]
    },
    {
     "name": "stdout",
     "output_type": "stream",
     "text": [
      "Cluster 18.\n",
      "INFO:tensorflow:Restoring parameters from model/cdae_0.ckpt\n"
     ]
    },
    {
     "name": "stderr",
     "output_type": "stream",
     "text": [
      "100%|██████████| 200/200 [04:03<00:00,  2.61it/s]\n"
     ]
    },
    {
     "name": "stdout",
     "output_type": "stream",
     "text": [
      "Cluster 19.\n",
      "INFO:tensorflow:Restoring parameters from model/cdae_0.ckpt\n"
     ]
    },
    {
     "name": "stderr",
     "output_type": "stream",
     "text": [
      "100%|██████████| 200/200 [04:14<00:00,  2.53it/s]\n"
     ]
    },
    {
     "name": "stdout",
     "output_type": "stream",
     "text": [
      "Cluster 20.\n",
      "INFO:tensorflow:Restoring parameters from model/cdae_0.ckpt\n"
     ]
    },
    {
     "name": "stderr",
     "output_type": "stream",
     "text": [
      "100%|██████████| 200/200 [03:51<00:00,  2.71it/s]\n"
     ]
    },
    {
     "name": "stdout",
     "output_type": "stream",
     "text": [
      "Cluster 21.\n",
      "INFO:tensorflow:Restoring parameters from model/cdae_0.ckpt\n"
     ]
    },
    {
     "name": "stderr",
     "output_type": "stream",
     "text": [
      "100%|██████████| 200/200 [04:01<00:00,  2.66it/s]\n"
     ]
    },
    {
     "name": "stdout",
     "output_type": "stream",
     "text": [
      "Cluster 22.\n",
      "INFO:tensorflow:Restoring parameters from model/cdae_0.ckpt\n"
     ]
    },
    {
     "name": "stderr",
     "output_type": "stream",
     "text": [
      "100%|██████████| 200/200 [03:55<00:00,  2.68it/s]\n"
     ]
    },
    {
     "name": "stdout",
     "output_type": "stream",
     "text": [
      "Cluster 23.\n",
      "INFO:tensorflow:Restoring parameters from model/cdae_0.ckpt\n"
     ]
    },
    {
     "name": "stderr",
     "output_type": "stream",
     "text": [
      "100%|██████████| 200/200 [04:02<00:00,  2.70it/s]\n"
     ]
    },
    {
     "name": "stdout",
     "output_type": "stream",
     "text": [
      "Cluster 24.\n",
      "INFO:tensorflow:Restoring parameters from model/cdae_0.ckpt\n"
     ]
    },
    {
     "name": "stderr",
     "output_type": "stream",
     "text": [
      "100%|██████████| 200/200 [04:11<00:00,  2.53it/s]\n"
     ]
    },
    {
     "name": "stdout",
     "output_type": "stream",
     "text": [
      "Cluster 25.\n",
      "INFO:tensorflow:Restoring parameters from model/cdae_0.ckpt\n"
     ]
    },
    {
     "name": "stderr",
     "output_type": "stream",
     "text": [
      "100%|██████████| 200/200 [04:06<00:00,  2.65it/s]\n"
     ]
    },
    {
     "name": "stdout",
     "output_type": "stream",
     "text": [
      "Cluster 26.\n",
      "INFO:tensorflow:Restoring parameters from model/cdae_0.ckpt\n"
     ]
    },
    {
     "name": "stderr",
     "output_type": "stream",
     "text": [
      "100%|██████████| 200/200 [04:08<00:00,  2.63it/s]\n"
     ]
    },
    {
     "name": "stdout",
     "output_type": "stream",
     "text": [
      "Cluster 27.\n",
      "INFO:tensorflow:Restoring parameters from model/cdae_0.ckpt\n"
     ]
    },
    {
     "name": "stderr",
     "output_type": "stream",
     "text": [
      "100%|██████████| 200/200 [03:49<00:00,  2.73it/s]\n"
     ]
    },
    {
     "name": "stdout",
     "output_type": "stream",
     "text": [
      "Cluster 28.\n",
      "INFO:tensorflow:Restoring parameters from model/cdae_0.ckpt\n"
     ]
    },
    {
     "name": "stderr",
     "output_type": "stream",
     "text": [
      "100%|██████████| 200/200 [04:04<00:00,  2.66it/s]\n"
     ]
    },
    {
     "name": "stdout",
     "output_type": "stream",
     "text": [
      "Cluster 29.\n",
      "INFO:tensorflow:Restoring parameters from model/cdae_0.ckpt\n"
     ]
    },
    {
     "name": "stderr",
     "output_type": "stream",
     "text": [
      "100%|██████████| 200/200 [03:57<00:00,  2.75it/s]\n"
     ]
    },
    {
     "name": "stdout",
     "output_type": "stream",
     "text": [
      "Cluster 30.\n",
      "INFO:tensorflow:Restoring parameters from model/cdae_0.ckpt\n"
     ]
    },
    {
     "name": "stderr",
     "output_type": "stream",
     "text": [
      "100%|██████████| 200/200 [03:56<00:00,  2.68it/s]\n"
     ]
    },
    {
     "name": "stdout",
     "output_type": "stream",
     "text": [
      "Cluster 31.\n",
      "INFO:tensorflow:Restoring parameters from model/cdae_0.ckpt\n"
     ]
    },
    {
     "name": "stderr",
     "output_type": "stream",
     "text": [
      "100%|██████████| 200/200 [04:23<00:00,  2.45it/s]\n"
     ]
    },
    {
     "name": "stdout",
     "output_type": "stream",
     "text": [
      "Cluster 32.\n",
      "INFO:tensorflow:Restoring parameters from model/cdae_0.ckpt\n"
     ]
    },
    {
     "name": "stderr",
     "output_type": "stream",
     "text": [
      "100%|██████████| 200/200 [04:01<00:00,  2.66it/s]\n"
     ]
    },
    {
     "name": "stdout",
     "output_type": "stream",
     "text": [
      "Cluster 33.\n",
      "INFO:tensorflow:Restoring parameters from model/cdae_0.ckpt\n"
     ]
    },
    {
     "name": "stderr",
     "output_type": "stream",
     "text": [
      "100%|██████████| 200/200 [04:02<00:00,  2.64it/s]\n"
     ]
    },
    {
     "name": "stdout",
     "output_type": "stream",
     "text": [
      "Cluster 34.\n",
      "INFO:tensorflow:Restoring parameters from model/cdae_0.ckpt\n"
     ]
    },
    {
     "name": "stderr",
     "output_type": "stream",
     "text": [
      "100%|██████████| 200/200 [04:02<00:00,  2.66it/s]\n"
     ]
    },
    {
     "name": "stdout",
     "output_type": "stream",
     "text": [
      "Cluster 35.\n",
      "INFO:tensorflow:Restoring parameters from model/cdae_0.ckpt\n"
     ]
    },
    {
     "name": "stderr",
     "output_type": "stream",
     "text": [
      "100%|██████████| 200/200 [03:53<00:00,  2.69it/s]\n"
     ]
    },
    {
     "name": "stdout",
     "output_type": "stream",
     "text": [
      "Cluster 36.\n",
      "INFO:tensorflow:Restoring parameters from model/cdae_0.ckpt\n"
     ]
    },
    {
     "name": "stderr",
     "output_type": "stream",
     "text": [
      "100%|██████████| 200/200 [03:54<00:00,  2.71it/s]\n"
     ]
    },
    {
     "name": "stdout",
     "output_type": "stream",
     "text": [
      "Cluster 37.\n",
      "INFO:tensorflow:Restoring parameters from model/cdae_0.ckpt\n"
     ]
    },
    {
     "name": "stderr",
     "output_type": "stream",
     "text": [
      "100%|██████████| 200/200 [04:05<00:00,  2.56it/s]\n"
     ]
    },
    {
     "name": "stdout",
     "output_type": "stream",
     "text": [
      "Cluster 38.\n",
      "INFO:tensorflow:Restoring parameters from model/cdae_0.ckpt\n"
     ]
    },
    {
     "name": "stderr",
     "output_type": "stream",
     "text": [
      "100%|██████████| 200/200 [04:02<00:00,  2.65it/s]\n"
     ]
    },
    {
     "name": "stdout",
     "output_type": "stream",
     "text": [
      "Cluster 39.\n",
      "INFO:tensorflow:Restoring parameters from model/cdae_0.ckpt\n"
     ]
    },
    {
     "name": "stderr",
     "output_type": "stream",
     "text": [
      "100%|██████████| 200/200 [03:43<00:00,  2.73it/s]\n"
     ]
    },
    {
     "name": "stdout",
     "output_type": "stream",
     "text": [
      "Cluster 40.\n",
      "INFO:tensorflow:Restoring parameters from model/cdae_0.ckpt\n"
     ]
    },
    {
     "name": "stderr",
     "output_type": "stream",
     "text": [
      "100%|██████████| 200/200 [03:58<00:00,  2.75it/s]\n"
     ]
    },
    {
     "name": "stdout",
     "output_type": "stream",
     "text": [
      "Cluster 41.\n",
      "INFO:tensorflow:Restoring parameters from model/cdae_0.ckpt\n"
     ]
    },
    {
     "name": "stderr",
     "output_type": "stream",
     "text": [
      "100%|██████████| 200/200 [03:57<00:00,  2.67it/s]\n"
     ]
    },
    {
     "name": "stdout",
     "output_type": "stream",
     "text": [
      "Cluster 42.\n",
      "INFO:tensorflow:Restoring parameters from model/cdae_0.ckpt\n"
     ]
    },
    {
     "name": "stderr",
     "output_type": "stream",
     "text": [
      "100%|██████████| 200/200 [03:48<00:00,  2.65it/s]\n"
     ]
    },
    {
     "name": "stdout",
     "output_type": "stream",
     "text": [
      "Cluster 43.\n",
      "INFO:tensorflow:Restoring parameters from model/cdae_0.ckpt\n"
     ]
    },
    {
     "name": "stderr",
     "output_type": "stream",
     "text": [
      "100%|██████████| 200/200 [03:57<00:00,  2.61it/s]\n"
     ]
    },
    {
     "name": "stdout",
     "output_type": "stream",
     "text": [
      "Cluster 44.\n",
      "INFO:tensorflow:Restoring parameters from model/cdae_0.ckpt\n"
     ]
    },
    {
     "name": "stderr",
     "output_type": "stream",
     "text": [
      "100%|██████████| 200/200 [03:54<00:00,  2.73it/s]\n"
     ]
    },
    {
     "name": "stdout",
     "output_type": "stream",
     "text": [
      "Cluster 45.\n",
      "INFO:tensorflow:Restoring parameters from model/cdae_0.ckpt\n"
     ]
    },
    {
     "name": "stderr",
     "output_type": "stream",
     "text": [
      "100%|██████████| 200/200 [03:40<00:00,  2.81it/s]\n"
     ]
    },
    {
     "name": "stdout",
     "output_type": "stream",
     "text": [
      "Cluster 46.\n",
      "INFO:tensorflow:Restoring parameters from model/cdae_0.ckpt\n"
     ]
    },
    {
     "name": "stderr",
     "output_type": "stream",
     "text": [
      "100%|██████████| 200/200 [04:03<00:00,  2.62it/s]\n"
     ]
    },
    {
     "name": "stdout",
     "output_type": "stream",
     "text": [
      "Cluster 47.\n",
      "INFO:tensorflow:Restoring parameters from model/cdae_0.ckpt\n"
     ]
    },
    {
     "name": "stderr",
     "output_type": "stream",
     "text": [
      "100%|██████████| 200/200 [04:08<00:00,  2.60it/s]\n"
     ]
    },
    {
     "name": "stdout",
     "output_type": "stream",
     "text": [
      "Cluster 48.\n",
      "INFO:tensorflow:Restoring parameters from model/cdae_0.ckpt\n"
     ]
    },
    {
     "name": "stderr",
     "output_type": "stream",
     "text": [
      "100%|██████████| 200/200 [04:07<00:00,  2.62it/s]\n"
     ]
    },
    {
     "name": "stdout",
     "output_type": "stream",
     "text": [
      "Cluster 49.\n",
      "INFO:tensorflow:Restoring parameters from model/cdae_0.ckpt\n"
     ]
    },
    {
     "name": "stderr",
     "output_type": "stream",
     "text": [
      "100%|██████████| 200/200 [04:04<00:00,  2.57it/s]\n"
     ]
    },
    {
     "data": {
      "text/plain": [
       "<matplotlib.figure.Figure at 0x7f0f6d7c2048>"
      ]
     },
     "metadata": {},
     "output_type": "display_data"
    }
   ],
   "source": [
    "test_aps_5 = []\n",
    "test_aps_10 = []\n",
    "test_rec_5 = []\n",
    "test_rec_10 = []\n",
    "\n",
    "for i in range(NUM_CLUSTER):\n",
    "    print (\"Cluster %d.\" % (i))\n",
    "    train_rating = np.take(train_rating_all, label_index[i], axis=0)\n",
    "    train_user = label_index[i]\n",
    "    # train_rating, train_indices, test_indices = gen_train_test(rating_n)\n",
    "    # train_rating = np.take(rating, label_index[i], axis=0)\n",
    "    train_indices = np.take(train_indices_all, label_index[i])\n",
    "    test_indices = np.take(test_indices_all, label_index[i])\n",
    "    \n",
    "    tf.reset_default_graph()\n",
    "\n",
    "    autoencoder = AutoEncoder(user_num=total_usr, item_num=total_item, mode='user', loss_function='cross_entropy',\n",
    "                              batch_size=64, epochs=200)\n",
    "    autoencoder.model_load(0)\n",
    "    autoencoder.train(rating=train_rating,\n",
    "                      train_idents=train_user,\n",
    "                      train_indices=train_indices,\n",
    "                      test_indices=test_indices)\n",
    "    \n",
    "    \"\"\"autoencoder.train(rating=rating,\n",
    "                     train_idents=train_user)\"\"\"\n",
    "    \n",
    "    test_ap_5 = autoencoder.log['ap@5']\n",
    "    test_ap_10 = autoencoder.log['ap@10']\n",
    "    recs_5 = autoencoder.log['recall@5']\n",
    "    recs_10 = autoencoder.log['recall@10']\n",
    "    train_loss = autoencoder.log['train_loss']\n",
    "    \n",
    "    # top_N_ap = sorted(test_ap,reverse=True)[:20]\n",
    "    # test_aps.append(np.mean(top_N_ap))\n",
    "    \n",
    "    test_aps_5.append(max(test_ap_5))\n",
    "    test_aps_10.append(max(test_ap_10))\n",
    "    test_rec_5.append(max(recs_5))\n",
    "    test_rec_10.append(max(recs_10))\n",
    "    \n",
    "    plt.plot(range(len(test_ap_10)), test_ap_10, color='green', label='Test AP')\n",
    "    # plt.plot(range(len(test_loss)), test_loss, color='red', label='Test loss')\n",
    "    plt.legend(loc=\"upper right\")\n",
    "    plt.title(\"Train 200 epoch\")\n",
    "    plt.xlabel('#Epoch')\n",
    "    plt.ylabel('AP_10')\n",
    "    plt.savefig('./figs/test_ap_cluster_%d.jpg' % (i))\n",
    "    plt.gcf().clear()\n",
    "    \n",
    "    plt.plot(range(len(train_loss)), train_loss, color='blue', label='Train Loss')\n",
    "    # plt.plot(range(len(test_loss)), test_loss, color='red', label='Test loss')\n",
    "    plt.legend(loc=\"upper right\")\n",
    "    plt.title(\"Train 500 epoch\")\n",
    "    plt.xlabel('#Epoch')\n",
    "    plt.ylabel('Loss')\n",
    "    plt.savefig('./figs/train_loss_cluster_%d.jpg' % (i))\n",
    "    plt.gcf().clear()\n",
    "    "
   ]
  },
  {
   "cell_type": "code",
   "execution_count": 32,
   "metadata": {
    "scrolled": true
   },
   "outputs": [
    {
     "name": "stdout",
     "output_type": "stream",
     "text": [
      "Cluster 0, aps: 0.158188, num: 5117, weighted ap: 809.448332\n",
      "Cluster 1, aps: 0.137365, num: 5140, weighted ap: 706.057263\n",
      "Cluster 2, aps: 0.136240, num: 5135, weighted ap: 699.592462\n",
      "Cluster 3, aps: 0.142868, num: 5129, weighted ap: 732.771136\n",
      "Cluster 4, aps: 0.157882, num: 4923, weighted ap: 777.253245\n",
      "Cluster 5, aps: 0.136853, num: 5357, weighted ap: 733.123268\n",
      "Cluster 6, aps: 0.132288, num: 5116, weighted ap: 676.783516\n",
      "Cluster 7, aps: 0.156449, num: 4987, weighted ap: 780.212048\n",
      "Cluster 8, aps: 0.142600, num: 4969, weighted ap: 708.578740\n",
      "Cluster 9, aps: 0.149470, num: 5228, weighted ap: 781.430293\n",
      "Cluster 10, aps: 0.145626, num: 5324, weighted ap: 775.315203\n",
      "Cluster 11, aps: 0.149073, num: 5174, weighted ap: 771.301620\n",
      "Cluster 12, aps: 0.149169, num: 4991, weighted ap: 744.503794\n",
      "Cluster 13, aps: 0.163814, num: 5005, weighted ap: 819.890091\n",
      "Cluster 14, aps: 0.133772, num: 4925, weighted ap: 658.825297\n",
      "Cluster 15, aps: 0.140143, num: 5229, weighted ap: 732.807211\n",
      "Cluster 16, aps: 0.135928, num: 4909, weighted ap: 667.272767\n",
      "Cluster 17, aps: 0.128421, num: 5324, weighted ap: 683.714321\n",
      "Cluster 18, aps: 0.157890, num: 5187, weighted ap: 818.976475\n",
      "Cluster 19, aps: 0.150585, num: 5434, weighted ap: 818.279363\n",
      "Cluster 20, aps: 0.146583, num: 4966, weighted ap: 727.932694\n",
      "Cluster 21, aps: 0.145951, num: 5135, weighted ap: 749.460602\n",
      "Cluster 22, aps: 0.141594, num: 5072, weighted ap: 718.163500\n",
      "Cluster 23, aps: 0.159545, num: 5053, weighted ap: 806.180600\n",
      "Cluster 24, aps: 0.146055, num: 5403, weighted ap: 789.132894\n",
      "Cluster 25, aps: 0.159714, num: 5166, weighted ap: 825.083261\n",
      "Cluster 26, aps: 0.154506, num: 5219, weighted ap: 806.367891\n",
      "Cluster 27, aps: 0.141124, num: 4998, weighted ap: 705.339235\n",
      "Cluster 28, aps: 0.155862, num: 5106, weighted ap: 795.831266\n",
      "Cluster 29, aps: 0.158058, num: 4953, weighted ap: 782.859089\n",
      "Cluster 30, aps: 0.144404, num: 5097, weighted ap: 736.027892\n",
      "Cluster 31, aps: 0.147438, num: 5574, weighted ap: 821.820804\n",
      "Cluster 32, aps: 0.144749, num: 5128, weighted ap: 742.274043\n",
      "Cluster 33, aps: 0.151082, num: 5179, weighted ap: 782.454420\n",
      "Cluster 34, aps: 0.151300, num: 5138, weighted ap: 777.379459\n",
      "Cluster 35, aps: 0.141143, num: 5057, weighted ap: 713.758018\n",
      "Cluster 36, aps: 0.140866, num: 5054, weighted ap: 711.934720\n",
      "Cluster 37, aps: 0.143066, num: 5333, weighted ap: 762.969602\n",
      "Cluster 38, aps: 0.147265, num: 5156, weighted ap: 759.296221\n",
      "Cluster 39, aps: 0.118508, num: 5043, weighted ap: 597.635345\n",
      "Cluster 40, aps: 0.163433, num: 4973, weighted ap: 812.750336\n",
      "Cluster 41, aps: 0.142912, num: 5136, weighted ap: 733.996883\n",
      "Cluster 42, aps: 0.118929, num: 5152, weighted ap: 612.720947\n",
      "Cluster 43, aps: 0.135397, num: 5211, weighted ap: 705.554994\n",
      "Cluster 44, aps: 0.149925, num: 5014, weighted ap: 751.724659\n",
      "Cluster 45, aps: 0.138981, num: 4857, weighted ap: 675.029240\n",
      "Cluster 46, aps: 0.149848, num: 5197, weighted ap: 778.759044\n",
      "Cluster 47, aps: 0.152665, num: 5247, weighted ap: 801.034372\n",
      "Cluster 48, aps: 0.155268, num: 5214, weighted ap: 809.569320\n",
      "Cluster 49, aps: 0.141901, num: 5249, weighted ap: 744.840215\n",
      "Over all average ap: 0.145838\n"
     ]
    }
   ],
   "source": [
    "ap_5 = 0\n",
    "\n",
    "for i in range(NUM_CLUSTER):\n",
    "    num = label_map[i]\n",
    "    \n",
    "    ap_5 += test_aps_5[i] * num\n",
    "    print (\"Cluster %d, aps: %f, num: %d, weighted ap: %f\" % (i, test_aps_5[i], num, test_aps_5[i]*num))\n",
    "    \n",
    "ap_5 = ap_5 / (total_usr)\n",
    "\n",
    "print (\"Over all average ap: %f\" % (ap_5))"
   ]
  },
  {
   "cell_type": "code",
   "execution_count": 33,
   "metadata": {},
   "outputs": [
    {
     "name": "stdout",
     "output_type": "stream",
     "text": [
      "Cluster 0, aps: 0.119008, num: 5117, weighted ap: 608.965040\n",
      "Cluster 1, aps: 0.101743, num: 5140, weighted ap: 522.958865\n",
      "Cluster 2, aps: 0.100316, num: 5135, weighted ap: 515.121336\n",
      "Cluster 3, aps: 0.107061, num: 5129, weighted ap: 549.116244\n",
      "Cluster 4, aps: 0.117617, num: 4923, weighted ap: 579.027734\n",
      "Cluster 5, aps: 0.099945, num: 5357, weighted ap: 535.407748\n",
      "Cluster 6, aps: 0.097201, num: 5116, weighted ap: 497.280561\n",
      "Cluster 7, aps: 0.116240, num: 4987, weighted ap: 579.686391\n",
      "Cluster 8, aps: 0.105860, num: 4969, weighted ap: 526.020069\n",
      "Cluster 9, aps: 0.108676, num: 5228, weighted ap: 568.157687\n",
      "Cluster 10, aps: 0.109352, num: 5324, weighted ap: 582.188159\n",
      "Cluster 11, aps: 0.111508, num: 5174, weighted ap: 576.944110\n",
      "Cluster 12, aps: 0.108920, num: 4991, weighted ap: 543.620213\n",
      "Cluster 13, aps: 0.122930, num: 5005, weighted ap: 615.265712\n",
      "Cluster 14, aps: 0.098964, num: 4925, weighted ap: 487.398146\n",
      "Cluster 15, aps: 0.102995, num: 5229, weighted ap: 538.559729\n",
      "Cluster 16, aps: 0.101100, num: 4909, weighted ap: 496.300512\n",
      "Cluster 17, aps: 0.093565, num: 5324, weighted ap: 498.138144\n",
      "Cluster 18, aps: 0.117777, num: 5187, weighted ap: 610.909215\n",
      "Cluster 19, aps: 0.112324, num: 5434, weighted ap: 610.368164\n",
      "Cluster 20, aps: 0.108910, num: 4966, weighted ap: 540.846966\n",
      "Cluster 21, aps: 0.108198, num: 5135, weighted ap: 555.596111\n",
      "Cluster 22, aps: 0.105056, num: 5072, weighted ap: 532.843075\n",
      "Cluster 23, aps: 0.117843, num: 5053, weighted ap: 595.460755\n",
      "Cluster 24, aps: 0.109181, num: 5403, weighted ap: 589.907143\n",
      "Cluster 25, aps: 0.118388, num: 5166, weighted ap: 611.592503\n",
      "Cluster 26, aps: 0.115501, num: 5219, weighted ap: 602.800115\n",
      "Cluster 27, aps: 0.103365, num: 4998, weighted ap: 516.616086\n",
      "Cluster 28, aps: 0.116754, num: 5106, weighted ap: 596.145551\n",
      "Cluster 29, aps: 0.118574, num: 4953, weighted ap: 587.297735\n",
      "Cluster 30, aps: 0.107239, num: 5097, weighted ap: 546.598948\n",
      "Cluster 31, aps: 0.108498, num: 5574, weighted ap: 604.766456\n",
      "Cluster 32, aps: 0.107180, num: 5128, weighted ap: 549.616715\n",
      "Cluster 33, aps: 0.112442, num: 5179, weighted ap: 582.334612\n",
      "Cluster 34, aps: 0.111657, num: 5138, weighted ap: 573.692851\n",
      "Cluster 35, aps: 0.104453, num: 5057, weighted ap: 528.216749\n",
      "Cluster 36, aps: 0.104754, num: 5054, weighted ap: 529.426392\n",
      "Cluster 37, aps: 0.108272, num: 5333, weighted ap: 577.415787\n",
      "Cluster 38, aps: 0.108342, num: 5156, weighted ap: 558.610490\n",
      "Cluster 39, aps: 0.088227, num: 5043, weighted ap: 444.927302\n",
      "Cluster 40, aps: 0.121773, num: 4973, weighted ap: 605.579492\n",
      "Cluster 41, aps: 0.106464, num: 5136, weighted ap: 546.799290\n",
      "Cluster 42, aps: 0.087556, num: 5152, weighted ap: 451.090340\n",
      "Cluster 43, aps: 0.099508, num: 5211, weighted ap: 518.537917\n",
      "Cluster 44, aps: 0.110741, num: 5014, weighted ap: 555.254474\n",
      "Cluster 45, aps: 0.102999, num: 4857, weighted ap: 500.267784\n",
      "Cluster 46, aps: 0.111232, num: 5197, weighted ap: 578.074827\n",
      "Cluster 47, aps: 0.114145, num: 5247, weighted ap: 598.916592\n",
      "Cluster 48, aps: 0.114779, num: 5214, weighted ap: 598.458756\n",
      "Cluster 49, aps: 0.105631, num: 5249, weighted ap: 554.458014\n",
      "Over all average ap: 0.108202\n"
     ]
    }
   ],
   "source": [
    "ap_10 = 0\n",
    "\n",
    "for i in range(NUM_CLUSTER):\n",
    "    num = label_map[i]\n",
    "    \n",
    "    ap_10 += test_aps_10[i] * num\n",
    "    print (\"Cluster %d, aps: %f, num: %d, weighted ap: %f\" % (i, test_aps_10[i], num, test_aps_10[i]*num))\n",
    "    \n",
    "ap_10 = ap_10 / (total_usr)\n",
    "\n",
    "print (\"Over all average ap: %f\" % (ap_10))"
   ]
  },
  {
   "cell_type": "code",
   "execution_count": 34,
   "metadata": {},
   "outputs": [
    {
     "name": "stdout",
     "output_type": "stream",
     "text": [
      "Cluster 0, aps: 0.237175, num: 5117, weighted ap: 1213.626179\n",
      "Cluster 1, aps: 0.206389, num: 5140, weighted ap: 1060.838889\n",
      "Cluster 2, aps: 0.206854, num: 5135, weighted ap: 1062.197467\n",
      "Cluster 3, aps: 0.214789, num: 5129, weighted ap: 1101.653266\n",
      "Cluster 4, aps: 0.234416, num: 4923, weighted ap: 1154.031308\n",
      "Cluster 5, aps: 0.207086, num: 5357, weighted ap: 1109.358703\n",
      "Cluster 6, aps: 0.201146, num: 5116, weighted ap: 1029.062083\n",
      "Cluster 7, aps: 0.231050, num: 4987, weighted ap: 1152.244752\n",
      "Cluster 8, aps: 0.212417, num: 4969, weighted ap: 1055.499776\n",
      "Cluster 9, aps: 0.222072, num: 5228, weighted ap: 1160.994914\n",
      "Cluster 10, aps: 0.215600, num: 5324, weighted ap: 1147.855456\n",
      "Cluster 11, aps: 0.220745, num: 5174, weighted ap: 1142.133293\n",
      "Cluster 12, aps: 0.223434, num: 4991, weighted ap: 1115.157519\n",
      "Cluster 13, aps: 0.242323, num: 5005, weighted ap: 1212.826147\n",
      "Cluster 14, aps: 0.201189, num: 4925, weighted ap: 990.855450\n",
      "Cluster 15, aps: 0.211525, num: 5229, weighted ap: 1106.065465\n",
      "Cluster 16, aps: 0.204514, num: 4909, weighted ap: 1003.958681\n",
      "Cluster 17, aps: 0.194048, num: 5324, weighted ap: 1033.109524\n",
      "Cluster 18, aps: 0.232254, num: 5187, weighted ap: 1204.699200\n",
      "Cluster 19, aps: 0.220739, num: 5434, weighted ap: 1199.496255\n",
      "Cluster 20, aps: 0.220764, num: 4966, weighted ap: 1096.312774\n",
      "Cluster 21, aps: 0.217749, num: 5135, weighted ap: 1118.143609\n",
      "Cluster 22, aps: 0.211602, num: 5072, weighted ap: 1073.243125\n",
      "Cluster 23, aps: 0.235308, num: 5053, weighted ap: 1189.012108\n",
      "Cluster 24, aps: 0.218777, num: 5403, weighted ap: 1182.053391\n",
      "Cluster 25, aps: 0.234766, num: 5166, weighted ap: 1212.800302\n",
      "Cluster 26, aps: 0.228595, num: 5219, weighted ap: 1193.039305\n",
      "Cluster 27, aps: 0.208004, num: 4998, weighted ap: 1039.602453\n",
      "Cluster 28, aps: 0.231819, num: 5106, weighted ap: 1183.666537\n",
      "Cluster 29, aps: 0.235288, num: 4953, weighted ap: 1165.383750\n",
      "Cluster 30, aps: 0.215732, num: 5097, weighted ap: 1099.584512\n",
      "Cluster 31, aps: 0.221674, num: 5574, weighted ap: 1235.609588\n",
      "Cluster 32, aps: 0.217284, num: 5128, weighted ap: 1114.232099\n",
      "Cluster 33, aps: 0.222931, num: 5179, weighted ap: 1154.559921\n",
      "Cluster 34, aps: 0.222951, num: 5138, weighted ap: 1145.522034\n",
      "Cluster 35, aps: 0.212266, num: 5057, weighted ap: 1073.427266\n",
      "Cluster 36, aps: 0.211050, num: 5054, weighted ap: 1066.648867\n",
      "Cluster 37, aps: 0.213806, num: 5333, weighted ap: 1140.225406\n",
      "Cluster 38, aps: 0.219397, num: 5156, weighted ap: 1131.212431\n",
      "Cluster 39, aps: 0.180785, num: 5043, weighted ap: 911.696859\n",
      "Cluster 40, aps: 0.239428, num: 4973, weighted ap: 1190.673099\n",
      "Cluster 41, aps: 0.213426, num: 5136, weighted ap: 1096.155556\n",
      "Cluster 42, aps: 0.180556, num: 5152, weighted ap: 930.222222\n",
      "Cluster 43, aps: 0.201619, num: 5211, weighted ap: 1050.636395\n",
      "Cluster 44, aps: 0.223069, num: 5014, weighted ap: 1118.467470\n",
      "Cluster 45, aps: 0.207700, num: 4857, weighted ap: 1008.798732\n",
      "Cluster 46, aps: 0.222306, num: 5197, weighted ap: 1155.323936\n",
      "Cluster 47, aps: 0.228357, num: 5247, weighted ap: 1198.187516\n",
      "Cluster 48, aps: 0.230602, num: 5214, weighted ap: 1202.359527\n",
      "Cluster 49, aps: 0.215776, num: 5249, weighted ap: 1132.606137\n",
      "Over all average ap: 0.217642\n"
     ]
    }
   ],
   "source": [
    "recall_5 = 0\n",
    "\n",
    "for i in range(NUM_CLUSTER):\n",
    "    num = label_map[i]\n",
    "    \n",
    "    recall_5 += test_rec_5[i] * num\n",
    "    print (\"Cluster %d, aps: %f, num: %d, weighted ap: %f\" % (i, test_rec_5[i], num, test_rec_5[i]*num))\n",
    "    \n",
    "recall_5 = recall_5 / (total_usr)\n",
    "\n",
    "print (\"Over all average ap: %f\" % (recall_5))"
   ]
  },
  {
   "cell_type": "code",
   "execution_count": 35,
   "metadata": {},
   "outputs": [
    {
     "name": "stdout",
     "output_type": "stream",
     "text": [
      "Cluster 0, aps: 0.206464, num: 5117, weighted ap: 1056.475690\n",
      "Cluster 1, aps: 0.180764, num: 5140, weighted ap: 929.126389\n",
      "Cluster 2, aps: 0.178489, num: 5135, weighted ap: 916.540709\n",
      "Cluster 3, aps: 0.188782, num: 5129, weighted ap: 968.261450\n",
      "Cluster 4, aps: 0.203605, num: 4923, weighted ap: 1002.349769\n",
      "Cluster 5, aps: 0.178364, num: 5357, weighted ap: 955.497744\n",
      "Cluster 6, aps: 0.175587, num: 5116, weighted ap: 898.304318\n",
      "Cluster 7, aps: 0.201313, num: 4987, weighted ap: 1003.949366\n",
      "Cluster 8, aps: 0.185447, num: 4969, weighted ap: 921.485939\n",
      "Cluster 9, aps: 0.188995, num: 5228, weighted ap: 988.065556\n",
      "Cluster 10, aps: 0.190166, num: 5324, weighted ap: 1012.444692\n",
      "Cluster 11, aps: 0.192919, num: 5174, weighted ap: 998.163402\n",
      "Cluster 12, aps: 0.191075, num: 4991, weighted ap: 953.656544\n",
      "Cluster 13, aps: 0.210828, num: 5005, weighted ap: 1055.193928\n",
      "Cluster 14, aps: 0.178243, num: 4925, weighted ap: 877.845600\n",
      "Cluster 15, aps: 0.182643, num: 5229, weighted ap: 955.038678\n",
      "Cluster 16, aps: 0.178435, num: 4909, weighted ap: 875.936406\n",
      "Cluster 17, aps: 0.166574, num: 5324, weighted ap: 886.838170\n",
      "Cluster 18, aps: 0.201385, num: 5187, weighted ap: 1044.582203\n",
      "Cluster 19, aps: 0.194556, num: 5434, weighted ap: 1057.215425\n",
      "Cluster 20, aps: 0.189637, num: 4966, weighted ap: 941.737856\n",
      "Cluster 21, aps: 0.188750, num: 5135, weighted ap: 969.231250\n",
      "Cluster 22, aps: 0.183574, num: 5072, weighted ap: 931.088438\n",
      "Cluster 23, aps: 0.202032, num: 5053, weighted ap: 1020.869313\n",
      "Cluster 24, aps: 0.191176, num: 5403, weighted ap: 1032.926471\n",
      "Cluster 25, aps: 0.202929, num: 5166, weighted ap: 1048.329891\n",
      "Cluster 26, aps: 0.199801, num: 5219, weighted ap: 1042.760064\n",
      "Cluster 27, aps: 0.179773, num: 4998, weighted ap: 898.506487\n",
      "Cluster 28, aps: 0.201090, num: 5106, weighted ap: 1026.764742\n",
      "Cluster 29, aps: 0.204768, num: 4953, weighted ap: 1014.214062\n",
      "Cluster 30, aps: 0.188358, num: 5097, weighted ap: 960.060450\n",
      "Cluster 31, aps: 0.190939, num: 5574, weighted ap: 1064.292223\n",
      "Cluster 32, aps: 0.190258, num: 5128, weighted ap: 975.645525\n",
      "Cluster 33, aps: 0.195209, num: 5179, weighted ap: 1010.988361\n",
      "Cluster 34, aps: 0.191399, num: 5138, weighted ap: 983.406769\n",
      "Cluster 35, aps: 0.183730, num: 5057, weighted ap: 929.124980\n",
      "Cluster 36, aps: 0.184977, num: 5054, weighted ap: 934.871982\n",
      "Cluster 37, aps: 0.190350, num: 5333, weighted ap: 1015.134018\n",
      "Cluster 38, aps: 0.189622, num: 5156, weighted ap: 977.690586\n",
      "Cluster 39, aps: 0.161756, num: 5043, weighted ap: 815.734430\n",
      "Cluster 40, aps: 0.206794, num: 4973, weighted ap: 1028.386470\n",
      "Cluster 41, aps: 0.188291, num: 5136, weighted ap: 967.062037\n",
      "Cluster 42, aps: 0.158931, num: 5152, weighted ap: 818.814198\n",
      "Cluster 43, aps: 0.175146, num: 5211, weighted ap: 912.686261\n",
      "Cluster 44, aps: 0.193128, num: 5014, weighted ap: 968.343175\n",
      "Cluster 45, aps: 0.180858, num: 4857, weighted ap: 878.428729\n",
      "Cluster 46, aps: 0.193867, num: 5197, weighted ap: 1007.528154\n",
      "Cluster 47, aps: 0.200247, num: 5247, weighted ap: 1050.693404\n",
      "Cluster 48, aps: 0.197148, num: 5214, weighted ap: 1027.930297\n",
      "Cluster 49, aps: 0.189175, num: 5249, weighted ap: 992.981947\n",
      "Over all average ap: 0.189351\n"
     ]
    }
   ],
   "source": [
    "recall_10 = 0\n",
    "\n",
    "for i in range(NUM_CLUSTER):\n",
    "    num = label_map[i]\n",
    "    \n",
    "    recall_10 += test_rec_10[i] * num\n",
    "    print (\"Cluster %d, aps: %f, num: %d, weighted ap: %f\" % (i, test_rec_10[i], num, test_rec_10[i]*num))\n",
    "    \n",
    "recall_10 = recall_10 / (total_usr)\n",
    "\n",
    "print (\"Over all average ap: %f\" % (recall_10))"
   ]
  },
  {
   "cell_type": "markdown",
   "metadata": {},
   "source": [
    "# Old"
   ]
  },
  {
   "cell_type": "markdown",
   "metadata": {},
   "source": [
    "### For netflix huge dataset"
   ]
  },
  {
   "cell_type": "markdown",
   "metadata": {
    "collapsed": true
   },
   "source": [
    "user_train_rating = np.load('../data/netflix/rating_matrix_CDAE.npy')"
   ]
  },
  {
   "cell_type": "markdown",
   "metadata": {},
   "source": [
    "train_rating_all, train_indices_all, test_indices_all = gen_train_test(user_train_rating)"
   ]
  },
  {
   "cell_type": "markdown",
   "metadata": {},
   "source": [
    "import pickle\n",
    "\n",
    "np.save('../data/netflix/train_rating_all.npy', train_rating_all)\n",
    "\n",
    "with open('../data/netflix/train_indices_all.pkl', 'wb') as train_indice_file:\n",
    "    pickle.dump(train_indices_all, train_indice_file)\n",
    "    \n",
    "with open('../data/netflix/test_indices_all.pkl', 'wb') as test_indice_file:\n",
    "    pickle.dump(test_indices_all, test_indice_file)"
   ]
  },
  {
   "cell_type": "markdown",
   "metadata": {},
   "source": [
    "### For others"
   ]
  },
  {
   "cell_type": "markdown",
   "metadata": {},
   "source": [
    "train_data = df.as_matrix()\n",
    "\n",
    "user_train_rating = np.zeros((total_usr, total_item), dtype=np.int32)\n",
    "\n",
    "for line in train_data:\n",
    "    uid = user_map[line[0]]\n",
    "    iid = item_map[line[1]]\n",
    "    user_train_rating[uid, iid] = 1"
   ]
  },
  {
   "cell_type": "markdown",
   "metadata": {},
   "source": [
    "## Build Model and Training"
   ]
  },
  {
   "cell_type": "code",
   "execution_count": 6,
   "metadata": {},
   "outputs": [
    {
     "name": "stderr",
     "output_type": "stream",
     "text": [
      "100%|██████████| 200/200 [3:16:52<00:00, 18.85s/it]   \n"
     ]
    }
   ],
   "source": [
    "# train_rating_all, train_indices_all, test_indices_all = gen_train_test(user_train_rating)\n",
    "\n",
    "tf.reset_default_graph()\n",
    "\n",
    "train_user_all = np.nonzero(np.count_nonzero(train_rating_all, axis=1))[0]\n",
    "\n",
    "autoencoder = AutoEncoder(user_num=total_usr, item_num=total_item, mode='user', loss_function='cross_entropy',\n",
    "                          batch_size=100, epochs=200)\n",
    "\n",
    "\n",
    "autoencoder.train(rating=train_rating_all,\n",
    "                  train_idents=train_user_all,\n",
    "                  train_indices=train_indices_all,\n",
    "                  test_indices=test_indices_all)\n",
    "\n",
    "autoencoder.model_save(0)"
   ]
  },
  {
   "cell_type": "code",
   "execution_count": 7,
   "metadata": {
    "scrolled": false
   },
   "outputs": [
    {
     "data": {
      "image/png": "[encoded data removed]",
      "text/plain": [
       "<matplotlib.figure.Figure at 0x7f1087166748>"
      ]
     },
     "metadata": {},
     "output_type": "display_data"
    }
   ],
   "source": [
    "train_loss = autoencoder.log['train_loss']\n",
    "\n",
    "plt.plot(range(len(train_loss)), train_loss, color='blue', label='Train loss')\n",
    "# plt.plot(range(len(test_loss)), test_loss, color='red', label='Test loss')\n",
    "plt.legend(loc=\"upper right\")\n",
    "plt.xlabel('#Epoch')\n",
    "plt.ylabel('Loss')\n",
    "plt.show()"
   ]
  },
  {
   "cell_type": "code",
   "execution_count": 8,
   "metadata": {
    "scrolled": false
   },
   "outputs": [
    {
     "data": {
      "image/png": "[encoded data removed]",
      "text/plain": [
       "<matplotlib.figure.Figure at 0x7f0f2fe55b70>"
      ]
     },
     "metadata": {},
     "output_type": "display_data"
    },
    {
     "name": "stdout",
     "output_type": "stream",
     "text": [
      "0.14626234599480878\n"
     ]
    }
   ],
   "source": [
    "test_ap = autoencoder.log['ap@5']\n",
    "\n",
    "top_N_ap = sorted(test_ap,reverse=True)[:20]\n",
    "\n",
    "plt.plot(range(5, (len(test_ap)+1)*5, 5), test_ap, color='green', label='Test AP')\n",
    "# plt.plot(range(len(test_loss)), test_loss, color='red', label='Test loss')\n",
    "plt.legend(loc=\"upper right\")\n",
    "plt.title(\"Train 200 epoch\")\n",
    "plt.xlabel('#Epoch')\n",
    "plt.ylabel('AP')\n",
    "plt.show()\n",
    "\n",
    "# print (np.mean(top_N_ap))\n",
    "\n",
    "print (max(test_ap))"
   ]
  },
  {
   "cell_type": "code",
   "execution_count": 10,
   "metadata": {},
   "outputs": [
    {
     "data": {
      "image/png": "[encoded data removed]",
      "text/plain": [
       "<matplotlib.figure.Figure at 0x7f0f8531ee48>"
      ]
     },
     "metadata": {},
     "output_type": "display_data"
    },
    {
     "name": "stdout",
     "output_type": "stream",
     "text": [
      "0.2182329943067956\n"
     ]
    }
   ],
   "source": [
    "test_recall = autoencoder.log['recall@5']\n",
    "\n",
    "plt.plot(range(20, (len(test_recall)+1)*20, 20), test_recall, color='green', label='Test Recall')\n",
    "# plt.plot(range(len(test_loss)), test_loss, color='red', label='Test loss')\n",
    "plt.legend(loc=\"upper right\")\n",
    "plt.title(\"Train 200 epoch\")\n",
    "plt.xlabel('#Epoch')\n",
    "plt.ylabel('Recall')\n",
    "plt.show()\n",
    "\n",
    "# print (np.mean(top_N_ap))\n",
    "\n",
    "print (max(test_recall))"
   ]
  },
  {
   "cell_type": "code",
   "execution_count": 11,
   "metadata": {
    "scrolled": true
   },
   "outputs": [
    {
     "data": {
      "image/png": "[encoded data removed]",
      "text/plain": [
       "<matplotlib.figure.Figure at 0x7f0f96698c18>"
      ]
     },
     "metadata": {},
     "output_type": "display_data"
    },
    {
     "name": "stdout",
     "output_type": "stream",
     "text": [
      "0.189307390841121\n"
     ]
    }
   ],
   "source": [
    "test_recall = autoencoder.log['recall@10']\n",
    "\n",
    "plt.plot(range(20, (len(test_recall)+1)*20, 20), test_recall, color='green', label='Test Recall')\n",
    "# plt.plot(range(len(test_loss)), test_loss, color='red', label='Test loss')\n",
    "plt.legend(loc=\"upper right\")\n",
    "plt.title(\"Train 200 epoch\")\n",
    "plt.xlabel('#Epoch')\n",
    "plt.ylabel('Recall')\n",
    "plt.show()\n",
    "\n",
    "# print (np.mean(top_N_ap))\n",
    "\n",
    "print (max(test_recall))"
   ]
  },
  {
   "cell_type": "code",
   "execution_count": 24,
   "metadata": {
    "scrolled": true
   },
   "outputs": [
    {
     "name": "stdout",
     "output_type": "stream",
     "text": [
      "INFO:tensorflow:Restoring parameters from model/cdae_0.ckpt\n"
     ]
    }
   ],
   "source": [
    "tf.reset_default_graph()\n",
    "autoencoder = AutoEncoder(user_num=total_usr, item_num=total_item, mode='user', loss_function='cross_entropy',\n",
    "                          batch_size=100, epochs=1000)\n",
    "autoencoder.model_load(0)"
   ]
  },
  {
   "cell_type": "code",
   "execution_count": 25,
   "metadata": {},
   "outputs": [],
   "source": [
    "user_onehot_vectors = autoencoder.sess.run(autoencoder.vector_matrix)\n",
    "u_vectors = np.load('../data/netflix/user_vectors.npy')"
   ]
  },
  {
   "cell_type": "code",
   "execution_count": 26,
   "metadata": {},
   "outputs": [],
   "source": [
    "feature_vectors = np.zeros((total_usr, 20), dtype=np.float32)\n",
    "for i in range(total_usr):\n",
    "    feature_vectors[i] = autoencoder.sess.run(\n",
    "        autoencoder.encode,\n",
    "        feed_dict={\n",
    "            autoencoder.input: [train_rating_all[i]],\n",
    "            autoencoder.ident: [i]\n",
    "        })\n",
    "    \n",
    "np.save('../data/netflix/feature_vectors.npy', feature_vectors)"
   ]
  },
  {
   "cell_type": "code",
   "execution_count": null,
   "metadata": {
    "scrolled": true
   },
   "outputs": [],
   "source": [
    "user_onehot_vectors = autoencoder.sess.run(autoencoder.vector_matrix)\n",
    "\n",
    "np.save('../data/netflix/user_vectors.npy', user_onehot_vectors)"
   ]
  },
  {
   "cell_type": "code",
   "execution_count": null,
   "metadata": {},
   "outputs": [],
   "source": []
  }
 ],
 "metadata": {
  "kernelspec": {
   "display_name": "Python 3",
   "language": "python",
   "name": "python3"
  },
  "language_info": {
   "codemirror_mode": {
    "name": "ipython",
    "version": 3
   },
   "file_extension": ".py",
   "mimetype": "text/x-python",
   "name": "python",
   "nbconvert_exporter": "python",
   "pygments_lexer": "ipython3",
   "version": "3.6.3"
  }
 },
 "nbformat": 4,
 "nbformat_minor": 2
}
